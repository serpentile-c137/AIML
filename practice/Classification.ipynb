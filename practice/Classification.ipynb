{
 "cells": [
  {
   "cell_type": "code",
   "execution_count": 105,
   "metadata": {},
   "outputs": [],
   "source": [
    "import pandas as pd\n",
    "import numpy as np\n",
    "import matplotlib.pyplot as plt\n",
    "import seaborn as sns\n",
    "plt.style.use('ggplot')"
   ]
  },
  {
   "cell_type": "code",
   "execution_count": 106,
   "metadata": {},
   "outputs": [],
   "source": [
    "url = 'https://raw.githubusercontent.com/datasciencedojo/datasets/refs/heads/master/titanic.csv'\n",
    "df = pd.read_csv(url)"
   ]
  },
  {
   "cell_type": "code",
   "execution_count": 107,
   "metadata": {},
   "outputs": [
    {
     "data": {
      "text/html": [
       "<div>\n",
       "<style scoped>\n",
       "    .dataframe tbody tr th:only-of-type {\n",
       "        vertical-align: middle;\n",
       "    }\n",
       "\n",
       "    .dataframe tbody tr th {\n",
       "        vertical-align: top;\n",
       "    }\n",
       "\n",
       "    .dataframe thead th {\n",
       "        text-align: right;\n",
       "    }\n",
       "</style>\n",
       "<table border=\"1\" class=\"dataframe\">\n",
       "  <thead>\n",
       "    <tr style=\"text-align: right;\">\n",
       "      <th></th>\n",
       "      <th>PassengerId</th>\n",
       "      <th>Survived</th>\n",
       "      <th>Pclass</th>\n",
       "      <th>Name</th>\n",
       "      <th>Sex</th>\n",
       "      <th>Age</th>\n",
       "      <th>SibSp</th>\n",
       "      <th>Parch</th>\n",
       "      <th>Ticket</th>\n",
       "      <th>Fare</th>\n",
       "      <th>Cabin</th>\n",
       "      <th>Embarked</th>\n",
       "    </tr>\n",
       "  </thead>\n",
       "  <tbody>\n",
       "    <tr>\n",
       "      <th>0</th>\n",
       "      <td>1</td>\n",
       "      <td>0</td>\n",
       "      <td>3</td>\n",
       "      <td>Braund, Mr. Owen Harris</td>\n",
       "      <td>male</td>\n",
       "      <td>22.0</td>\n",
       "      <td>1</td>\n",
       "      <td>0</td>\n",
       "      <td>A/5 21171</td>\n",
       "      <td>7.2500</td>\n",
       "      <td>NaN</td>\n",
       "      <td>S</td>\n",
       "    </tr>\n",
       "    <tr>\n",
       "      <th>1</th>\n",
       "      <td>2</td>\n",
       "      <td>1</td>\n",
       "      <td>1</td>\n",
       "      <td>Cumings, Mrs. John Bradley (Florence Briggs Th...</td>\n",
       "      <td>female</td>\n",
       "      <td>38.0</td>\n",
       "      <td>1</td>\n",
       "      <td>0</td>\n",
       "      <td>PC 17599</td>\n",
       "      <td>71.2833</td>\n",
       "      <td>C85</td>\n",
       "      <td>C</td>\n",
       "    </tr>\n",
       "    <tr>\n",
       "      <th>2</th>\n",
       "      <td>3</td>\n",
       "      <td>1</td>\n",
       "      <td>3</td>\n",
       "      <td>Heikkinen, Miss. Laina</td>\n",
       "      <td>female</td>\n",
       "      <td>26.0</td>\n",
       "      <td>0</td>\n",
       "      <td>0</td>\n",
       "      <td>STON/O2. 3101282</td>\n",
       "      <td>7.9250</td>\n",
       "      <td>NaN</td>\n",
       "      <td>S</td>\n",
       "    </tr>\n",
       "    <tr>\n",
       "      <th>3</th>\n",
       "      <td>4</td>\n",
       "      <td>1</td>\n",
       "      <td>1</td>\n",
       "      <td>Futrelle, Mrs. Jacques Heath (Lily May Peel)</td>\n",
       "      <td>female</td>\n",
       "      <td>35.0</td>\n",
       "      <td>1</td>\n",
       "      <td>0</td>\n",
       "      <td>113803</td>\n",
       "      <td>53.1000</td>\n",
       "      <td>C123</td>\n",
       "      <td>S</td>\n",
       "    </tr>\n",
       "    <tr>\n",
       "      <th>4</th>\n",
       "      <td>5</td>\n",
       "      <td>0</td>\n",
       "      <td>3</td>\n",
       "      <td>Allen, Mr. William Henry</td>\n",
       "      <td>male</td>\n",
       "      <td>35.0</td>\n",
       "      <td>0</td>\n",
       "      <td>0</td>\n",
       "      <td>373450</td>\n",
       "      <td>8.0500</td>\n",
       "      <td>NaN</td>\n",
       "      <td>S</td>\n",
       "    </tr>\n",
       "  </tbody>\n",
       "</table>\n",
       "</div>"
      ],
      "text/plain": [
       "   PassengerId  Survived  Pclass  \\\n",
       "0            1         0       3   \n",
       "1            2         1       1   \n",
       "2            3         1       3   \n",
       "3            4         1       1   \n",
       "4            5         0       3   \n",
       "\n",
       "                                                Name     Sex   Age  SibSp  \\\n",
       "0                            Braund, Mr. Owen Harris    male  22.0      1   \n",
       "1  Cumings, Mrs. John Bradley (Florence Briggs Th...  female  38.0      1   \n",
       "2                             Heikkinen, Miss. Laina  female  26.0      0   \n",
       "3       Futrelle, Mrs. Jacques Heath (Lily May Peel)  female  35.0      1   \n",
       "4                           Allen, Mr. William Henry    male  35.0      0   \n",
       "\n",
       "   Parch            Ticket     Fare Cabin Embarked  \n",
       "0      0         A/5 21171   7.2500   NaN        S  \n",
       "1      0          PC 17599  71.2833   C85        C  \n",
       "2      0  STON/O2. 3101282   7.9250   NaN        S  \n",
       "3      0            113803  53.1000  C123        S  \n",
       "4      0            373450   8.0500   NaN        S  "
      ]
     },
     "execution_count": 107,
     "metadata": {},
     "output_type": "execute_result"
    }
   ],
   "source": [
    "df.head()"
   ]
  },
  {
   "cell_type": "code",
   "execution_count": 108,
   "metadata": {},
   "outputs": [
    {
     "name": "stdout",
     "output_type": "stream",
     "text": [
      "<class 'pandas.core.frame.DataFrame'>\n",
      "RangeIndex: 891 entries, 0 to 890\n",
      "Data columns (total 12 columns):\n",
      " #   Column       Non-Null Count  Dtype  \n",
      "---  ------       --------------  -----  \n",
      " 0   PassengerId  891 non-null    int64  \n",
      " 1   Survived     891 non-null    int64  \n",
      " 2   Pclass       891 non-null    int64  \n",
      " 3   Name         891 non-null    object \n",
      " 4   Sex          891 non-null    object \n",
      " 5   Age          714 non-null    float64\n",
      " 6   SibSp        891 non-null    int64  \n",
      " 7   Parch        891 non-null    int64  \n",
      " 8   Ticket       891 non-null    object \n",
      " 9   Fare         891 non-null    float64\n",
      " 10  Cabin        204 non-null    object \n",
      " 11  Embarked     889 non-null    object \n",
      "dtypes: float64(2), int64(5), object(5)\n",
      "memory usage: 83.7+ KB\n"
     ]
    }
   ],
   "source": [
    "df.info()"
   ]
  },
  {
   "cell_type": "markdown",
   "metadata": {},
   "source": [
    "### Step1: remove unwanted columns"
   ]
  },
  {
   "cell_type": "code",
   "execution_count": 109,
   "metadata": {},
   "outputs": [
    {
     "data": {
      "text/html": [
       "<div>\n",
       "<style scoped>\n",
       "    .dataframe tbody tr th:only-of-type {\n",
       "        vertical-align: middle;\n",
       "    }\n",
       "\n",
       "    .dataframe tbody tr th {\n",
       "        vertical-align: top;\n",
       "    }\n",
       "\n",
       "    .dataframe thead th {\n",
       "        text-align: right;\n",
       "    }\n",
       "</style>\n",
       "<table border=\"1\" class=\"dataframe\">\n",
       "  <thead>\n",
       "    <tr style=\"text-align: right;\">\n",
       "      <th></th>\n",
       "      <th>Survived</th>\n",
       "      <th>Pclass</th>\n",
       "      <th>Sex</th>\n",
       "      <th>Age</th>\n",
       "      <th>SibSp</th>\n",
       "      <th>Parch</th>\n",
       "      <th>Fare</th>\n",
       "      <th>Embarked</th>\n",
       "    </tr>\n",
       "  </thead>\n",
       "  <tbody>\n",
       "    <tr>\n",
       "      <th>0</th>\n",
       "      <td>0</td>\n",
       "      <td>3</td>\n",
       "      <td>male</td>\n",
       "      <td>22.0</td>\n",
       "      <td>1</td>\n",
       "      <td>0</td>\n",
       "      <td>7.2500</td>\n",
       "      <td>S</td>\n",
       "    </tr>\n",
       "    <tr>\n",
       "      <th>1</th>\n",
       "      <td>1</td>\n",
       "      <td>1</td>\n",
       "      <td>female</td>\n",
       "      <td>38.0</td>\n",
       "      <td>1</td>\n",
       "      <td>0</td>\n",
       "      <td>71.2833</td>\n",
       "      <td>C</td>\n",
       "    </tr>\n",
       "    <tr>\n",
       "      <th>2</th>\n",
       "      <td>1</td>\n",
       "      <td>3</td>\n",
       "      <td>female</td>\n",
       "      <td>26.0</td>\n",
       "      <td>0</td>\n",
       "      <td>0</td>\n",
       "      <td>7.9250</td>\n",
       "      <td>S</td>\n",
       "    </tr>\n",
       "    <tr>\n",
       "      <th>3</th>\n",
       "      <td>1</td>\n",
       "      <td>1</td>\n",
       "      <td>female</td>\n",
       "      <td>35.0</td>\n",
       "      <td>1</td>\n",
       "      <td>0</td>\n",
       "      <td>53.1000</td>\n",
       "      <td>S</td>\n",
       "    </tr>\n",
       "    <tr>\n",
       "      <th>4</th>\n",
       "      <td>0</td>\n",
       "      <td>3</td>\n",
       "      <td>male</td>\n",
       "      <td>35.0</td>\n",
       "      <td>0</td>\n",
       "      <td>0</td>\n",
       "      <td>8.0500</td>\n",
       "      <td>S</td>\n",
       "    </tr>\n",
       "  </tbody>\n",
       "</table>\n",
       "</div>"
      ],
      "text/plain": [
       "   Survived  Pclass     Sex   Age  SibSp  Parch     Fare Embarked\n",
       "0         0       3    male  22.0      1      0   7.2500        S\n",
       "1         1       1  female  38.0      1      0  71.2833        C\n",
       "2         1       3  female  26.0      0      0   7.9250        S\n",
       "3         1       1  female  35.0      1      0  53.1000        S\n",
       "4         0       3    male  35.0      0      0   8.0500        S"
      ]
     },
     "execution_count": 109,
     "metadata": {},
     "output_type": "execute_result"
    }
   ],
   "source": [
    "#Cleaning the data by removing irrelevant columns\n",
    "df=df.drop(['Name','Ticket','Cabin','PassengerId'], axis=1)\n",
    "df.head()"
   ]
  },
  {
   "cell_type": "markdown",
   "metadata": {},
   "source": [
    "get numerical and categorical columns"
   ]
  },
  {
   "cell_type": "code",
   "execution_count": 110,
   "metadata": {},
   "outputs": [
    {
     "name": "stdout",
     "output_type": "stream",
     "text": [
      "Index(['Survived', 'Pclass', 'Age', 'SibSp', 'Parch', 'Fare'], dtype='object')\n",
      "Index(['Sex', 'Embarked'], dtype='object')\n"
     ]
    }
   ],
   "source": [
    "# find numerical features\n",
    "num_features = df.select_dtypes(include=['number']).columns\n",
    "print(num_features)\n",
    "\n",
    "# find categorical features\n",
    "cat_features = df.select_dtypes(include=['object']).columns\n",
    "print(cat_features)"
   ]
  },
  {
   "cell_type": "markdown",
   "metadata": {},
   "source": [
    "find missing values"
   ]
  },
  {
   "cell_type": "code",
   "execution_count": 111,
   "metadata": {},
   "outputs": [
    {
     "data": {
      "text/plain": [
       "Age         177\n",
       "Embarked      2\n",
       "Survived      0\n",
       "Pclass        0\n",
       "Sex           0\n",
       "SibSp         0\n",
       "Parch         0\n",
       "Fare          0\n",
       "dtype: int64"
      ]
     },
     "execution_count": 111,
     "metadata": {},
     "output_type": "execute_result"
    }
   ],
   "source": [
    "#missing values\n",
    "missing_val = df.isnull().sum()\n",
    "missing_val.sort_values(ascending=False)"
   ]
  },
  {
   "cell_type": "markdown",
   "metadata": {},
   "source": [
    "missing values in embarked and age, since both are categorical convert them to numerical using dictionary mapping or labelencoder"
   ]
  },
  {
   "cell_type": "code",
   "execution_count": 112,
   "metadata": {},
   "outputs": [
    {
     "data": {
      "image/png": "[encoded data removed]",
      "text/plain": [
       "<Figure size 640x480 with 1 Axes>"
      ]
     },
     "metadata": {},
     "output_type": "display_data"
    }
   ],
   "source": [
    "# visualizing null vlaues\n",
    "sns.heatmap(df.isnull(),cbar=False,cmap='viridis')\n",
    "plt.show()"
   ]
  },
  {
   "cell_type": "code",
   "execution_count": 113,
   "metadata": {},
   "outputs": [
    {
     "data": {
      "text/plain": [
       "array(['S', 'C', 'Q', nan], dtype=object)"
      ]
     },
     "execution_count": 113,
     "metadata": {},
     "output_type": "execute_result"
    }
   ],
   "source": [
    "df['Embarked'].unique()"
   ]
  },
  {
   "cell_type": "code",
   "execution_count": 114,
   "metadata": {},
   "outputs": [
    {
     "data": {
      "text/plain": [
       "array(['male', 'female'], dtype=object)"
      ]
     },
     "execution_count": 114,
     "metadata": {},
     "output_type": "execute_result"
    }
   ],
   "source": [
    "df['Sex'].unique()"
   ]
  },
  {
   "cell_type": "markdown",
   "metadata": {},
   "source": [
    "converting categorical to numerical"
   ]
  },
  {
   "cell_type": "code",
   "execution_count": 115,
   "metadata": {},
   "outputs": [],
   "source": [
    "df['Sex']=df['Sex'].map({'female':0, 'male':1})\n",
    "df['Embarked']=df['Embarked'].map({'S':0, 'C':1, 'Q':2,'nan':'NaN'})"
   ]
  },
  {
   "cell_type": "markdown",
   "metadata": {},
   "source": [
    "missing value imputation using mean, median or mode"
   ]
  },
  {
   "cell_type": "code",
   "execution_count": 116,
   "metadata": {},
   "outputs": [
    {
     "name": "stdout",
     "output_type": "stream",
     "text": [
      "Mean of Age: 29.69911764705882\n",
      "Median of Age: 28.0\n",
      "Mode of Age: 24.0\n",
      "\n",
      "\n",
      "Mean of Embarked: 0.36220472440944884\n",
      "Median of Embarked: 0.0\n",
      "Mode of Embarked: 0\n"
     ]
    }
   ],
   "source": [
    "# Age, Embarked\n",
    "# find mean median and mode of Age and Embarked\n",
    "mean_age = df['Age'].mean()\n",
    "median_age = df['Age'].median()\n",
    "mode_age = df['Age'].mode()[0]\n",
    "print(f'Mean of Age: {mean_age}')\n",
    "print(f'Median of Age: {median_age}')\n",
    "print(f'Mode of Age: {mode_age}')\n",
    "print('\\n')\n",
    "mean_Embarked = df['Embarked'].mean()\n",
    "median_Embarked = df['Embarked'].median()\n",
    "mode_Embarked = df['Embarked'].mode()[0]\n",
    "print(f'Mean of Embarked: {mean_Embarked}')\n",
    "print(f'Median of Embarked: {median_Embarked}')\n",
    "print(f'Mode of Embarked: {mode_Embarked}')"
   ]
  },
  {
   "cell_type": "code",
   "execution_count": 117,
   "metadata": {},
   "outputs": [
    {
     "data": {
      "image/png": "[encoded data removed]",
      "text/plain": [
       "<Figure size 640x480 with 1 Axes>"
      ]
     },
     "metadata": {},
     "output_type": "display_data"
    },
    {
     "data": {
      "text/plain": [
       "<Figure size 300x300 with 0 Axes>"
      ]
     },
     "metadata": {},
     "output_type": "display_data"
    }
   ],
   "source": [
    "df['Age'].plot(kind='kde')\n",
    "plt.figure(figsize=(3,3))\n",
    "plt.show()"
   ]
  },
  {
   "cell_type": "code",
   "execution_count": 118,
   "metadata": {},
   "outputs": [
    {
     "name": "stdout",
     "output_type": "stream",
     "text": [
      "plot after filling missing values\n"
     ]
    },
    {
     "data": {
      "image/png": "[encoded data removed]",
      "text/plain": [
       "<Figure size 640x480 with 1 Axes>"
      ]
     },
     "metadata": {},
     "output_type": "display_data"
    },
    {
     "data": {
      "text/plain": [
       "<Figure size 300x300 with 0 Axes>"
      ]
     },
     "metadata": {},
     "output_type": "display_data"
    }
   ],
   "source": [
    "df['Age'].fillna(mean_age,inplace=True)\n",
    "print(\"plot after filling missing values\")\n",
    "df['Age'].plot(kind='kde')\n",
    "plt.figure(figsize=(3,3))\n",
    "plt.show()"
   ]
  },
  {
   "cell_type": "code",
   "execution_count": 119,
   "metadata": {},
   "outputs": [
    {
     "data": {
      "text/plain": [
       "0"
      ]
     },
     "execution_count": 119,
     "metadata": {},
     "output_type": "execute_result"
    }
   ],
   "source": [
    "# missing value imputation for categorical column using mode\n",
    "mode_emb = df.Embarked.mode()[0]\n",
    "mode_emb"
   ]
  },
  {
   "cell_type": "code",
   "execution_count": 120,
   "metadata": {},
   "outputs": [
    {
     "name": "stderr",
     "output_type": "stream",
     "text": [
      "/var/folders/n_/tb_qk64d4q740jlrg8457tvc0000gn/T/ipykernel_16963/456500047.py:1: FutureWarning: A value is trying to be set on a copy of a DataFrame or Series through chained assignment using an inplace method.\n",
      "The behavior will change in pandas 3.0. This inplace method will never work because the intermediate object on which we are setting values always behaves as a copy.\n",
      "\n",
      "For example, when doing 'df[col].method(value, inplace=True)', try using 'df.method({col: value}, inplace=True)' or df[col] = df[col].method(value) instead, to perform the operation inplace on the original object.\n",
      "\n",
      "\n",
      "  df['Embarked'].fillna(mode_emb,inplace=True)\n",
      "/var/folders/n_/tb_qk64d4q740jlrg8457tvc0000gn/T/ipykernel_16963/456500047.py:1: FutureWarning: Downcasting object dtype arrays on .fillna, .ffill, .bfill is deprecated and will change in a future version. Call result.infer_objects(copy=False) instead. To opt-in to the future behavior, set `pd.set_option('future.no_silent_downcasting', True)`\n",
      "  df['Embarked'].fillna(mode_emb,inplace=True)\n"
     ]
    }
   ],
   "source": [
    "df['Embarked'].fillna(mode_emb,inplace=True)"
   ]
  },
  {
   "cell_type": "code",
   "execution_count": 121,
   "metadata": {},
   "outputs": [
    {
     "data": {
      "text/plain": [
       "Survived    0\n",
       "Pclass      0\n",
       "Sex         0\n",
       "Age         0\n",
       "SibSp       0\n",
       "Parch       0\n",
       "Fare        0\n",
       "Embarked    0\n",
       "dtype: int64"
      ]
     },
     "execution_count": 121,
     "metadata": {},
     "output_type": "execute_result"
    }
   ],
   "source": [
    "# check for missing values after imputation\n",
    "missing_val = df.isnull().sum()\n",
    "missing_val.sort_values(ascending=False)"
   ]
  },
  {
   "cell_type": "markdown",
   "metadata": {},
   "source": [
    "finding outliers using boxplot"
   ]
  },
  {
   "cell_type": "code",
   "execution_count": 122,
   "metadata": {},
   "outputs": [
    {
     "data": {
      "image/png": "[encoded data removed]",
      "text/plain": [
       "<Figure size 1000x600 with 1 Axes>"
      ]
     },
     "metadata": {},
     "output_type": "display_data"
    }
   ],
   "source": [
    "df[num_features].boxplot(figsize=(10, 6))\n",
    "plt.xticks(rotation=45)\n",
    "plt.title('Box plot of numerical features')\n",
    "plt.show()"
   ]
  },
  {
   "cell_type": "code",
   "execution_count": 123,
   "metadata": {},
   "outputs": [],
   "source": [
    "df_outlier = df[['Age', 'SibSp', 'Parch', 'Fare']]"
   ]
  },
  {
   "cell_type": "code",
   "execution_count": 124,
   "metadata": {},
   "outputs": [
    {
     "data": {
      "text/plain": [
       "(577, 8)"
      ]
     },
     "execution_count": 124,
     "metadata": {},
     "output_type": "execute_result"
    }
   ],
   "source": [
    "# Function to remove outliers using IQR\n",
    "def remove_outliers(df, num_features):\n",
    "    Q1 = df[num_features].quantile(0.25)\n",
    "    Q3 = df[num_features].quantile(0.75)\n",
    "    IQR = Q3 - Q1\n",
    "    df_out = df[~((df[num_features] < (Q1 - 1.5 * IQR)) | (df[num_features] > (Q3 + 1.5 * IQR))).any(axis=1)]\n",
    "    return df_out\n",
    "\n",
    "# Remove outliers from the dataframe\n",
    "df_cleaned = remove_outliers(df, df_outlier.columns)\n",
    "df_cleaned.shape"
   ]
  },
  {
   "cell_type": "code",
   "execution_count": 125,
   "metadata": {},
   "outputs": [
    {
     "data": {
      "text/html": [
       "<div>\n",
       "<style scoped>\n",
       "    .dataframe tbody tr th:only-of-type {\n",
       "        vertical-align: middle;\n",
       "    }\n",
       "\n",
       "    .dataframe tbody tr th {\n",
       "        vertical-align: top;\n",
       "    }\n",
       "\n",
       "    .dataframe thead th {\n",
       "        text-align: right;\n",
       "    }\n",
       "</style>\n",
       "<table border=\"1\" class=\"dataframe\">\n",
       "  <thead>\n",
       "    <tr style=\"text-align: right;\">\n",
       "      <th></th>\n",
       "      <th>Survived</th>\n",
       "      <th>Pclass</th>\n",
       "      <th>Sex</th>\n",
       "      <th>Age</th>\n",
       "      <th>SibSp</th>\n",
       "      <th>Parch</th>\n",
       "      <th>Fare</th>\n",
       "      <th>Embarked</th>\n",
       "    </tr>\n",
       "  </thead>\n",
       "  <tbody>\n",
       "    <tr>\n",
       "      <th>count</th>\n",
       "      <td>577.000000</td>\n",
       "      <td>577.000000</td>\n",
       "      <td>577.000000</td>\n",
       "      <td>577.000000</td>\n",
       "      <td>577.000000</td>\n",
       "      <td>577.0</td>\n",
       "      <td>577.000000</td>\n",
       "      <td>577.000000</td>\n",
       "    </tr>\n",
       "    <tr>\n",
       "      <th>mean</th>\n",
       "      <td>0.299827</td>\n",
       "      <td>2.502600</td>\n",
       "      <td>0.752166</td>\n",
       "      <td>29.742060</td>\n",
       "      <td>0.199307</td>\n",
       "      <td>0.0</td>\n",
       "      <td>14.926356</td>\n",
       "      <td>0.360485</td>\n",
       "    </tr>\n",
       "    <tr>\n",
       "      <th>std</th>\n",
       "      <td>0.458579</td>\n",
       "      <td>0.733909</td>\n",
       "      <td>0.432129</td>\n",
       "      <td>8.516997</td>\n",
       "      <td>0.445034</td>\n",
       "      <td>0.0</td>\n",
       "      <td>12.606521</td>\n",
       "      <td>0.673170</td>\n",
       "    </tr>\n",
       "    <tr>\n",
       "      <th>min</th>\n",
       "      <td>0.000000</td>\n",
       "      <td>1.000000</td>\n",
       "      <td>0.000000</td>\n",
       "      <td>5.000000</td>\n",
       "      <td>0.000000</td>\n",
       "      <td>0.0</td>\n",
       "      <td>0.000000</td>\n",
       "      <td>0.000000</td>\n",
       "    </tr>\n",
       "    <tr>\n",
       "      <th>25%</th>\n",
       "      <td>0.000000</td>\n",
       "      <td>2.000000</td>\n",
       "      <td>1.000000</td>\n",
       "      <td>24.000000</td>\n",
       "      <td>0.000000</td>\n",
       "      <td>0.0</td>\n",
       "      <td>7.775000</td>\n",
       "      <td>0.000000</td>\n",
       "    </tr>\n",
       "    <tr>\n",
       "      <th>50%</th>\n",
       "      <td>0.000000</td>\n",
       "      <td>3.000000</td>\n",
       "      <td>1.000000</td>\n",
       "      <td>29.699118</td>\n",
       "      <td>0.000000</td>\n",
       "      <td>0.0</td>\n",
       "      <td>8.662500</td>\n",
       "      <td>0.000000</td>\n",
       "    </tr>\n",
       "    <tr>\n",
       "      <th>75%</th>\n",
       "      <td>1.000000</td>\n",
       "      <td>3.000000</td>\n",
       "      <td>1.000000</td>\n",
       "      <td>32.500000</td>\n",
       "      <td>0.000000</td>\n",
       "      <td>0.0</td>\n",
       "      <td>15.850000</td>\n",
       "      <td>0.000000</td>\n",
       "    </tr>\n",
       "    <tr>\n",
       "      <th>max</th>\n",
       "      <td>1.000000</td>\n",
       "      <td>3.000000</td>\n",
       "      <td>1.000000</td>\n",
       "      <td>54.000000</td>\n",
       "      <td>2.000000</td>\n",
       "      <td>0.0</td>\n",
       "      <td>61.175000</td>\n",
       "      <td>2.000000</td>\n",
       "    </tr>\n",
       "  </tbody>\n",
       "</table>\n",
       "</div>"
      ],
      "text/plain": [
       "         Survived      Pclass         Sex         Age       SibSp  Parch  \\\n",
       "count  577.000000  577.000000  577.000000  577.000000  577.000000  577.0   \n",
       "mean     0.299827    2.502600    0.752166   29.742060    0.199307    0.0   \n",
       "std      0.458579    0.733909    0.432129    8.516997    0.445034    0.0   \n",
       "min      0.000000    1.000000    0.000000    5.000000    0.000000    0.0   \n",
       "25%      0.000000    2.000000    1.000000   24.000000    0.000000    0.0   \n",
       "50%      0.000000    3.000000    1.000000   29.699118    0.000000    0.0   \n",
       "75%      1.000000    3.000000    1.000000   32.500000    0.000000    0.0   \n",
       "max      1.000000    3.000000    1.000000   54.000000    2.000000    0.0   \n",
       "\n",
       "             Fare    Embarked  \n",
       "count  577.000000  577.000000  \n",
       "mean    14.926356    0.360485  \n",
       "std     12.606521    0.673170  \n",
       "min      0.000000    0.000000  \n",
       "25%      7.775000    0.000000  \n",
       "50%      8.662500    0.000000  \n",
       "75%     15.850000    0.000000  \n",
       "max     61.175000    2.000000  "
      ]
     },
     "execution_count": 125,
     "metadata": {},
     "output_type": "execute_result"
    }
   ],
   "source": [
    "df_cleaned.describe()"
   ]
  },
  {
   "cell_type": "code",
   "execution_count": 126,
   "metadata": {},
   "outputs": [],
   "source": [
    "from sklearn.preprocessing import MinMaxScaler\n",
    "\n",
    "scaler = MinMaxScaler()"
   ]
  },
  {
   "cell_type": "code",
   "execution_count": 127,
   "metadata": {},
   "outputs": [],
   "source": [
    "cols = ['Age', 'SibSp', 'Parch', 'Fare', 'Embarked']\n",
    "\n",
    "df[cols] = scaler.fit_transform(df[cols])"
   ]
  },
  {
   "cell_type": "code",
   "execution_count": 128,
   "metadata": {},
   "outputs": [
    {
     "data": {
      "text/html": [
       "<div>\n",
       "<style scoped>\n",
       "    .dataframe tbody tr th:only-of-type {\n",
       "        vertical-align: middle;\n",
       "    }\n",
       "\n",
       "    .dataframe tbody tr th {\n",
       "        vertical-align: top;\n",
       "    }\n",
       "\n",
       "    .dataframe thead th {\n",
       "        text-align: right;\n",
       "    }\n",
       "</style>\n",
       "<table border=\"1\" class=\"dataframe\">\n",
       "  <thead>\n",
       "    <tr style=\"text-align: right;\">\n",
       "      <th></th>\n",
       "      <th>Survived</th>\n",
       "      <th>Pclass</th>\n",
       "      <th>Sex</th>\n",
       "      <th>Age</th>\n",
       "      <th>SibSp</th>\n",
       "      <th>Parch</th>\n",
       "      <th>Fare</th>\n",
       "      <th>Embarked</th>\n",
       "    </tr>\n",
       "  </thead>\n",
       "  <tbody>\n",
       "    <tr>\n",
       "      <th>count</th>\n",
       "      <td>891.000000</td>\n",
       "      <td>891.000000</td>\n",
       "      <td>891.000000</td>\n",
       "      <td>891.000000</td>\n",
       "      <td>891.000000</td>\n",
       "      <td>891.000000</td>\n",
       "      <td>891.000000</td>\n",
       "      <td>891.000000</td>\n",
       "    </tr>\n",
       "    <tr>\n",
       "      <th>mean</th>\n",
       "      <td>0.383838</td>\n",
       "      <td>2.308642</td>\n",
       "      <td>0.647587</td>\n",
       "      <td>0.367921</td>\n",
       "      <td>0.065376</td>\n",
       "      <td>0.063599</td>\n",
       "      <td>0.062858</td>\n",
       "      <td>0.180696</td>\n",
       "    </tr>\n",
       "    <tr>\n",
       "      <th>std</th>\n",
       "      <td>0.486592</td>\n",
       "      <td>0.836071</td>\n",
       "      <td>0.477990</td>\n",
       "      <td>0.163383</td>\n",
       "      <td>0.137843</td>\n",
       "      <td>0.134343</td>\n",
       "      <td>0.096995</td>\n",
       "      <td>0.317837</td>\n",
       "    </tr>\n",
       "    <tr>\n",
       "      <th>min</th>\n",
       "      <td>0.000000</td>\n",
       "      <td>1.000000</td>\n",
       "      <td>0.000000</td>\n",
       "      <td>0.000000</td>\n",
       "      <td>0.000000</td>\n",
       "      <td>0.000000</td>\n",
       "      <td>0.000000</td>\n",
       "      <td>0.000000</td>\n",
       "    </tr>\n",
       "    <tr>\n",
       "      <th>25%</th>\n",
       "      <td>0.000000</td>\n",
       "      <td>2.000000</td>\n",
       "      <td>0.000000</td>\n",
       "      <td>0.271174</td>\n",
       "      <td>0.000000</td>\n",
       "      <td>0.000000</td>\n",
       "      <td>0.015440</td>\n",
       "      <td>0.000000</td>\n",
       "    </tr>\n",
       "    <tr>\n",
       "      <th>50%</th>\n",
       "      <td>0.000000</td>\n",
       "      <td>3.000000</td>\n",
       "      <td>1.000000</td>\n",
       "      <td>0.367921</td>\n",
       "      <td>0.000000</td>\n",
       "      <td>0.000000</td>\n",
       "      <td>0.028213</td>\n",
       "      <td>0.000000</td>\n",
       "    </tr>\n",
       "    <tr>\n",
       "      <th>75%</th>\n",
       "      <td>1.000000</td>\n",
       "      <td>3.000000</td>\n",
       "      <td>1.000000</td>\n",
       "      <td>0.434531</td>\n",
       "      <td>0.125000</td>\n",
       "      <td>0.000000</td>\n",
       "      <td>0.060508</td>\n",
       "      <td>0.500000</td>\n",
       "    </tr>\n",
       "    <tr>\n",
       "      <th>max</th>\n",
       "      <td>1.000000</td>\n",
       "      <td>3.000000</td>\n",
       "      <td>1.000000</td>\n",
       "      <td>1.000000</td>\n",
       "      <td>1.000000</td>\n",
       "      <td>1.000000</td>\n",
       "      <td>1.000000</td>\n",
       "      <td>1.000000</td>\n",
       "    </tr>\n",
       "  </tbody>\n",
       "</table>\n",
       "</div>"
      ],
      "text/plain": [
       "         Survived      Pclass         Sex         Age       SibSp       Parch  \\\n",
       "count  891.000000  891.000000  891.000000  891.000000  891.000000  891.000000   \n",
       "mean     0.383838    2.308642    0.647587    0.367921    0.065376    0.063599   \n",
       "std      0.486592    0.836071    0.477990    0.163383    0.137843    0.134343   \n",
       "min      0.000000    1.000000    0.000000    0.000000    0.000000    0.000000   \n",
       "25%      0.000000    2.000000    0.000000    0.271174    0.000000    0.000000   \n",
       "50%      0.000000    3.000000    1.000000    0.367921    0.000000    0.000000   \n",
       "75%      1.000000    3.000000    1.000000    0.434531    0.125000    0.000000   \n",
       "max      1.000000    3.000000    1.000000    1.000000    1.000000    1.000000   \n",
       "\n",
       "             Fare    Embarked  \n",
       "count  891.000000  891.000000  \n",
       "mean     0.062858    0.180696  \n",
       "std      0.096995    0.317837  \n",
       "min      0.000000    0.000000  \n",
       "25%      0.015440    0.000000  \n",
       "50%      0.028213    0.000000  \n",
       "75%      0.060508    0.500000  \n",
       "max      1.000000    1.000000  "
      ]
     },
     "execution_count": 128,
     "metadata": {},
     "output_type": "execute_result"
    }
   ],
   "source": [
    "df.describe()"
   ]
  },
  {
   "cell_type": "markdown",
   "metadata": {},
   "source": [
    "Apply model"
   ]
  },
  {
   "cell_type": "code",
   "execution_count": 129,
   "metadata": {},
   "outputs": [],
   "source": [
    "from sklearn.model_selection import train_test_split\n",
    "X = df.drop('Survived', axis=1)\n",
    "y = df.Survived\n",
    "X_train, X_test, y_train, y_test = train_test_split(X, y, test_size=0.25, random_state=73)"
   ]
  },
  {
   "cell_type": "code",
   "execution_count": 130,
   "metadata": {},
   "outputs": [
    {
     "data": {
      "text/plain": [
       "((668, 7), (668,))"
      ]
     },
     "execution_count": 130,
     "metadata": {},
     "output_type": "execute_result"
    }
   ],
   "source": [
    "X_train.shape, y_train.shape"
   ]
  },
  {
   "cell_type": "code",
   "execution_count": 131,
   "metadata": {},
   "outputs": [],
   "source": [
    "from sklearn.ensemble import RandomForestClassifier, GradientBoostingClassifier\n",
    "from sklearn.svm import SVC\n",
    "from sklearn.linear_model import LogisticRegression\n",
    "from sklearn.metrics import accuracy_score, precision_score, confusion_matrix, f1_score\n",
    "from sklearn.tree import DecisionTreeClassifier\n",
    "#regression\n",
    "from sklearn.ensemble import RandomForestRegressor, GradientBoostingRegressor\n",
    "from sklearn.svm import SVR\n",
    "from sklearn.linear_model import LinearRegression\n",
    "from sklearn.metrics import r2_score,mean_squared_error,mean_absolute_error,root_mean_squared_error\n",
    "from sklearn.tree import DecisionTreeRegressor\n",
    "\n",
    "rf = RandomForestClassifier()\n",
    "gb = GradientBoostingClassifier()\n",
    "svc = SVC()\n",
    "lr = LogisticRegression()"
   ]
  },
  {
   "cell_type": "code",
   "execution_count": 132,
   "metadata": {},
   "outputs": [
    {
     "name": "stdout",
     "output_type": "stream",
     "text": [
      "RF accuracy:  0.8565022421524664\n"
     ]
    }
   ],
   "source": [
    "gb.fit(X_train,y_train)\n",
    "y_pred = gb.predict(X_test)\n",
    "print(\"RF accuracy: \", accuracy_score(y_test, y_pred))"
   ]
  },
  {
   "cell_type": "code",
   "execution_count": 133,
   "metadata": {},
   "outputs": [
    {
     "name": "stdout",
     "output_type": "stream",
     "text": [
      "RF accuracy:  0.8116591928251121\n"
     ]
    }
   ],
   "source": [
    "svc.fit(X_train,y_train)\n",
    "y_pred = svc.predict(X_test)\n",
    "print(\"RF accuracy: \", accuracy_score(y_test, y_pred))"
   ]
  },
  {
   "cell_type": "code",
   "execution_count": 134,
   "metadata": {},
   "outputs": [
    {
     "name": "stdout",
     "output_type": "stream",
     "text": [
      "RF accuracy:  0.8565022421524664\n"
     ]
    }
   ],
   "source": [
    "gb.fit(X_train,y_train)\n",
    "y_pred = gb.predict(X_test)\n",
    "print(\"RF accuracy: \", accuracy_score(y_test, y_pred))"
   ]
  },
  {
   "cell_type": "code",
   "execution_count": 135,
   "metadata": {},
   "outputs": [
    {
     "name": "stdout",
     "output_type": "stream",
     "text": [
      "RF accuracy:  0.820627802690583\n"
     ]
    }
   ],
   "source": [
    "lr.fit(X_train,y_train)\n",
    "y_pred = lr.predict(X_test)\n",
    "print(\"RF accuracy: \", accuracy_score(y_test, y_pred))"
   ]
  },
  {
   "cell_type": "code",
   "execution_count": 139,
   "metadata": {},
   "outputs": [],
   "source": [
    "params = {\n",
    "    'n_estimators':[20,60,100,120],\n",
    "    'max_samples':[0.5,0.75,1.0],\n",
    "    # 'bootstrap':[True, False],\n",
    "    'max_features':[0.2,0.6,1.0],\n",
    "    'max_depth':[2,8,None]\n",
    "}"
   ]
  },
  {
   "cell_type": "code",
   "execution_count": 140,
   "metadata": {},
   "outputs": [
    {
     "name": "stdout",
     "output_type": "stream",
     "text": [
      "Fitting 5 folds for each of 108 candidates, totalling 540 fits\n",
      "[CV] END max_depth=2, max_features=0.2, max_samples=0.5, n_estimators=20; total time=   0.0s\n",
      "[CV] END max_depth=2, max_features=0.2, max_samples=0.5, n_estimators=20; total time=   0.0s\n",
      "[CV] END max_depth=2, max_features=0.2, max_samples=0.5, n_estimators=20; total time=   0.0s\n",
      "[CV] END max_depth=2, max_features=0.2, max_samples=0.5, n_estimators=20; total time=   0.0s\n",
      "[CV] END max_depth=2, max_features=0.2, max_samples=0.5, n_estimators=20; total time=   0.0s\n",
      "[CV] END max_depth=2, max_features=0.2, max_samples=0.5, n_estimators=60; total time=   0.1s\n",
      "[CV] END max_depth=2, max_features=0.2, max_samples=0.5, n_estimators=60; total time=   0.0s\n",
      "[CV] END max_depth=2, max_features=0.2, max_samples=0.5, n_estimators=60; total time=   0.1s\n",
      "[CV] END max_depth=2, max_features=0.2, max_samples=0.5, n_estimators=60; total time=   0.1s\n",
      "[CV] END max_depth=2, max_features=0.2, max_samples=0.5, n_estimators=60; total time=   0.1s\n",
      "[CV] END max_depth=2, max_features=0.2, max_samples=0.5, n_estimators=100; total time=   0.1s\n",
      "[CV] END max_depth=2, max_features=0.2, max_samples=0.5, n_estimators=100; total time=   0.1s\n",
      "[CV] END max_depth=2, max_features=0.2, max_samples=0.75, n_estimators=20; total time=   0.0s\n",
      "[CV] END max_depth=2, max_features=0.2, max_samples=0.5, n_estimators=100; total time=   0.1s\n",
      "[CV] END max_depth=2, max_features=0.2, max_samples=0.75, n_estimators=20; total time=   0.0s\n",
      "[CV] END max_depth=2, max_features=0.2, max_samples=0.5, n_estimators=100; total time=   0.1s\n",
      "[CV] END max_depth=2, max_features=0.2, max_samples=0.5, n_estimators=100; total time=   0.1s\n",
      "[CV] END max_depth=2, max_features=0.2, max_samples=0.75, n_estimators=20; total time=   0.0s\n",
      "[CV] END max_depth=2, max_features=0.2, max_samples=0.75, n_estimators=20; total time=   0.0s\n",
      "[CV] END max_depth=2, max_features=0.2, max_samples=0.75, n_estimators=20; total time=   0.0s\n",
      "[CV] END max_depth=2, max_features=0.2, max_samples=0.5, n_estimators=120; total time=   0.1s\n",
      "[CV] END max_depth=2, max_features=0.2, max_samples=0.5, n_estimators=120; total time=   0.2s\n",
      "[CV] END max_depth=2, max_features=0.2, max_samples=0.5, n_estimators=120; total time=   0.2s\n",
      "[CV] END max_depth=2, max_features=0.2, max_samples=0.75, n_estimators=60; total time=   0.1s\n",
      "[CV] END max_depth=2, max_features=0.2, max_samples=0.75, n_estimators=60; total time=   0.1s\n",
      "[CV] END max_depth=2, max_features=0.2, max_samples=0.75, n_estimators=60; total time=   0.1s\n",
      "[CV] END max_depth=2, max_features=0.2, max_samples=0.75, n_estimators=100; total time=   0.2s\n",
      "[CV] END max_depth=2, max_features=0.2, max_samples=0.75, n_estimators=100; total time=   0.1s\n",
      "[CV] END max_depth=2, max_features=0.2, max_samples=0.75, n_estimators=60; total time=   0.1s\n",
      "[CV] END max_depth=2, max_features=0.2, max_samples=0.75, n_estimators=60; total time=   0.1s\n",
      "[CV] END max_depth=2, max_features=0.2, max_samples=0.75, n_estimators=100; total time=   0.2s\n",
      "[CV] END max_depth=2, max_features=0.2, max_samples=1.0, n_estimators=20; total time=   0.0s\n",
      "[CV] END max_depth=2, max_features=0.2, max_samples=0.5, n_estimators=120; total time=   0.2s\n",
      "[CV] END max_depth=2, max_features=0.2, max_samples=0.5, n_estimators=120; total time=   0.2s\n",
      "[CV] END max_depth=2, max_features=0.2, max_samples=1.0, n_estimators=20; total time=   0.0s\n",
      "[CV] END max_depth=2, max_features=0.2, max_samples=1.0, n_estimators=20; total time=   0.0s\n",
      "[CV] END max_depth=2, max_features=0.2, max_samples=1.0, n_estimators=20; total time=   0.0s\n",
      "[CV] END max_depth=2, max_features=0.2, max_samples=0.75, n_estimators=120; total time=   0.1s\n",
      "[CV] END max_depth=2, max_features=0.2, max_samples=1.0, n_estimators=20; total time=   0.0s\n",
      "[CV] END max_depth=2, max_features=0.2, max_samples=0.75, n_estimators=100; total time=   0.1s\n",
      "[CV] END max_depth=2, max_features=0.2, max_samples=0.75, n_estimators=100; total time=   0.1s\n",
      "[CV] END max_depth=2, max_features=0.2, max_samples=1.0, n_estimators=60; total time=   0.1s\n",
      "[CV] END max_depth=2, max_features=0.2, max_samples=0.75, n_estimators=120; total time=   0.1s\n",
      "[CV] END max_depth=2, max_features=0.2, max_samples=0.75, n_estimators=120; total time=   0.1s\n",
      "[CV] END max_depth=2, max_features=0.2, max_samples=1.0, n_estimators=60; total time=   0.1s\n",
      "[CV] END max_depth=2, max_features=0.6, max_samples=0.5, n_estimators=20; total time=   0.0s\n",
      "[CV] END max_depth=2, max_features=0.6, max_samples=0.5, n_estimators=20; total time=   0.0s\n",
      "[CV] END max_depth=2, max_features=0.2, max_samples=1.0, n_estimators=60; total time=   0.1s\n",
      "[CV] END max_depth=2, max_features=0.6, max_samples=0.5, n_estimators=20; total time=   0.0s\n",
      "[CV] END max_depth=2, max_features=0.2, max_samples=1.0, n_estimators=60; total time=   0.1s\n",
      "[CV] END max_depth=2, max_features=0.6, max_samples=0.5, n_estimators=20; total time=   0.0s\n",
      "[CV] END max_depth=2, max_features=0.2, max_samples=0.75, n_estimators=120; total time=   0.1s\n",
      "[CV] END max_depth=2, max_features=0.2, max_samples=1.0, n_estimators=100; total time=   0.1s\n",
      "[CV] END max_depth=2, max_features=0.6, max_samples=0.5, n_estimators=60; total time=   0.1s\n",
      "[CV] END max_depth=2, max_features=0.2, max_samples=1.0, n_estimators=60; total time=   0.1s\n",
      "[CV] END max_depth=2, max_features=0.6, max_samples=0.5, n_estimators=20; total time=   0.0s\n",
      "[CV] END max_depth=2, max_features=0.2, max_samples=1.0, n_estimators=120; total time=   0.1s\n",
      "[CV] END max_depth=2, max_features=0.6, max_samples=0.5, n_estimators=60; total time=   0.1s\n",
      "[CV] END max_depth=2, max_features=0.2, max_samples=0.75, n_estimators=120; total time=   0.1s\n",
      "[CV] END max_depth=2, max_features=0.6, max_samples=0.75, n_estimators=20; total time=   0.0s\n",
      "[CV] END max_depth=2, max_features=0.6, max_samples=0.5, n_estimators=60; total time=   0.1s\n",
      "[CV] END max_depth=2, max_features=0.6, max_samples=0.75, n_estimators=20; total time=   0.0s\n",
      "[CV] END max_depth=2, max_features=0.6, max_samples=0.5, n_estimators=100; total time=   0.1s\n",
      "[CV] END max_depth=2, max_features=0.2, max_samples=1.0, n_estimators=100; total time=   0.1s\n",
      "[CV] END max_depth=2, max_features=0.6, max_samples=0.5, n_estimators=60; total time=   0.1s\n",
      "[CV] END max_depth=2, max_features=0.6, max_samples=0.75, n_estimators=20; total time=   0.0s\n",
      "[CV] END max_depth=2, max_features=0.2, max_samples=1.0, n_estimators=100; total time=   0.1s\n",
      "[CV] END max_depth=2, max_features=0.2, max_samples=1.0, n_estimators=120; total time=   0.1s\n",
      "[CV] END max_depth=2, max_features=0.6, max_samples=0.75, n_estimators=20; total time=   0.0s\n",
      "[CV] END max_depth=2, max_features=0.6, max_samples=0.5, n_estimators=60; total time=   0.1s\n",
      "[CV] END max_depth=2, max_features=0.6, max_samples=0.5, n_estimators=120; total time=   0.2s\n",
      "[CV] END max_depth=2, max_features=0.6, max_samples=0.75, n_estimators=20; total time=   0.0s\n",
      "[CV] END max_depth=2, max_features=0.6, max_samples=0.5, n_estimators=100; total time=   0.1s\n",
      "[CV] END max_depth=2, max_features=0.2, max_samples=1.0, n_estimators=100; total time=   0.1s\n",
      "[CV] END max_depth=2, max_features=0.6, max_samples=0.75, n_estimators=60; total time=   0.1s\n",
      "[CV] END max_depth=2, max_features=0.6, max_samples=0.5, n_estimators=100; total time=   0.1s\n",
      "[CV] END max_depth=2, max_features=0.2, max_samples=1.0, n_estimators=100; total time=   0.1s\n",
      "[CV] END max_depth=2, max_features=0.6, max_samples=0.75, n_estimators=60; total time=   0.1s\n",
      "[CV] END max_depth=2, max_features=0.6, max_samples=0.5, n_estimators=120; total time=   0.2s\n",
      "[CV] END max_depth=2, max_features=0.2, max_samples=1.0, n_estimators=120; total time=   0.2s\n",
      "[CV] END max_depth=2, max_features=0.6, max_samples=0.75, n_estimators=60; total time=   0.1s\n",
      "[CV] END max_depth=2, max_features=0.6, max_samples=0.75, n_estimators=60; total time=   0.1s\n",
      "[CV] END max_depth=2, max_features=0.6, max_samples=0.5, n_estimators=100; total time=   0.2s\n",
      "[CV] END max_depth=2, max_features=0.6, max_samples=0.5, n_estimators=100; total time=   0.2s\n",
      "[CV] END max_depth=2, max_features=0.2, max_samples=1.0, n_estimators=120; total time=   0.2s\n",
      "[CV] END max_depth=2, max_features=0.6, max_samples=0.75, n_estimators=100; total time=   0.2s\n",
      "[CV] END max_depth=2, max_features=0.6, max_samples=1.0, n_estimators=20; total time=   0.0s\n",
      "[CV] END max_depth=2, max_features=0.6, max_samples=0.75, n_estimators=60; total time=   0.1s\n",
      "[CV] END max_depth=2, max_features=0.6, max_samples=0.75, n_estimators=100; total time=   0.2s\n",
      "[CV] END max_depth=2, max_features=0.6, max_samples=1.0, n_estimators=20; total time=   0.0s\n",
      "[CV] END max_depth=2, max_features=0.6, max_samples=0.5, n_estimators=120; total time=   0.2s\n",
      "[CV] END max_depth=2, max_features=0.2, max_samples=1.0, n_estimators=120; total time=   0.2s\n",
      "[CV] END max_depth=2, max_features=0.6, max_samples=1.0, n_estimators=20; total time=   0.0s\n",
      "[CV] END max_depth=2, max_features=0.6, max_samples=1.0, n_estimators=20; total time=   0.0s\n",
      "[CV] END max_depth=2, max_features=0.6, max_samples=0.5, n_estimators=120; total time=   0.2s\n",
      "[CV] END max_depth=2, max_features=0.6, max_samples=1.0, n_estimators=20; total time=   0.0s\n",
      "[CV] END max_depth=2, max_features=0.6, max_samples=0.75, n_estimators=100; total time=   0.2s\n",
      "[CV] END max_depth=2, max_features=0.6, max_samples=1.0, n_estimators=60; total time=   0.1s\n",
      "[CV] END max_depth=2, max_features=0.6, max_samples=0.75, n_estimators=120; total time=   0.2s\n",
      "[CV] END max_depth=2, max_features=0.6, max_samples=1.0, n_estimators=60; total time=   0.1s\n",
      "[CV] END max_depth=2, max_features=0.6, max_samples=0.5, n_estimators=120; total time=   0.2s\n",
      "[CV] END max_depth=2, max_features=0.6, max_samples=1.0, n_estimators=60; total time=   0.1s\n",
      "[CV] END max_depth=2, max_features=1.0, max_samples=0.5, n_estimators=20; total time=   0.0s\n",
      "[CV] END max_depth=2, max_features=0.6, max_samples=1.0, n_estimators=100; total time=   0.2s\n",
      "[CV] END max_depth=2, max_features=0.6, max_samples=0.75, n_estimators=100; total time=   0.1s\n",
      "[CV] END max_depth=2, max_features=0.6, max_samples=1.0, n_estimators=60; total time=   0.1s\n",
      "[CV] END max_depth=2, max_features=1.0, max_samples=0.5, n_estimators=20; total time=   0.0s\n",
      "[CV] END max_depth=2, max_features=0.6, max_samples=1.0, n_estimators=120; total time=   0.2s\n",
      "[CV] END max_depth=2, max_features=0.6, max_samples=0.75, n_estimators=100; total time=   0.3s\n",
      "[CV] END max_depth=2, max_features=1.0, max_samples=0.5, n_estimators=20; total time=   0.0s\n",
      "[CV] END max_depth=2, max_features=0.6, max_samples=0.75, n_estimators=120; total time=   0.2s\n",
      "[CV] END max_depth=2, max_features=1.0, max_samples=0.5, n_estimators=20; total time=   0.0s\n",
      "[CV] END max_depth=2, max_features=1.0, max_samples=0.5, n_estimators=20; total time=   0.0s\n",
      "[CV] END max_depth=2, max_features=0.6, max_samples=1.0, n_estimators=60; total time=   0.1s\n",
      "[CV] END max_depth=2, max_features=0.6, max_samples=1.0, n_estimators=100; total time=   0.2s\n",
      "[CV] END max_depth=2, max_features=0.6, max_samples=1.0, n_estimators=100; total time=   0.2s\n",
      "[CV] END max_depth=2, max_features=1.0, max_samples=0.5, n_estimators=60; total time=   0.1s\n",
      "[CV] END max_depth=2, max_features=1.0, max_samples=0.5, n_estimators=60; total time=   0.1s\n",
      "[CV] END max_depth=2, max_features=0.6, max_samples=0.75, n_estimators=120; total time=   0.2s\n",
      "[CV] END max_depth=2, max_features=0.6, max_samples=1.0, n_estimators=120; total time=   0.2s\n",
      "[CV] END max_depth=2, max_features=0.6, max_samples=0.75, n_estimators=120; total time=   0.2s\n",
      "[CV] END max_depth=2, max_features=1.0, max_samples=0.5, n_estimators=60; total time=   0.1s\n",
      "[CV] END max_depth=2, max_features=1.0, max_samples=0.5, n_estimators=100; total time=   0.2s\n",
      "[CV] END max_depth=2, max_features=1.0, max_samples=0.5, n_estimators=60; total time=   0.1s\n",
      "[CV] END max_depth=2, max_features=0.6, max_samples=1.0, n_estimators=100; total time=   0.2s\n",
      "[CV] END max_depth=2, max_features=0.6, max_samples=1.0, n_estimators=100; total time=   0.2s\n",
      "[CV] END max_depth=2, max_features=1.0, max_samples=0.75, n_estimators=20; total time=   0.0s\n",
      "[CV] END max_depth=2, max_features=1.0, max_samples=0.75, n_estimators=20; total time=   0.0s\n",
      "[CV] END max_depth=2, max_features=1.0, max_samples=0.5, n_estimators=120; total time=   0.2s\n",
      "[CV] END max_depth=2, max_features=1.0, max_samples=0.5, n_estimators=60; total time=   0.1s\n",
      "[CV] END max_depth=2, max_features=1.0, max_samples=0.75, n_estimators=20; total time=   0.0s\n",
      "[CV] END max_depth=2, max_features=0.6, max_samples=1.0, n_estimators=120; total time=   0.2s\n",
      "[CV] END max_depth=2, max_features=1.0, max_samples=0.75, n_estimators=20; total time=   0.0s\n",
      "[CV] END max_depth=2, max_features=0.6, max_samples=0.75, n_estimators=120; total time=   0.2s\n",
      "[CV] END max_depth=2, max_features=1.0, max_samples=0.5, n_estimators=100; total time=   0.2s\n",
      "[CV] END max_depth=2, max_features=1.0, max_samples=0.5, n_estimators=100; total time=   0.2s\n",
      "[CV] END max_depth=2, max_features=1.0, max_samples=0.75, n_estimators=20; total time=   0.0s\n",
      "[CV] END max_depth=2, max_features=0.6, max_samples=1.0, n_estimators=120; total time=   0.2s\n",
      "[CV] END max_depth=2, max_features=1.0, max_samples=0.75, n_estimators=60; total time=   0.1s\n",
      "[CV] END max_depth=2, max_features=1.0, max_samples=0.75, n_estimators=60; total time=   0.1s\n",
      "[CV] END max_depth=2, max_features=1.0, max_samples=0.5, n_estimators=120; total time=   0.2s\n",
      "[CV] END max_depth=2, max_features=1.0, max_samples=0.5, n_estimators=100; total time=   0.1s\n",
      "[CV] END max_depth=2, max_features=1.0, max_samples=0.5, n_estimators=100; total time=   0.1s\n",
      "[CV] END max_depth=2, max_features=0.6, max_samples=1.0, n_estimators=120; total time=   0.2s\n",
      "[CV] END max_depth=2, max_features=1.0, max_samples=0.75, n_estimators=100; total time=   0.1s\n",
      "[CV] END max_depth=2, max_features=1.0, max_samples=0.75, n_estimators=60; total time=   0.1s\n",
      "[CV] END max_depth=2, max_features=1.0, max_samples=1.0, n_estimators=20; total time=   0.0s\n",
      "[CV] END max_depth=2, max_features=1.0, max_samples=1.0, n_estimators=20; total time=   0.0s\n",
      "[CV] END max_depth=2, max_features=1.0, max_samples=1.0, n_estimators=20; total time=   0.0s\n",
      "[CV] END max_depth=2, max_features=1.0, max_samples=0.75, n_estimators=60; total time=   0.1s\n",
      "[CV] END max_depth=2, max_features=1.0, max_samples=1.0, n_estimators=20; total time=   0.0s\n",
      "[CV] END max_depth=2, max_features=1.0, max_samples=0.75, n_estimators=120; total time=   0.2s\n",
      "[CV] END max_depth=2, max_features=1.0, max_samples=0.75, n_estimators=60; total time=   0.1s\n",
      "[CV] END max_depth=2, max_features=1.0, max_samples=1.0, n_estimators=20; total time=   0.0s\n",
      "[CV] END max_depth=2, max_features=1.0, max_samples=1.0, n_estimators=60; total time=   0.1s\n",
      "[CV] END max_depth=2, max_features=1.0, max_samples=0.5, n_estimators=120; total time=   0.2s\n",
      "[CV] END max_depth=2, max_features=1.0, max_samples=0.75, n_estimators=100; total time=   0.1s\n",
      "[CV] END max_depth=2, max_features=1.0, max_samples=0.5, n_estimators=120; total time=   0.2s\n",
      "[CV] END max_depth=2, max_features=1.0, max_samples=1.0, n_estimators=60; total time=   0.1s\n",
      "[CV] END max_depth=2, max_features=1.0, max_samples=1.0, n_estimators=60; total time=   0.1s\n",
      "[CV] END max_depth=2, max_features=1.0, max_samples=0.75, n_estimators=100; total time=   0.2s\n",
      "[CV] END max_depth=2, max_features=1.0, max_samples=0.75, n_estimators=120; total time=   0.2s\n",
      "[CV] END max_depth=2, max_features=1.0, max_samples=1.0, n_estimators=100; total time=   0.1s\n",
      "[CV] END max_depth=2, max_features=1.0, max_samples=1.0, n_estimators=60; total time=   0.1s\n",
      "[CV] END max_depth=2, max_features=1.0, max_samples=0.5, n_estimators=120; total time=   0.2s\n",
      "[CV] END max_depth=2, max_features=1.0, max_samples=0.75, n_estimators=100; total time=   0.1s\n",
      "[CV] END max_depth=2, max_features=1.0, max_samples=1.0, n_estimators=60; total time=   0.1s\n",
      "[CV] END max_depth=2, max_features=1.0, max_samples=1.0, n_estimators=120; total time=   0.2s\n",
      "[CV] END max_depth=8, max_features=0.2, max_samples=0.5, n_estimators=20; total time=   0.0s\n",
      "[CV] END max_depth=8, max_features=0.2, max_samples=0.5, n_estimators=20; total time=   0.0s\n",
      "[CV] END max_depth=8, max_features=0.2, max_samples=0.5, n_estimators=20; total time=   0.0s\n",
      "[CV] END max_depth=2, max_features=1.0, max_samples=0.75, n_estimators=100; total time=   0.1s\n",
      "[CV] END max_depth=8, max_features=0.2, max_samples=0.5, n_estimators=20; total time=   0.0s\n",
      "[CV] END max_depth=2, max_features=1.0, max_samples=1.0, n_estimators=100; total time=   0.1s\n",
      "[CV] END max_depth=8, max_features=0.2, max_samples=0.5, n_estimators=60; total time=   0.1s\n",
      "[CV] END max_depth=2, max_features=1.0, max_samples=0.75, n_estimators=120; total time=   0.2s\n",
      "[CV] END max_depth=2, max_features=1.0, max_samples=1.0, n_estimators=100; total time=   0.1s\n",
      "[CV] END max_depth=8, max_features=0.2, max_samples=0.5, n_estimators=20; total time=   0.0s\n",
      "[CV] END max_depth=2, max_features=1.0, max_samples=0.75, n_estimators=120; total time=   0.2s\n",
      "[CV] END max_depth=8, max_features=0.2, max_samples=0.5, n_estimators=60; total time=   0.1s\n",
      "[CV] END max_depth=2, max_features=1.0, max_samples=1.0, n_estimators=120; total time=   0.2s\n",
      "[CV] END max_depth=8, max_features=0.2, max_samples=0.5, n_estimators=60; total time=   0.1s\n",
      "[CV] END max_depth=2, max_features=1.0, max_samples=1.0, n_estimators=100; total time=   0.1s\n",
      "[CV] END max_depth=8, max_features=0.2, max_samples=0.5, n_estimators=60; total time=   0.1s\n",
      "[CV] END max_depth=2, max_features=1.0, max_samples=1.0, n_estimators=100; total time=   0.1s\n",
      "[CV] END max_depth=8, max_features=0.2, max_samples=0.5, n_estimators=60; total time=   0.1s\n",
      "[CV] END max_depth=2, max_features=1.0, max_samples=0.75, n_estimators=120; total time=   0.2s\n",
      "[CV] END max_depth=8, max_features=0.2, max_samples=0.75, n_estimators=20; total time=   0.0s\n",
      "[CV] END max_depth=8, max_features=0.2, max_samples=0.5, n_estimators=100; total time=   0.1s\n",
      "[CV] END max_depth=8, max_features=0.2, max_samples=0.75, n_estimators=20; total time=   0.0s\n",
      "[CV] END max_depth=8, max_features=0.2, max_samples=0.5, n_estimators=120; total time=   0.2s\n",
      "[CV] END max_depth=8, max_features=0.2, max_samples=0.75, n_estimators=20; total time=   0.0s\n",
      "[CV] END max_depth=8, max_features=0.2, max_samples=0.75, n_estimators=20; total time=   0.0s\n",
      "[CV] END max_depth=2, max_features=1.0, max_samples=1.0, n_estimators=120; total time=   0.2s\n",
      "[CV] END max_depth=8, max_features=0.2, max_samples=0.75, n_estimators=60; total time=   0.1s\n",
      "[CV] END max_depth=8, max_features=0.2, max_samples=0.75, n_estimators=20; total time=   0.0s\n",
      "[CV] END max_depth=8, max_features=0.2, max_samples=0.5, n_estimators=100; total time=   0.1s\n",
      "[CV] END max_depth=8, max_features=0.2, max_samples=0.75, n_estimators=60; total time=   0.1s\n",
      "[CV] END max_depth=2, max_features=1.0, max_samples=1.0, n_estimators=120; total time=   0.2s\n",
      "[CV] END max_depth=8, max_features=0.2, max_samples=0.5, n_estimators=100; total time=   0.1s\n",
      "[CV] END max_depth=8, max_features=0.2, max_samples=0.75, n_estimators=60; total time=   0.1s\n",
      "[CV] END max_depth=8, max_features=0.2, max_samples=0.75, n_estimators=60; total time=   0.1s\n",
      "[CV] END max_depth=8, max_features=0.2, max_samples=0.5, n_estimators=120; total time=   0.2s\n",
      "[CV] END max_depth=8, max_features=0.2, max_samples=0.5, n_estimators=100; total time=   0.1s\n",
      "[CV] END max_depth=2, max_features=1.0, max_samples=1.0, n_estimators=120; total time=   0.2s\n",
      "[CV] END max_depth=8, max_features=0.2, max_samples=0.75, n_estimators=100; total time=   0.1s\n",
      "[CV] END max_depth=8, max_features=0.2, max_samples=1.0, n_estimators=20; total time=   0.0s\n",
      "[CV] END max_depth=8, max_features=0.2, max_samples=0.75, n_estimators=60; total time=   0.1s\n",
      "[CV] END max_depth=8, max_features=0.2, max_samples=1.0, n_estimators=20; total time=   0.0s\n",
      "[CV] END max_depth=8, max_features=0.2, max_samples=0.5, n_estimators=100; total time=   0.1s\n",
      "[CV] END max_depth=8, max_features=0.2, max_samples=0.75, n_estimators=120; total time=   0.2s\n",
      "[CV] END max_depth=8, max_features=0.2, max_samples=1.0, n_estimators=20; total time=   0.0s\n",
      "[CV] END max_depth=8, max_features=0.2, max_samples=0.75, n_estimators=100; total time=   0.1s\n",
      "[CV] END max_depth=8, max_features=0.2, max_samples=1.0, n_estimators=20; total time=   0.0s\n",
      "[CV] END max_depth=8, max_features=0.2, max_samples=0.5, n_estimators=120; total time=   0.2s\n",
      "[CV] END max_depth=8, max_features=0.2, max_samples=1.0, n_estimators=60; total time=   0.1s\n",
      "[CV] END max_depth=8, max_features=0.2, max_samples=1.0, n_estimators=60; total time=   0.1s\n",
      "[CV] END max_depth=8, max_features=0.2, max_samples=1.0, n_estimators=20; total time=   0.0s\n",
      "[CV] END max_depth=8, max_features=0.2, max_samples=0.75, n_estimators=100; total time=   0.1s\n",
      "[CV] END max_depth=8, max_features=0.2, max_samples=0.5, n_estimators=120; total time=   0.2s\n",
      "[CV] END max_depth=8, max_features=0.2, max_samples=0.75, n_estimators=100; total time=   0.1s\n",
      "[CV] END max_depth=8, max_features=0.2, max_samples=1.0, n_estimators=60; total time=   0.1s\n",
      "[CV] END max_depth=8, max_features=0.2, max_samples=1.0, n_estimators=60; total time=   0.1s\n",
      "[CV] END max_depth=8, max_features=0.2, max_samples=0.75, n_estimators=120; total time=   0.2s\n",
      "[CV] END max_depth=8, max_features=0.6, max_samples=0.5, n_estimators=20; total time=   0.0s\n",
      "[CV] END max_depth=8, max_features=0.2, max_samples=1.0, n_estimators=100; total time=   0.1s\n",
      "[CV] END max_depth=8, max_features=0.6, max_samples=0.5, n_estimators=20; total time=   0.0s\n",
      "[CV] END max_depth=8, max_features=0.2, max_samples=0.5, n_estimators=120; total time=   0.2s\n",
      "[CV] END max_depth=8, max_features=0.2, max_samples=1.0, n_estimators=60; total time=   0.1s\n",
      "[CV] END max_depth=8, max_features=0.2, max_samples=0.75, n_estimators=100; total time=   0.1s\n",
      "[CV] END max_depth=8, max_features=0.6, max_samples=0.5, n_estimators=20; total time=   0.0s\n",
      "[CV] END max_depth=8, max_features=0.6, max_samples=0.5, n_estimators=20; total time=   0.0s\n",
      "[CV] END max_depth=8, max_features=0.6, max_samples=0.5, n_estimators=20; total time=   0.0s\n",
      "[CV] END max_depth=8, max_features=0.2, max_samples=1.0, n_estimators=100; total time=   0.1s\n",
      "[CV] END max_depth=8, max_features=0.2, max_samples=1.0, n_estimators=120; total time=   0.2s\n",
      "[CV] END max_depth=8, max_features=0.6, max_samples=0.5, n_estimators=60; total time=   0.1s\n",
      "[CV] END max_depth=8, max_features=0.2, max_samples=0.75, n_estimators=120; total time=   0.2s\n",
      "[CV] END max_depth=8, max_features=0.2, max_samples=1.0, n_estimators=100; total time=   0.2s\n",
      "[CV] END max_depth=8, max_features=0.6, max_samples=0.5, n_estimators=60; total time=   0.1s\n",
      "[CV] END max_depth=8, max_features=0.2, max_samples=0.75, n_estimators=120; total time=   0.2s\n",
      "[CV] END max_depth=8, max_features=0.6, max_samples=0.5, n_estimators=60; total time=   0.1s\n",
      "[CV] END max_depth=8, max_features=0.6, max_samples=0.5, n_estimators=100; total time=   0.2s\n",
      "[CV] END max_depth=8, max_features=0.6, max_samples=0.5, n_estimators=60; total time=   0.1s\n",
      "[CV] END max_depth=8, max_features=0.2, max_samples=1.0, n_estimators=100; total time=   0.2s\n",
      "[CV] END max_depth=8, max_features=0.2, max_samples=1.0, n_estimators=120; total time=   0.2s\n",
      "[CV] END max_depth=8, max_features=0.6, max_samples=0.75, n_estimators=20; total time=   0.0s\n",
      "[CV] END max_depth=8, max_features=0.2, max_samples=0.75, n_estimators=120; total time=   0.2s\n",
      "[CV] END max_depth=8, max_features=0.2, max_samples=1.0, n_estimators=100; total time=   0.2s\n",
      "[CV] END max_depth=8, max_features=0.6, max_samples=0.75, n_estimators=20; total time=   0.0s\n",
      "[CV] END max_depth=8, max_features=0.6, max_samples=0.75, n_estimators=20; total time=   0.0s\n",
      "[CV] END max_depth=8, max_features=0.6, max_samples=0.5, n_estimators=60; total time=   0.1s\n",
      "[CV] END max_depth=8, max_features=0.6, max_samples=0.75, n_estimators=20; total time=   0.0s\n",
      "[CV] END max_depth=8, max_features=0.6, max_samples=0.5, n_estimators=100; total time=   0.2s\n",
      "[CV] END max_depth=8, max_features=0.6, max_samples=0.5, n_estimators=120; total time=   0.2s\n",
      "[CV] END max_depth=8, max_features=0.6, max_samples=0.5, n_estimators=100; total time=   0.2s\n",
      "[CV] END max_depth=8, max_features=0.6, max_samples=0.75, n_estimators=20; total time=   0.0s\n",
      "[CV] END max_depth=8, max_features=0.6, max_samples=0.75, n_estimators=60; total time=   0.1s\n",
      "[CV] END max_depth=8, max_features=0.6, max_samples=0.75, n_estimators=60; total time=   0.1s\n",
      "[CV] END max_depth=8, max_features=0.2, max_samples=1.0, n_estimators=120; total time=   0.2s\n",
      "[CV] END max_depth=8, max_features=0.2, max_samples=1.0, n_estimators=120; total time=   0.2s\n",
      "[CV] END max_depth=8, max_features=0.6, max_samples=0.5, n_estimators=100; total time=   0.1s\n",
      "[CV] END max_depth=8, max_features=0.6, max_samples=0.75, n_estimators=60; total time=   0.1s\n",
      "[CV] END max_depth=8, max_features=0.6, max_samples=0.5, n_estimators=100; total time=   0.1s\n",
      "[CV] END max_depth=8, max_features=0.6, max_samples=0.75, n_estimators=60; total time=   0.1s\n",
      "[CV] END max_depth=8, max_features=0.6, max_samples=1.0, n_estimators=20; total time=   0.0s\n",
      "[CV] END max_depth=8, max_features=0.6, max_samples=0.5, n_estimators=120; total time=   0.2s\n",
      "[CV] END max_depth=8, max_features=0.6, max_samples=0.75, n_estimators=100; total time=   0.2s\n",
      "[CV] END max_depth=8, max_features=0.6, max_samples=1.0, n_estimators=20; total time=   0.0s\n",
      "[CV] END max_depth=8, max_features=0.6, max_samples=1.0, n_estimators=20; total time=   0.0s\n",
      "[CV] END max_depth=8, max_features=0.2, max_samples=1.0, n_estimators=120; total time=   0.2s\n",
      "[CV] END max_depth=8, max_features=0.6, max_samples=0.75, n_estimators=60; total time=   0.1s\n",
      "[CV] END max_depth=8, max_features=0.6, max_samples=0.75, n_estimators=120; total time=   0.2s\n",
      "[CV] END max_depth=8, max_features=0.6, max_samples=1.0, n_estimators=20; total time=   0.0s\n",
      "[CV] END max_depth=8, max_features=0.6, max_samples=1.0, n_estimators=20; total time=   0.0s\n",
      "[CV] END max_depth=8, max_features=0.6, max_samples=0.75, n_estimators=100; total time=   0.2s\n",
      "[CV] END max_depth=8, max_features=0.6, max_samples=0.5, n_estimators=120; total time=   0.2s\n",
      "[CV] END max_depth=8, max_features=0.6, max_samples=0.75, n_estimators=100; total time=   0.2s\n",
      "[CV] END max_depth=8, max_features=0.6, max_samples=1.0, n_estimators=60; total time=   0.1s\n",
      "[CV] END max_depth=8, max_features=0.6, max_samples=0.5, n_estimators=120; total time=   0.2s\n",
      "[CV] END max_depth=8, max_features=0.6, max_samples=1.0, n_estimators=60; total time=   0.1s\n",
      "[CV] END max_depth=8, max_features=0.6, max_samples=1.0, n_estimators=100; total time=   0.2s\n",
      "[CV] END max_depth=8, max_features=0.6, max_samples=1.0, n_estimators=60; total time=   0.1s\n",
      "[CV] END max_depth=8, max_features=0.6, max_samples=0.75, n_estimators=120; total time=   0.2s\n",
      "[CV] END max_depth=8, max_features=0.6, max_samples=0.75, n_estimators=100; total time=   0.2s\n",
      "[CV] END max_depth=8, max_features=0.6, max_samples=1.0, n_estimators=60; total time=   0.1s\n",
      "[CV] END max_depth=8, max_features=0.6, max_samples=0.75, n_estimators=100; total time=   0.2s\n",
      "[CV] END max_depth=8, max_features=1.0, max_samples=0.5, n_estimators=20; total time=   0.0s\n",
      "[CV] END max_depth=8, max_features=0.6, max_samples=1.0, n_estimators=120; total time=   0.2s\n",
      "[CV] END max_depth=8, max_features=0.6, max_samples=0.5, n_estimators=120; total time=   0.2s\n",
      "[CV] END max_depth=8, max_features=1.0, max_samples=0.5, n_estimators=20; total time=   0.0s\n",
      "[CV] END max_depth=8, max_features=1.0, max_samples=0.5, n_estimators=20; total time=   0.0s\n",
      "[CV] END max_depth=8, max_features=1.0, max_samples=0.5, n_estimators=20; total time=   0.0s\n",
      "[CV] END max_depth=8, max_features=0.6, max_samples=1.0, n_estimators=60; total time=   0.1s\n",
      "[CV] END max_depth=8, max_features=0.6, max_samples=1.0, n_estimators=100; total time=   0.2s\n",
      "[CV] END max_depth=8, max_features=0.6, max_samples=1.0, n_estimators=100; total time=   0.2s\n",
      "[CV] END max_depth=8, max_features=1.0, max_samples=0.5, n_estimators=20; total time=   0.0s\n",
      "[CV] END max_depth=8, max_features=0.6, max_samples=0.75, n_estimators=120; total time=   0.2s\n",
      "[CV] END max_depth=8, max_features=1.0, max_samples=0.5, n_estimators=60; total time=   0.1s\n",
      "[CV] END max_depth=8, max_features=1.0, max_samples=0.5, n_estimators=60; total time=   0.1s\n",
      "[CV] END max_depth=8, max_features=0.6, max_samples=0.75, n_estimators=120; total time=   0.2s\n",
      "[CV] END max_depth=8, max_features=0.6, max_samples=1.0, n_estimators=120; total time=   0.2s\n",
      "[CV] END max_depth=8, max_features=0.6, max_samples=1.0, n_estimators=100; total time=   0.2s\n",
      "[CV] END max_depth=8, max_features=0.6, max_samples=1.0, n_estimators=100; total time=   0.2s\n",
      "[CV] END max_depth=8, max_features=1.0, max_samples=0.5, n_estimators=60; total time=   0.1s\n",
      "[CV] END max_depth=8, max_features=1.0, max_samples=0.5, n_estimators=60; total time=   0.1s\n",
      "[CV] END max_depth=8, max_features=1.0, max_samples=0.5, n_estimators=100; total time=   0.2s\n",
      "[CV] END max_depth=8, max_features=1.0, max_samples=0.75, n_estimators=20; total time=   0.0s\n",
      "[CV] END max_depth=8, max_features=0.6, max_samples=0.75, n_estimators=120; total time=   0.2s\n",
      "[CV] END max_depth=8, max_features=1.0, max_samples=0.75, n_estimators=20; total time=   0.0s\n",
      "[CV] END max_depth=8, max_features=1.0, max_samples=0.75, n_estimators=20; total time=   0.0s\n",
      "[CV] END max_depth=8, max_features=1.0, max_samples=0.5, n_estimators=120; total time=   0.2s\n",
      "[CV] END max_depth=8, max_features=1.0, max_samples=0.5, n_estimators=60; total time=   0.1s\n",
      "[CV] END max_depth=8, max_features=1.0, max_samples=0.75, n_estimators=20; total time=   0.0s\n",
      "[CV] END max_depth=8, max_features=0.6, max_samples=1.0, n_estimators=120; total time=   0.2s\n",
      "[CV] END max_depth=8, max_features=1.0, max_samples=0.75, n_estimators=20; total time=   0.0s\n",
      "[CV] END max_depth=8, max_features=1.0, max_samples=0.5, n_estimators=100; total time=   0.2s\n",
      "[CV] END max_depth=8, max_features=1.0, max_samples=0.5, n_estimators=100; total time=   0.2s\n",
      "[CV] END max_depth=8, max_features=0.6, max_samples=1.0, n_estimators=120; total time=   0.2s\n",
      "[CV] END max_depth=8, max_features=1.0, max_samples=0.75, n_estimators=60; total time=   0.1s\n",
      "[CV] END max_depth=8, max_features=1.0, max_samples=0.75, n_estimators=60; total time=   0.1s\n",
      "[CV] END max_depth=8, max_features=1.0, max_samples=0.5, n_estimators=120; total time=   0.2s\n",
      "[CV] END max_depth=8, max_features=1.0, max_samples=0.75, n_estimators=60; total time=   0.1s\n",
      "[CV] END max_depth=8, max_features=1.0, max_samples=0.75, n_estimators=100; total time=   0.2s\n",
      "[CV] END max_depth=8, max_features=1.0, max_samples=0.5, n_estimators=100; total time=   0.2s\n",
      "[CV] END max_depth=8, max_features=1.0, max_samples=0.75, n_estimators=60; total time=   0.1s\n",
      "[CV] END max_depth=8, max_features=0.6, max_samples=1.0, n_estimators=120; total time=   0.2s\n",
      "[CV] END max_depth=8, max_features=1.0, max_samples=0.5, n_estimators=100; total time=   0.2s\n",
      "[CV] END max_depth=8, max_features=1.0, max_samples=1.0, n_estimators=20; total time=   0.0s\n",
      "[CV] END max_depth=8, max_features=1.0, max_samples=1.0, n_estimators=20; total time=   0.0s\n",
      "[CV] END max_depth=8, max_features=1.0, max_samples=0.75, n_estimators=120; total time=   0.2s\n",
      "[CV] END max_depth=8, max_features=1.0, max_samples=1.0, n_estimators=20; total time=   0.0s\n",
      "[CV] END max_depth=8, max_features=1.0, max_samples=0.75, n_estimators=60; total time=   0.1s\n",
      "[CV] END max_depth=8, max_features=1.0, max_samples=1.0, n_estimators=20; total time=   0.0s\n",
      "[CV] END max_depth=8, max_features=1.0, max_samples=0.5, n_estimators=120; total time=   0.2s\n",
      "[CV] END max_depth=8, max_features=1.0, max_samples=0.75, n_estimators=100; total time=   0.2s\n",
      "[CV] END max_depth=8, max_features=1.0, max_samples=1.0, n_estimators=60; total time=   0.1s\n",
      "[CV] END max_depth=8, max_features=1.0, max_samples=1.0, n_estimators=20; total time=   0.0s\n",
      "[CV] END max_depth=8, max_features=1.0, max_samples=0.75, n_estimators=100; total time=   0.2s\n",
      "[CV] END max_depth=8, max_features=1.0, max_samples=0.5, n_estimators=120; total time=   0.2s\n",
      "[CV] END max_depth=8, max_features=1.0, max_samples=1.0, n_estimators=60; total time=   0.1s\n",
      "[CV] END max_depth=8, max_features=1.0, max_samples=0.75, n_estimators=120; total time=   0.2s\n",
      "[CV] END max_depth=8, max_features=1.0, max_samples=1.0, n_estimators=60; total time=   0.1s\n",
      "[CV] END max_depth=8, max_features=1.0, max_samples=1.0, n_estimators=60; total time=   0.1s\n",
      "[CV] END max_depth=8, max_features=1.0, max_samples=0.75, n_estimators=100; total time=   0.2s\n",
      "[CV] END max_depth=8, max_features=1.0, max_samples=1.0, n_estimators=100; total time=   0.2s\n",
      "[CV] END max_depth=8, max_features=1.0, max_samples=0.5, n_estimators=120; total time=   0.2s\n",
      "[CV] END max_depth=8, max_features=1.0, max_samples=0.75, n_estimators=100; total time=   0.2s\n",
      "[CV] END max_depth=None, max_features=0.2, max_samples=0.5, n_estimators=20; total time=   0.0s\n",
      "[CV] END max_depth=8, max_features=1.0, max_samples=1.0, n_estimators=60; total time=   0.1s\n",
      "[CV] END max_depth=None, max_features=0.2, max_samples=0.5, n_estimators=20; total time=   0.0s\n",
      "[CV] END max_depth=8, max_features=1.0, max_samples=1.0, n_estimators=120; total time=   0.2s\n",
      "[CV] END max_depth=None, max_features=0.2, max_samples=0.5, n_estimators=20; total time=   0.0s\n",
      "[CV] END max_depth=None, max_features=0.2, max_samples=0.5, n_estimators=20; total time=   0.0s\n",
      "[CV] END max_depth=8, max_features=1.0, max_samples=0.75, n_estimators=120; total time=   0.2s\n",
      "[CV] END max_depth=None, max_features=0.2, max_samples=0.5, n_estimators=60; total time=   0.1s\n",
      "[CV] END max_depth=None, max_features=0.2, max_samples=0.5, n_estimators=60; total time=   0.1s\n",
      "[CV] END max_depth=None, max_features=0.2, max_samples=0.5, n_estimators=20; total time=   0.0s\n",
      "[CV] END max_depth=8, max_features=1.0, max_samples=1.0, n_estimators=100; total time=   0.2s\n",
      "[CV] END max_depth=8, max_features=1.0, max_samples=1.0, n_estimators=100; total time=   0.2s\n",
      "[CV] END max_depth=8, max_features=1.0, max_samples=0.75, n_estimators=120; total time=   0.2s\n",
      "[CV] END max_depth=None, max_features=0.2, max_samples=0.5, n_estimators=60; total time=   0.1s\n",
      "[CV] END max_depth=None, max_features=0.2, max_samples=0.5, n_estimators=60; total time=   0.1s\n",
      "[CV] END max_depth=None, max_features=0.2, max_samples=0.5, n_estimators=100; total time=   0.1s\n",
      "[CV] END max_depth=8, max_features=1.0, max_samples=1.0, n_estimators=120; total time=   0.2s\n",
      "[CV] END max_depth=None, max_features=0.2, max_samples=0.5, n_estimators=60; total time=   0.1s\n",
      "[CV] END max_depth=8, max_features=1.0, max_samples=0.75, n_estimators=120; total time=   0.2s\n",
      "[CV] END max_depth=None, max_features=0.2, max_samples=0.75, n_estimators=20; total time=   0.0s\n",
      "[CV] END max_depth=None, max_features=0.2, max_samples=0.5, n_estimators=100; total time=   0.1s\n",
      "[CV] END max_depth=8, max_features=1.0, max_samples=1.0, n_estimators=100; total time=   0.2s\n",
      "[CV] END max_depth=None, max_features=0.2, max_samples=0.75, n_estimators=20; total time=   0.0s\n",
      "[CV] END max_depth=None, max_features=0.2, max_samples=0.5, n_estimators=120; total time=   0.2s\n",
      "[CV] END max_depth=None, max_features=0.2, max_samples=0.75, n_estimators=20; total time=   0.0s\n",
      "[CV] END max_depth=8, max_features=1.0, max_samples=1.0, n_estimators=100; total time=   0.2s\n",
      "[CV] END max_depth=None, max_features=0.2, max_samples=0.75, n_estimators=20; total time=   0.0s\n",
      "[CV] END max_depth=None, max_features=0.2, max_samples=0.5, n_estimators=100; total time=   0.1s\n",
      "[CV] END max_depth=None, max_features=0.2, max_samples=0.75, n_estimators=20; total time=   0.0s\n",
      "[CV] END max_depth=None, max_features=0.2, max_samples=0.75, n_estimators=60; total time=   0.1s\n",
      "[CV] END max_depth=None, max_features=0.2, max_samples=0.75, n_estimators=60; total time=   0.1s\n",
      "[CV] END max_depth=None, max_features=0.2, max_samples=0.5, n_estimators=100; total time=   0.1s\n",
      "[CV] END max_depth=8, max_features=1.0, max_samples=1.0, n_estimators=120; total time=   0.2s\n",
      "[CV] END max_depth=None, max_features=0.2, max_samples=0.75, n_estimators=60; total time=   0.1s\n",
      "[CV] END max_depth=None, max_features=0.2, max_samples=0.75, n_estimators=60; total time=   0.1s\n",
      "[CV] END max_depth=None, max_features=0.2, max_samples=0.5, n_estimators=120; total time=   0.2s\n",
      "[CV] END max_depth=None, max_features=0.2, max_samples=0.5, n_estimators=100; total time=   0.1s\n",
      "[CV] END max_depth=None, max_features=0.2, max_samples=0.75, n_estimators=100; total time=   0.2s\n",
      "[CV] END max_depth=8, max_features=1.0, max_samples=1.0, n_estimators=120; total time=   0.2s\n",
      "[CV] END max_depth=None, max_features=0.2, max_samples=0.75, n_estimators=60; total time=   0.1s\n",
      "[CV] END max_depth=None, max_features=0.2, max_samples=1.0, n_estimators=20; total time=   0.0s\n",
      "[CV] END max_depth=None, max_features=0.2, max_samples=1.0, n_estimators=20; total time=   0.0s\n",
      "[CV] END max_depth=None, max_features=0.2, max_samples=0.75, n_estimators=120; total time=   0.2s\n",
      "[CV] END max_depth=None, max_features=0.2, max_samples=1.0, n_estimators=20; total time=   0.0s\n",
      "[CV] END max_depth=None, max_features=0.2, max_samples=0.75, n_estimators=100; total time=   0.2s\n",
      "[CV] END max_depth=None, max_features=0.2, max_samples=1.0, n_estimators=20; total time=   0.0s\n",
      "[CV] END max_depth=None, max_features=0.2, max_samples=0.5, n_estimators=120; total time=   0.2s\n",
      "[CV] END max_depth=None, max_features=0.2, max_samples=0.5, n_estimators=120; total time=   0.2s\n",
      "[CV] END max_depth=None, max_features=0.2, max_samples=1.0, n_estimators=60; total time=   0.1s\n",
      "[CV] END max_depth=8, max_features=1.0, max_samples=1.0, n_estimators=120; total time=   0.2s\n",
      "[CV] END max_depth=None, max_features=0.2, max_samples=1.0, n_estimators=20; total time=   0.0s\n",
      "[CV] END max_depth=None, max_features=0.2, max_samples=0.75, n_estimators=100; total time=   0.2s\n",
      "[CV] END max_depth=None, max_features=0.2, max_samples=1.0, n_estimators=60; total time=   0.1s\n",
      "[CV] END max_depth=None, max_features=0.2, max_samples=1.0, n_estimators=60; total time=   0.1s\n",
      "[CV] END max_depth=None, max_features=0.2, max_samples=0.75, n_estimators=100; total time=   0.1s\n",
      "[CV] END max_depth=None, max_features=0.2, max_samples=0.75, n_estimators=120; total time=   0.2s\n",
      "[CV] END max_depth=None, max_features=0.6, max_samples=0.5, n_estimators=20; total time=   0.0s\n",
      "[CV] END max_depth=None, max_features=0.2, max_samples=0.5, n_estimators=120; total time=   0.2s\n",
      "[CV] END max_depth=None, max_features=0.2, max_samples=1.0, n_estimators=100; total time=   0.2s\n",
      "[CV] END max_depth=None, max_features=0.2, max_samples=1.0, n_estimators=60; total time=   0.1s\n",
      "[CV] END max_depth=None, max_features=0.6, max_samples=0.5, n_estimators=20; total time=   0.0s\n",
      "[CV] END max_depth=None, max_features=0.2, max_samples=0.75, n_estimators=100; total time=   0.2s\n",
      "[CV] END max_depth=None, max_features=0.6, max_samples=0.5, n_estimators=20; total time=   0.0s\n",
      "[CV] END max_depth=None, max_features=0.2, max_samples=1.0, n_estimators=120; total time=   0.2s\n",
      "[CV] END max_depth=None, max_features=0.2, max_samples=1.0, n_estimators=60; total time=   0.1s\n",
      "[CV] END max_depth=None, max_features=0.6, max_samples=0.5, n_estimators=20; total time=   0.0s\n",
      "[CV] END max_depth=None, max_features=0.6, max_samples=0.5, n_estimators=20; total time=   0.0s\n",
      "[CV] END max_depth=None, max_features=0.2, max_samples=0.75, n_estimators=120; total time=   0.2s\n",
      "[CV] END max_depth=None, max_features=0.6, max_samples=0.5, n_estimators=60; total time=   0.1s\n",
      "[CV] END max_depth=None, max_features=0.6, max_samples=0.5, n_estimators=60; total time=   0.1s\n",
      "[CV] END max_depth=None, max_features=0.2, max_samples=1.0, n_estimators=100; total time=   0.2s\n",
      "[CV] END max_depth=None, max_features=0.2, max_samples=1.0, n_estimators=100; total time=   0.2s\n",
      "[CV] END max_depth=None, max_features=0.2, max_samples=1.0, n_estimators=120; total time=   0.2s\n",
      "[CV] END max_depth=None, max_features=0.6, max_samples=0.5, n_estimators=60; total time=   0.1s\n",
      "[CV] END max_depth=None, max_features=0.2, max_samples=0.75, n_estimators=120; total time=   0.2s\n",
      "[CV] END max_depth=None, max_features=0.6, max_samples=0.5, n_estimators=60; total time=   0.1s\n",
      "[CV] END max_depth=None, max_features=0.6, max_samples=0.5, n_estimators=100; total time=   0.2s\n",
      "[CV] END max_depth=None, max_features=0.2, max_samples=0.75, n_estimators=120; total time=   0.2s\n",
      "[CV] END max_depth=None, max_features=0.6, max_samples=0.5, n_estimators=60; total time=   0.1s\n",
      "[CV] END max_depth=None, max_features=0.2, max_samples=1.0, n_estimators=100; total time=   0.1s\n",
      "[CV] END max_depth=None, max_features=0.2, max_samples=1.0, n_estimators=100; total time=   0.2s\n",
      "[CV] END max_depth=None, max_features=0.6, max_samples=0.75, n_estimators=20; total time=   0.0s\n",
      "[CV] END max_depth=None, max_features=0.6, max_samples=0.75, n_estimators=20; total time=   0.0s\n",
      "[CV] END max_depth=None, max_features=0.6, max_samples=0.75, n_estimators=20; total time=   0.0s\n",
      "[CV] END max_depth=None, max_features=0.6, max_samples=0.5, n_estimators=100; total time=   0.2s\n",
      "[CV] END max_depth=None, max_features=0.6, max_samples=0.5, n_estimators=100; total time=   0.1s\n",
      "[CV] END max_depth=None, max_features=0.2, max_samples=1.0, n_estimators=120; total time=   0.2s\n",
      "[CV] END max_depth=None, max_features=0.6, max_samples=0.75, n_estimators=20; total time=   0.0s\n",
      "[CV] END max_depth=None, max_features=0.6, max_samples=0.5, n_estimators=120; total time=   0.2s\n",
      "[CV] END max_depth=None, max_features=0.6, max_samples=0.75, n_estimators=60; total time=   0.1s\n",
      "[CV] END max_depth=None, max_features=0.6, max_samples=0.75, n_estimators=20; total time=   0.0s\n",
      "[CV] END max_depth=None, max_features=0.6, max_samples=0.75, n_estimators=60; total time=   0.1s\n",
      "[CV] END max_depth=None, max_features=0.2, max_samples=1.0, n_estimators=120; total time=   0.2s\n",
      "[CV] END max_depth=None, max_features=0.6, max_samples=0.75, n_estimators=60; total time=   0.1s\n",
      "[CV] END max_depth=None, max_features=0.6, max_samples=0.5, n_estimators=100; total time=   0.1s\n",
      "[CV] END max_depth=None, max_features=0.6, max_samples=0.5, n_estimators=100; total time=   0.2s\n",
      "[CV] END max_depth=None, max_features=0.6, max_samples=0.75, n_estimators=60; total time=   0.1s\n",
      "[CV] END max_depth=None, max_features=0.6, max_samples=1.0, n_estimators=20; total time=   0.0s\n",
      "[CV] END max_depth=None, max_features=0.2, max_samples=1.0, n_estimators=120; total time=   0.2s\n",
      "[CV] END max_depth=None, max_features=0.6, max_samples=0.75, n_estimators=100; total time=   0.2s\n",
      "[CV] END max_depth=None, max_features=0.6, max_samples=0.5, n_estimators=120; total time=   0.2s\n",
      "[CV] END max_depth=None, max_features=0.6, max_samples=1.0, n_estimators=20; total time=   0.0s\n",
      "[CV] END max_depth=None, max_features=0.6, max_samples=1.0, n_estimators=20; total time=   0.0s\n",
      "[CV] END max_depth=None, max_features=0.6, max_samples=1.0, n_estimators=20; total time=   0.0s\n",
      "[CV] END max_depth=None, max_features=0.6, max_samples=0.75, n_estimators=60; total time=   0.1s\n",
      "[CV] END max_depth=None, max_features=0.6, max_samples=1.0, n_estimators=20; total time=   0.0s\n",
      "[CV] END max_depth=None, max_features=0.6, max_samples=0.75, n_estimators=100; total time=   0.2s\n",
      "[CV] END max_depth=None, max_features=0.6, max_samples=0.75, n_estimators=120; total time=   0.2s\n",
      "[CV] END max_depth=None, max_features=0.6, max_samples=1.0, n_estimators=60; total time=   0.1s\n",
      "[CV] END max_depth=None, max_features=0.6, max_samples=0.5, n_estimators=120; total time=   0.2s\n",
      "[CV] END max_depth=None, max_features=0.6, max_samples=1.0, n_estimators=60; total time=   0.1s\n",
      "[CV] END max_depth=None, max_features=0.6, max_samples=0.75, n_estimators=100; total time=   0.2s\n",
      "[CV] END max_depth=None, max_features=0.6, max_samples=0.5, n_estimators=120; total time=   0.2s\n",
      "[CV] END max_depth=None, max_features=0.6, max_samples=1.0, n_estimators=60; total time=   0.1s\n",
      "[CV] END max_depth=None, max_features=0.6, max_samples=0.75, n_estimators=100; total time=   0.2s\n",
      "[CV] END max_depth=None, max_features=0.6, max_samples=1.0, n_estimators=100; total time=   0.2s\n",
      "[CV] END max_depth=None, max_features=0.6, max_samples=1.0, n_estimators=60; total time=   0.1s\n",
      "[CV] END max_depth=None, max_features=1.0, max_samples=0.5, n_estimators=20; total time=   0.0s\n",
      "[CV] END max_depth=None, max_features=0.6, max_samples=0.75, n_estimators=120; total time=   0.2s\n",
      "[CV] END max_depth=None, max_features=1.0, max_samples=0.5, n_estimators=20; total time=   0.0s\n",
      "[CV] END max_depth=None, max_features=0.6, max_samples=0.75, n_estimators=100; total time=   0.2s\n",
      "[CV] END max_depth=None, max_features=0.6, max_samples=1.0, n_estimators=120; total time=   0.2s\n",
      "[CV] END max_depth=None, max_features=0.6, max_samples=1.0, n_estimators=60; total time=   0.1s\n",
      "[CV] END max_depth=None, max_features=0.6, max_samples=0.5, n_estimators=120; total time=   0.2s\n",
      "[CV] END max_depth=None, max_features=1.0, max_samples=0.5, n_estimators=20; total time=   0.0s\n",
      "[CV] END max_depth=None, max_features=1.0, max_samples=0.5, n_estimators=20; total time=   0.0s\n",
      "[CV] END max_depth=None, max_features=1.0, max_samples=0.5, n_estimators=20; total time=   0.0s\n",
      "[CV] END max_depth=None, max_features=0.6, max_samples=1.0, n_estimators=100; total time=   0.2s\n",
      "[CV] END max_depth=None, max_features=0.6, max_samples=1.0, n_estimators=100; total time=   0.2s\n",
      "[CV] END max_depth=None, max_features=1.0, max_samples=0.5, n_estimators=60; total time=   0.1s\n",
      "[CV] END max_depth=None, max_features=1.0, max_samples=0.5, n_estimators=60; total time=   0.1s\n",
      "[CV] END max_depth=None, max_features=0.6, max_samples=0.75, n_estimators=120; total time=   0.2s\n",
      "[CV] END max_depth=None, max_features=0.6, max_samples=0.75, n_estimators=120; total time=   0.2s\n",
      "[CV] END max_depth=None, max_features=0.6, max_samples=1.0, n_estimators=120; total time=   0.2s\n",
      "[CV] END max_depth=None, max_features=1.0, max_samples=0.5, n_estimators=60; total time=   0.1s\n",
      "[CV] END max_depth=None, max_features=1.0, max_samples=0.5, n_estimators=100; total time=   0.2s\n",
      "[CV] END max_depth=None, max_features=1.0, max_samples=0.5, n_estimators=60; total time=   0.1s\n",
      "[CV] END max_depth=None, max_features=0.6, max_samples=1.0, n_estimators=100; total time=   0.2s\n",
      "[CV] END max_depth=None, max_features=0.6, max_samples=1.0, n_estimators=100; total time=   0.2s\n",
      "[CV] END max_depth=None, max_features=1.0, max_samples=0.75, n_estimators=20; total time=   0.0s\n",
      "[CV] END max_depth=None, max_features=1.0, max_samples=0.5, n_estimators=60; total time=   0.1s\n",
      "[CV] END max_depth=None, max_features=0.6, max_samples=0.75, n_estimators=120; total time=   0.2s\n",
      "[CV] END max_depth=None, max_features=1.0, max_samples=0.75, n_estimators=20; total time=   0.0s\n",
      "[CV] END max_depth=None, max_features=1.0, max_samples=0.5, n_estimators=100; total time=   0.2s\n",
      "[CV] END max_depth=None, max_features=1.0, max_samples=0.5, n_estimators=100; total time=   0.2s\n",
      "[CV] END max_depth=None, max_features=1.0, max_samples=0.5, n_estimators=120; total time=   0.2s\n",
      "[CV] END max_depth=None, max_features=1.0, max_samples=0.75, n_estimators=20; total time=   0.1s\n",
      "[CV] END max_depth=None, max_features=1.0, max_samples=0.75, n_estimators=20; total time=   0.0s\n",
      "[CV] END max_depth=None, max_features=0.6, max_samples=1.0, n_estimators=120; total time=   0.2s\n",
      "[CV] END max_depth=None, max_features=1.0, max_samples=0.75, n_estimators=20; total time=   0.0s\n",
      "[CV] END max_depth=None, max_features=1.0, max_samples=0.75, n_estimators=60; total time=   0.1s\n",
      "[CV] END max_depth=None, max_features=0.6, max_samples=1.0, n_estimators=120; total time=   0.2s\n",
      "[CV] END max_depth=None, max_features=1.0, max_samples=0.75, n_estimators=60; total time=   0.1s\n",
      "[CV] END max_depth=None, max_features=1.0, max_samples=0.5, n_estimators=100; total time=   0.2s\n",
      "[CV] END max_depth=None, max_features=1.0, max_samples=0.5, n_estimators=100; total time=   0.2s\n",
      "[CV] END max_depth=None, max_features=1.0, max_samples=0.75, n_estimators=60; total time=   0.1s\n",
      "[CV] END max_depth=None, max_features=1.0, max_samples=0.5, n_estimators=120; total time=   0.2s\n",
      "[CV] END max_depth=None, max_features=1.0, max_samples=1.0, n_estimators=20; total time=   0.0s\n",
      "[CV] END max_depth=None, max_features=1.0, max_samples=0.75, n_estimators=60; total time=   0.1s\n",
      "[CV] END max_depth=None, max_features=0.6, max_samples=1.0, n_estimators=120; total time=   0.2s\n",
      "[CV] END max_depth=None, max_features=1.0, max_samples=0.75, n_estimators=100; total time=   0.2s\n",
      "[CV] END max_depth=None, max_features=1.0, max_samples=1.0, n_estimators=20; total time=   0.0s\n",
      "[CV] END max_depth=None, max_features=1.0, max_samples=1.0, n_estimators=20; total time=   0.0s\n",
      "[CV] END max_depth=None, max_features=1.0, max_samples=0.75, n_estimators=120; total time=   0.2s\n",
      "[CV] END max_depth=None, max_features=1.0, max_samples=1.0, n_estimators=20; total time=   0.0s\n",
      "[CV] END max_depth=None, max_features=1.0, max_samples=0.75, n_estimators=60; total time=   0.1s\n",
      "[CV] END max_depth=None, max_features=1.0, max_samples=1.0, n_estimators=20; total time=   0.0s\n",
      "[CV] END max_depth=None, max_features=1.0, max_samples=0.75, n_estimators=100; total time=   0.2s\n",
      "[CV] END max_depth=None, max_features=1.0, max_samples=0.5, n_estimators=120; total time=   0.2s\n",
      "[CV] END max_depth=None, max_features=1.0, max_samples=0.5, n_estimators=120; total time=   0.2s\n",
      "[CV] END max_depth=None, max_features=1.0, max_samples=1.0, n_estimators=60; total time=   0.1s\n",
      "[CV] END max_depth=None, max_features=1.0, max_samples=0.75, n_estimators=100; total time=   0.2s\n",
      "[CV] END max_depth=None, max_features=1.0, max_samples=1.0, n_estimators=60; total time=   0.1s\n",
      "[CV] END max_depth=None, max_features=1.0, max_samples=1.0, n_estimators=60; total time=   0.1s\n",
      "[CV] END max_depth=None, max_features=1.0, max_samples=0.75, n_estimators=120; total time=   0.2s\n",
      "[CV] END max_depth=None, max_features=1.0, max_samples=1.0, n_estimators=60; total time=   0.1s\n",
      "[CV] END max_depth=None, max_features=1.0, max_samples=0.75, n_estimators=100; total time=   0.2s\n",
      "[CV] END max_depth=None, max_features=1.0, max_samples=0.5, n_estimators=120; total time=   0.2s\n",
      "[CV] END max_depth=None, max_features=1.0, max_samples=1.0, n_estimators=100; total time=   0.2s\n",
      "[CV] END max_depth=None, max_features=1.0, max_samples=0.75, n_estimators=100; total time=   0.2s\n",
      "[CV] END max_depth=None, max_features=1.0, max_samples=1.0, n_estimators=60; total time=   0.1s\n",
      "[CV] END max_depth=None, max_features=1.0, max_samples=1.0, n_estimators=100; total time=   0.2s\n",
      "[CV] END max_depth=None, max_features=1.0, max_samples=1.0, n_estimators=100; total time=   0.2s\n",
      "[CV] END max_depth=None, max_features=1.0, max_samples=0.75, n_estimators=120; total time=   0.2s\n",
      "[CV] END max_depth=None, max_features=1.0, max_samples=1.0, n_estimators=100; total time=   0.2s\n",
      "[CV] END max_depth=None, max_features=1.0, max_samples=1.0, n_estimators=100; total time=   0.2s\n",
      "[CV] END max_depth=None, max_features=1.0, max_samples=1.0, n_estimators=120; total time=   0.2s\n",
      "[CV] END max_depth=None, max_features=1.0, max_samples=0.75, n_estimators=120; total time=   0.2s\n",
      "[CV] END max_depth=None, max_features=1.0, max_samples=1.0, n_estimators=120; total time=   0.2s\n",
      "[CV] END max_depth=None, max_features=1.0, max_samples=1.0, n_estimators=120; total time=   0.2s\n",
      "[CV] END max_depth=None, max_features=1.0, max_samples=1.0, n_estimators=120; total time=   0.2s\n",
      "[CV] END max_depth=None, max_features=1.0, max_samples=0.75, n_estimators=120; total time=   0.2s\n",
      "[CV] END max_depth=None, max_features=1.0, max_samples=1.0, n_estimators=120; total time=   0.2s\n"
     ]
    },
    {
     "data": {
      "text/plain": [
       "np.float64(0.8233307148468185)"
      ]
     },
     "execution_count": 140,
     "metadata": {},
     "output_type": "execute_result"
    }
   ],
   "source": [
    "from sklearn.model_selection import GridSearchCV\n",
    "search = GridSearchCV(estimator=rf,param_grid=params, cv=5, verbose=2, n_jobs=-1)\n",
    "\n",
    "search.fit(X_train,y_train)\n",
    "search.best_params_\n",
    "search.best_score_"
   ]
  },
  {
   "cell_type": "code",
   "execution_count": 141,
   "metadata": {},
   "outputs": [
    {
     "name": "stdout",
     "output_type": "stream",
     "text": [
      "{'max_depth': 8, 'max_features': 1.0, 'max_samples': 0.5, 'n_estimators': 120}\n",
      "0.8233307148468185\n"
     ]
    }
   ],
   "source": [
    "print(search.best_params_)\n",
    "print(search.best_score_)"
   ]
  },
  {
   "cell_type": "code",
   "execution_count": null,
   "metadata": {},
   "outputs": [],
   "source": []
  }
 ],
 "metadata": {
  "kernelspec": {
   "display_name": "base",
   "language": "python",
   "name": "python3"
  },
  "language_info": {
   "codemirror_mode": {
    "name": "ipython",
    "version": 3
   },
   "file_extension": ".py",
   "mimetype": "text/x-python",
   "name": "python",
   "nbconvert_exporter": "python",
   "pygments_lexer": "ipython3",
   "version": "3.12.2"
  }
 },
 "nbformat": 4,
 "nbformat_minor": 2
}
