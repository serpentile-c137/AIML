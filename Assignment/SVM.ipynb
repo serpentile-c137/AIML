{
 "cells": [
  {
   "cell_type": "code",
   "execution_count": 1,
   "id": "106fa93f",
   "metadata": {
    "execution": {
     "iopub.execute_input": "2024-11-16T16:14:28.617739Z",
     "iopub.status.busy": "2024-11-16T16:14:28.617119Z",
     "iopub.status.idle": "2024-11-16T16:14:31.331863Z",
     "shell.execute_reply": "2024-11-16T16:14:31.330370Z"
    },
    "papermill": {
     "duration": 2.738392,
     "end_time": "2024-11-16T16:14:31.334939",
     "exception": false,
     "start_time": "2024-11-16T16:14:28.596547",
     "status": "completed"
    },
    "tags": []
   },
   "outputs": [],
   "source": [
    "import numpy as np \n",
    "import pandas as pd \n",
    "import matplotlib.pyplot as plt\n",
    "import seaborn as sns"
   ]
  },
  {
   "cell_type": "markdown",
   "id": "c8dddf44",
   "metadata": {
    "papermill": {
     "duration": 0.018087,
     "end_time": "2024-11-16T16:14:31.370985",
     "exception": false,
     "start_time": "2024-11-16T16:14:31.352898",
     "status": "completed"
    },
    "tags": []
   },
   "source": [
    "### Reading the files"
   ]
  },
  {
   "cell_type": "code",
   "execution_count": 2,
   "id": "06737820",
   "metadata": {
    "execution": {
     "iopub.execute_input": "2024-11-16T16:14:31.407532Z",
     "iopub.status.busy": "2024-11-16T16:14:31.406919Z",
     "iopub.status.idle": "2024-11-16T16:14:33.118142Z",
     "shell.execute_reply": "2024-11-16T16:14:33.116852Z"
    },
    "papermill": {
     "duration": 1.733088,
     "end_time": "2024-11-16T16:14:33.121248",
     "exception": false,
     "start_time": "2024-11-16T16:14:31.388160",
     "status": "completed"
    },
    "tags": []
   },
   "outputs": [],
   "source": [
    "df_test  = pd.read_csv(\"test.csv\")\n",
    "df_train = pd.read_csv(\"train.csv\")"
   ]
  },
  {
   "cell_type": "markdown",
   "id": "fd549513",
   "metadata": {
    "papermill": {
     "duration": 0.016815,
     "end_time": "2024-11-16T16:14:33.155322",
     "exception": false,
     "start_time": "2024-11-16T16:14:33.138507",
     "status": "completed"
    },
    "tags": []
   },
   "source": [
    "### exploring the data given : "
   ]
  },
  {
   "cell_type": "code",
   "execution_count": 3,
   "id": "13f55745",
   "metadata": {
    "execution": {
     "iopub.execute_input": "2024-11-16T16:14:33.191614Z",
     "iopub.status.busy": "2024-11-16T16:14:33.191203Z",
     "iopub.status.idle": "2024-11-16T16:14:33.220148Z",
     "shell.execute_reply": "2024-11-16T16:14:33.218892Z"
    },
    "papermill": {
     "duration": 0.050278,
     "end_time": "2024-11-16T16:14:33.222939",
     "exception": false,
     "start_time": "2024-11-16T16:14:33.172661",
     "status": "completed"
    },
    "tags": []
   },
   "outputs": [
    {
     "data": {
      "text/html": [
       "<div>\n",
       "<style scoped>\n",
       "    .dataframe tbody tr th:only-of-type {\n",
       "        vertical-align: middle;\n",
       "    }\n",
       "\n",
       "    .dataframe tbody tr th {\n",
       "        vertical-align: top;\n",
       "    }\n",
       "\n",
       "    .dataframe thead th {\n",
       "        text-align: right;\n",
       "    }\n",
       "</style>\n",
       "<table border=\"1\" class=\"dataframe\">\n",
       "  <thead>\n",
       "    <tr style=\"text-align: right;\">\n",
       "      <th></th>\n",
       "      <th>id</th>\n",
       "      <th>brand</th>\n",
       "      <th>model</th>\n",
       "      <th>model_year</th>\n",
       "      <th>milage</th>\n",
       "      <th>fuel_type</th>\n",
       "      <th>engine</th>\n",
       "      <th>transmission</th>\n",
       "      <th>ext_col</th>\n",
       "      <th>int_col</th>\n",
       "      <th>accident</th>\n",
       "      <th>clean_title</th>\n",
       "      <th>price</th>\n",
       "    </tr>\n",
       "  </thead>\n",
       "  <tbody>\n",
       "    <tr>\n",
       "      <th>0</th>\n",
       "      <td>0</td>\n",
       "      <td>MINI</td>\n",
       "      <td>Cooper S Base</td>\n",
       "      <td>2007</td>\n",
       "      <td>213000</td>\n",
       "      <td>Gasoline</td>\n",
       "      <td>172.0HP 1.6L 4 Cylinder Engine Gasoline Fuel</td>\n",
       "      <td>A/T</td>\n",
       "      <td>Yellow</td>\n",
       "      <td>Gray</td>\n",
       "      <td>None reported</td>\n",
       "      <td>Yes</td>\n",
       "      <td>4200</td>\n",
       "    </tr>\n",
       "    <tr>\n",
       "      <th>1</th>\n",
       "      <td>1</td>\n",
       "      <td>Lincoln</td>\n",
       "      <td>LS V8</td>\n",
       "      <td>2002</td>\n",
       "      <td>143250</td>\n",
       "      <td>Gasoline</td>\n",
       "      <td>252.0HP 3.9L 8 Cylinder Engine Gasoline Fuel</td>\n",
       "      <td>A/T</td>\n",
       "      <td>Silver</td>\n",
       "      <td>Beige</td>\n",
       "      <td>At least 1 accident or damage reported</td>\n",
       "      <td>Yes</td>\n",
       "      <td>4999</td>\n",
       "    </tr>\n",
       "    <tr>\n",
       "      <th>2</th>\n",
       "      <td>2</td>\n",
       "      <td>Chevrolet</td>\n",
       "      <td>Silverado 2500 LT</td>\n",
       "      <td>2002</td>\n",
       "      <td>136731</td>\n",
       "      <td>E85 Flex Fuel</td>\n",
       "      <td>320.0HP 5.3L 8 Cylinder Engine Flex Fuel Capab...</td>\n",
       "      <td>A/T</td>\n",
       "      <td>Blue</td>\n",
       "      <td>Gray</td>\n",
       "      <td>None reported</td>\n",
       "      <td>Yes</td>\n",
       "      <td>13900</td>\n",
       "    </tr>\n",
       "    <tr>\n",
       "      <th>3</th>\n",
       "      <td>3</td>\n",
       "      <td>Genesis</td>\n",
       "      <td>G90 5.0 Ultimate</td>\n",
       "      <td>2017</td>\n",
       "      <td>19500</td>\n",
       "      <td>Gasoline</td>\n",
       "      <td>420.0HP 5.0L 8 Cylinder Engine Gasoline Fuel</td>\n",
       "      <td>Transmission w/Dual Shift Mode</td>\n",
       "      <td>Black</td>\n",
       "      <td>Black</td>\n",
       "      <td>None reported</td>\n",
       "      <td>Yes</td>\n",
       "      <td>45000</td>\n",
       "    </tr>\n",
       "    <tr>\n",
       "      <th>4</th>\n",
       "      <td>4</td>\n",
       "      <td>Mercedes-Benz</td>\n",
       "      <td>Metris Base</td>\n",
       "      <td>2021</td>\n",
       "      <td>7388</td>\n",
       "      <td>Gasoline</td>\n",
       "      <td>208.0HP 2.0L 4 Cylinder Engine Gasoline Fuel</td>\n",
       "      <td>7-Speed A/T</td>\n",
       "      <td>Black</td>\n",
       "      <td>Beige</td>\n",
       "      <td>None reported</td>\n",
       "      <td>Yes</td>\n",
       "      <td>97500</td>\n",
       "    </tr>\n",
       "  </tbody>\n",
       "</table>\n",
       "</div>"
      ],
      "text/plain": [
       "   id          brand              model  model_year  milage      fuel_type  \\\n",
       "0   0           MINI      Cooper S Base        2007  213000       Gasoline   \n",
       "1   1        Lincoln              LS V8        2002  143250       Gasoline   \n",
       "2   2      Chevrolet  Silverado 2500 LT        2002  136731  E85 Flex Fuel   \n",
       "3   3        Genesis   G90 5.0 Ultimate        2017   19500       Gasoline   \n",
       "4   4  Mercedes-Benz        Metris Base        2021    7388       Gasoline   \n",
       "\n",
       "                                              engine  \\\n",
       "0       172.0HP 1.6L 4 Cylinder Engine Gasoline Fuel   \n",
       "1       252.0HP 3.9L 8 Cylinder Engine Gasoline Fuel   \n",
       "2  320.0HP 5.3L 8 Cylinder Engine Flex Fuel Capab...   \n",
       "3       420.0HP 5.0L 8 Cylinder Engine Gasoline Fuel   \n",
       "4       208.0HP 2.0L 4 Cylinder Engine Gasoline Fuel   \n",
       "\n",
       "                     transmission ext_col int_col  \\\n",
       "0                             A/T  Yellow    Gray   \n",
       "1                             A/T  Silver   Beige   \n",
       "2                             A/T    Blue    Gray   \n",
       "3  Transmission w/Dual Shift Mode   Black   Black   \n",
       "4                     7-Speed A/T   Black   Beige   \n",
       "\n",
       "                                 accident clean_title  price  \n",
       "0                           None reported         Yes   4200  \n",
       "1  At least 1 accident or damage reported         Yes   4999  \n",
       "2                           None reported         Yes  13900  \n",
       "3                           None reported         Yes  45000  \n",
       "4                           None reported         Yes  97500  "
      ]
     },
     "execution_count": 3,
     "metadata": {},
     "output_type": "execute_result"
    }
   ],
   "source": [
    "df_train.head()"
   ]
  },
  {
   "cell_type": "code",
   "execution_count": 4,
   "id": "dcb36225",
   "metadata": {
    "execution": {
     "iopub.execute_input": "2024-11-16T16:14:33.260319Z",
     "iopub.status.busy": "2024-11-16T16:14:33.259925Z",
     "iopub.status.idle": "2024-11-16T16:14:33.278806Z",
     "shell.execute_reply": "2024-11-16T16:14:33.277479Z"
    },
    "papermill": {
     "duration": 0.040651,
     "end_time": "2024-11-16T16:14:33.281464",
     "exception": false,
     "start_time": "2024-11-16T16:14:33.240813",
     "status": "completed"
    },
    "tags": []
   },
   "outputs": [
    {
     "data": {
      "text/html": [
       "<div>\n",
       "<style scoped>\n",
       "    .dataframe tbody tr th:only-of-type {\n",
       "        vertical-align: middle;\n",
       "    }\n",
       "\n",
       "    .dataframe tbody tr th {\n",
       "        vertical-align: top;\n",
       "    }\n",
       "\n",
       "    .dataframe thead th {\n",
       "        text-align: right;\n",
       "    }\n",
       "</style>\n",
       "<table border=\"1\" class=\"dataframe\">\n",
       "  <thead>\n",
       "    <tr style=\"text-align: right;\">\n",
       "      <th></th>\n",
       "      <th>id</th>\n",
       "      <th>brand</th>\n",
       "      <th>model</th>\n",
       "      <th>model_year</th>\n",
       "      <th>milage</th>\n",
       "      <th>fuel_type</th>\n",
       "      <th>engine</th>\n",
       "      <th>transmission</th>\n",
       "      <th>ext_col</th>\n",
       "      <th>int_col</th>\n",
       "      <th>accident</th>\n",
       "      <th>clean_title</th>\n",
       "    </tr>\n",
       "  </thead>\n",
       "  <tbody>\n",
       "    <tr>\n",
       "      <th>0</th>\n",
       "      <td>188533</td>\n",
       "      <td>Land</td>\n",
       "      <td>Rover LR2 Base</td>\n",
       "      <td>2015</td>\n",
       "      <td>98000</td>\n",
       "      <td>Gasoline</td>\n",
       "      <td>240.0HP 2.0L 4 Cylinder Engine Gasoline Fuel</td>\n",
       "      <td>6-Speed A/T</td>\n",
       "      <td>White</td>\n",
       "      <td>Beige</td>\n",
       "      <td>None reported</td>\n",
       "      <td>Yes</td>\n",
       "    </tr>\n",
       "    <tr>\n",
       "      <th>1</th>\n",
       "      <td>188534</td>\n",
       "      <td>Land</td>\n",
       "      <td>Rover Defender SE</td>\n",
       "      <td>2020</td>\n",
       "      <td>9142</td>\n",
       "      <td>Hybrid</td>\n",
       "      <td>395.0HP 3.0L Straight 6 Cylinder Engine Gasoli...</td>\n",
       "      <td>8-Speed A/T</td>\n",
       "      <td>Silver</td>\n",
       "      <td>Black</td>\n",
       "      <td>None reported</td>\n",
       "      <td>Yes</td>\n",
       "    </tr>\n",
       "    <tr>\n",
       "      <th>2</th>\n",
       "      <td>188535</td>\n",
       "      <td>Ford</td>\n",
       "      <td>Expedition Limited</td>\n",
       "      <td>2022</td>\n",
       "      <td>28121</td>\n",
       "      <td>Gasoline</td>\n",
       "      <td>3.5L V6 24V PDI DOHC Twin Turbo</td>\n",
       "      <td>10-Speed Automatic</td>\n",
       "      <td>White</td>\n",
       "      <td>Ebony</td>\n",
       "      <td>None reported</td>\n",
       "      <td>NaN</td>\n",
       "    </tr>\n",
       "    <tr>\n",
       "      <th>3</th>\n",
       "      <td>188536</td>\n",
       "      <td>Audi</td>\n",
       "      <td>A6 2.0T Sport</td>\n",
       "      <td>2016</td>\n",
       "      <td>61258</td>\n",
       "      <td>Gasoline</td>\n",
       "      <td>2.0 Liter TFSI</td>\n",
       "      <td>Automatic</td>\n",
       "      <td>Silician Yellow</td>\n",
       "      <td>Black</td>\n",
       "      <td>None reported</td>\n",
       "      <td>NaN</td>\n",
       "    </tr>\n",
       "    <tr>\n",
       "      <th>4</th>\n",
       "      <td>188537</td>\n",
       "      <td>Audi</td>\n",
       "      <td>A6 2.0T Premium Plus</td>\n",
       "      <td>2018</td>\n",
       "      <td>59000</td>\n",
       "      <td>Gasoline</td>\n",
       "      <td>252.0HP 2.0L 4 Cylinder Engine Gasoline Fuel</td>\n",
       "      <td>A/T</td>\n",
       "      <td>Gray</td>\n",
       "      <td>Black</td>\n",
       "      <td>None reported</td>\n",
       "      <td>Yes</td>\n",
       "    </tr>\n",
       "  </tbody>\n",
       "</table>\n",
       "</div>"
      ],
      "text/plain": [
       "       id brand                 model  model_year  milage fuel_type  \\\n",
       "0  188533  Land        Rover LR2 Base        2015   98000  Gasoline   \n",
       "1  188534  Land     Rover Defender SE        2020    9142    Hybrid   \n",
       "2  188535  Ford    Expedition Limited        2022   28121  Gasoline   \n",
       "3  188536  Audi         A6 2.0T Sport        2016   61258  Gasoline   \n",
       "4  188537  Audi  A6 2.0T Premium Plus        2018   59000  Gasoline   \n",
       "\n",
       "                                              engine        transmission  \\\n",
       "0       240.0HP 2.0L 4 Cylinder Engine Gasoline Fuel         6-Speed A/T   \n",
       "1  395.0HP 3.0L Straight 6 Cylinder Engine Gasoli...         8-Speed A/T   \n",
       "2                    3.5L V6 24V PDI DOHC Twin Turbo  10-Speed Automatic   \n",
       "3                                     2.0 Liter TFSI           Automatic   \n",
       "4       252.0HP 2.0L 4 Cylinder Engine Gasoline Fuel                 A/T   \n",
       "\n",
       "           ext_col int_col       accident clean_title  \n",
       "0            White   Beige  None reported         Yes  \n",
       "1           Silver   Black  None reported         Yes  \n",
       "2            White   Ebony  None reported         NaN  \n",
       "3  Silician Yellow   Black  None reported         NaN  \n",
       "4             Gray   Black  None reported         Yes  "
      ]
     },
     "execution_count": 4,
     "metadata": {},
     "output_type": "execute_result"
    }
   ],
   "source": [
    "df_test.head()#no price is given here "
   ]
  },
  {
   "cell_type": "markdown",
   "id": "5dd1e866",
   "metadata": {
    "papermill": {
     "duration": 0.017962,
     "end_time": "2024-11-16T16:14:33.317642",
     "exception": false,
     "start_time": "2024-11-16T16:14:33.299680",
     "status": "completed"
    },
    "tags": []
   },
   "source": [
    "### looking for outliers and missing values \n"
   ]
  },
  {
   "cell_type": "code",
   "execution_count": 5,
   "id": "f697ce67",
   "metadata": {
    "execution": {
     "iopub.execute_input": "2024-11-16T16:14:33.356958Z",
     "iopub.status.busy": "2024-11-16T16:14:33.355739Z",
     "iopub.status.idle": "2024-11-16T16:14:33.568243Z",
     "shell.execute_reply": "2024-11-16T16:14:33.567069Z"
    },
    "papermill": {
     "duration": 0.235262,
     "end_time": "2024-11-16T16:14:33.571106",
     "exception": false,
     "start_time": "2024-11-16T16:14:33.335844",
     "status": "completed"
    },
    "tags": []
   },
   "outputs": [
    {
     "name": "stdout",
     "output_type": "stream",
     "text": [
      "<class 'pandas.core.frame.DataFrame'>\n",
      "RangeIndex: 188533 entries, 0 to 188532\n",
      "Data columns (total 13 columns):\n",
      " #   Column        Non-Null Count   Dtype \n",
      "---  ------        --------------   ----- \n",
      " 0   id            188533 non-null  int64 \n",
      " 1   brand         188533 non-null  object\n",
      " 2   model         188533 non-null  object\n",
      " 3   model_year    188533 non-null  int64 \n",
      " 4   milage        188533 non-null  int64 \n",
      " 5   fuel_type     183450 non-null  object\n",
      " 6   engine        188533 non-null  object\n",
      " 7   transmission  188533 non-null  object\n",
      " 8   ext_col       188533 non-null  object\n",
      " 9   int_col       188533 non-null  object\n",
      " 10  accident      186081 non-null  object\n",
      " 11  clean_title   167114 non-null  object\n",
      " 12  price         188533 non-null  int64 \n",
      "dtypes: int64(4), object(9)\n",
      "memory usage: 18.7+ MB\n"
     ]
    }
   ],
   "source": [
    "df_train.info()\n"
   ]
  },
  {
   "cell_type": "code",
   "execution_count": 6,
   "id": "d8733be4",
   "metadata": {
    "execution": {
     "iopub.execute_input": "2024-11-16T16:14:33.611778Z",
     "iopub.status.busy": "2024-11-16T16:14:33.610788Z",
     "iopub.status.idle": "2024-11-16T16:14:33.821423Z",
     "shell.execute_reply": "2024-11-16T16:14:33.819865Z"
    },
    "papermill": {
     "duration": 0.236372,
     "end_time": "2024-11-16T16:14:33.826734",
     "exception": false,
     "start_time": "2024-11-16T16:14:33.590362",
     "status": "completed"
    },
    "tags": []
   },
   "outputs": [
    {
     "data": {
      "text/plain": [
       "id                  0\n",
       "brand               0\n",
       "model               0\n",
       "model_year          0\n",
       "milage              0\n",
       "fuel_type        5083\n",
       "engine              0\n",
       "transmission        0\n",
       "ext_col             0\n",
       "int_col             0\n",
       "accident         2452\n",
       "clean_title     21419\n",
       "price               0\n",
       "dtype: int64"
      ]
     },
     "execution_count": 6,
     "metadata": {},
     "output_type": "execute_result"
    }
   ],
   "source": [
    "df_train.isnull().sum()\n"
   ]
  },
  {
   "cell_type": "code",
   "execution_count": 7,
   "id": "0a8a3670",
   "metadata": {
    "execution": {
     "iopub.execute_input": "2024-11-16T16:14:33.882618Z",
     "iopub.status.busy": "2024-11-16T16:14:33.882139Z",
     "iopub.status.idle": "2024-11-16T16:14:34.105393Z",
     "shell.execute_reply": "2024-11-16T16:14:34.102404Z"
    },
    "papermill": {
     "duration": 0.25442,
     "end_time": "2024-11-16T16:14:34.108747",
     "exception": false,
     "start_time": "2024-11-16T16:14:33.854327",
     "status": "completed"
    },
    "tags": []
   },
   "outputs": [
    {
     "name": "stdout",
     "output_type": "stream",
     "text": [
      "Columns in df_train with more than 10% missing values:\n",
      "fuel_type       2.696080\n",
      "accident        1.300568\n",
      "clean_title    11.360876\n",
      "dtype: float64\n"
     ]
    }
   ],
   "source": [
    "#geting the % of the missing \n",
    "missing_train = df_train.isna().mean() * 100\n",
    "\n",
    "print(\"Columns in df_train with more than 10% missing values:\")\n",
    "print(missing_train[missing_train > 0])"
   ]
  },
  {
   "cell_type": "markdown",
   "id": "9b177df0",
   "metadata": {
    "papermill": {
     "duration": 0.018297,
     "end_time": "2024-11-16T16:14:34.147531",
     "exception": false,
     "start_time": "2024-11-16T16:14:34.129234",
     "status": "completed"
    },
    "tags": []
   },
   "source": [
    "### so most missing  are in {fuel_type//accident//clean_title} now for outliers \n"
   ]
  },
  {
   "cell_type": "markdown",
   "id": "f0932477",
   "metadata": {
    "papermill": {
     "duration": 0.017775,
     "end_time": "2024-11-16T16:14:34.183590",
     "exception": false,
     "start_time": "2024-11-16T16:14:34.165815",
     "status": "completed"
    },
    "tags": []
   },
   "source": [
    "### we will use deffrent plots to find and then elminate them in an appropait way "
   ]
  },
  {
   "cell_type": "code",
   "execution_count": 8,
   "id": "5c561861",
   "metadata": {
    "execution": {
     "iopub.execute_input": "2024-11-16T16:14:34.221889Z",
     "iopub.status.busy": "2024-11-16T16:14:34.221413Z",
     "iopub.status.idle": "2024-11-16T16:14:34.230247Z",
     "shell.execute_reply": "2024-11-16T16:14:34.229003Z"
    },
    "papermill": {
     "duration": 0.031037,
     "end_time": "2024-11-16T16:14:34.232744",
     "exception": false,
     "start_time": "2024-11-16T16:14:34.201707",
     "status": "completed"
    },
    "tags": []
   },
   "outputs": [
    {
     "data": {
      "text/plain": [
       "Index(['id', 'brand', 'model', 'model_year', 'milage', 'fuel_type', 'engine',\n",
       "       'transmission', 'ext_col', 'int_col', 'accident', 'clean_title',\n",
       "       'price'],\n",
       "      dtype='object')"
      ]
     },
     "execution_count": 8,
     "metadata": {},
     "output_type": "execute_result"
    }
   ],
   "source": [
    "df_train.columns"
   ]
  },
  {
   "cell_type": "markdown",
   "id": "53c0f60e",
   "metadata": {
    "papermill": {
     "duration": 0.018604,
     "end_time": "2024-11-16T16:14:34.270379",
     "exception": false,
     "start_time": "2024-11-16T16:14:34.251775",
     "status": "completed"
    },
    "tags": []
   },
   "source": [
    "### columns that are of high intrest to us are  milage , model year : "
   ]
  },
  {
   "cell_type": "code",
   "execution_count": 9,
   "id": "8313da3f",
   "metadata": {
    "execution": {
     "iopub.execute_input": "2024-11-16T16:14:34.309994Z",
     "iopub.status.busy": "2024-11-16T16:14:34.309501Z",
     "iopub.status.idle": "2024-11-16T16:14:34.729663Z",
     "shell.execute_reply": "2024-11-16T16:14:34.727658Z"
    },
    "papermill": {
     "duration": 0.443417,
     "end_time": "2024-11-16T16:14:34.732542",
     "exception": false,
     "start_time": "2024-11-16T16:14:34.289125",
     "status": "completed"
    },
    "tags": []
   },
   "outputs": [
    {
     "data": {
      "text/plain": [
       "([0, 1, 2, 3, 4, 5, 6, 7, 8, 9, 10],\n",
       " [Text(0, 0, '0-10k'),\n",
       "  Text(1, 0, '10k-20k'),\n",
       "  Text(2, 0, '20k-30k'),\n",
       "  Text(3, 0, '30k-40k'),\n",
       "  Text(4, 0, '40k-50k'),\n",
       "  Text(5, 0, '50k-60k'),\n",
       "  Text(6, 0, '60k-70k'),\n",
       "  Text(7, 0, '70k-80k'),\n",
       "  Text(8, 0, '80k-90k'),\n",
       "  Text(9, 0, '90k-100k'),\n",
       "  Text(10, 0, '100k+')])"
      ]
     },
     "execution_count": 9,
     "metadata": {},
     "output_type": "execute_result"
    },
    {
     "data": {
      "image/png": "[encoded data removed]",
      "text/plain": [
       "<Figure size 1200x600 with 1 Axes>"
      ]
     },
     "metadata": {},
     "output_type": "display_data"
    }
   ],
   "source": [
    "\n",
    "bins = [0, 10000, 20000, 30000, 40000, 50000, 60000, 70000, 80000, 90000, 100000, 200000]\n",
    "labels = ['0-10k', '10k-20k', '20k-30k', '30k-40k', '40k-50k', '50k-60k', '60k-70k', '70k-80k', '80k-90k', '90k-100k', '100k+']\n",
    "xx = pd.cut(df_train['milage'], bins=bins, labels=labels, include_lowest=True) \n",
    "plt.figure(figsize=(12, 6)) \n",
    "sns.barplot(x=xx, y='price', data=df_train[:10000], errorbar=None)\n",
    "plt.title('Average Price by Mileage') \n",
    "plt.xlabel('Mileage Range') \n",
    "plt.ylabel('Average Price')\n",
    "plt.xticks(rotation=45) \n"
   ]
  },
  {
   "cell_type": "markdown",
   "id": "e78955e4",
   "metadata": {
    "papermill": {
     "duration": 0.018844,
     "end_time": "2024-11-16T16:14:34.771390",
     "exception": false,
     "start_time": "2024-11-16T16:14:34.752546",
     "status": "completed"
    },
    "tags": []
   },
   "source": [
    "### using IQR -> Q3-Q1 then we make a condition which act like a mask applying it to the DF and creating  a copy of it so we dont loss the original \n"
   ]
  },
  {
   "cell_type": "code",
   "execution_count": 10,
   "id": "1aa34ca6",
   "metadata": {
    "execution": {
     "iopub.execute_input": "2024-11-16T16:14:34.812973Z",
     "iopub.status.busy": "2024-11-16T16:14:34.811870Z",
     "iopub.status.idle": "2024-11-16T16:14:34.885038Z",
     "shell.execute_reply": "2024-11-16T16:14:34.883563Z"
    },
    "papermill": {
     "duration": 0.097431,
     "end_time": "2024-11-16T16:14:34.887956",
     "exception": false,
     "start_time": "2024-11-16T16:14:34.790525",
     "status": "completed"
    },
    "tags": []
   },
   "outputs": [
    {
     "name": "stdout",
     "output_type": "stream",
     "text": [
      "original data number of rows:  188533\n",
      "the cleaned data number of rows:  186767\n",
      "the amount removed:  1766\n"
     ]
    }
   ],
   "source": [
    "print(\"original data number of rows: \",df_train.shape[0])\n",
    "Q1 = df_train['milage'].quantile(0.25)\n",
    "Q3 = df_train['milage'].quantile(0.75)\n",
    "IQR = Q3 - Q1\n",
    "\n",
    "# Define the condition for outliers\n",
    "outlier_condition = (df_train['milage'] >= (Q1 - 1.5 * IQR)) & (df_train['milage'] <= (Q3 + 1.5 * IQR))\n",
    "\n",
    "# Select rows that are not outliers\n",
    "df_train_clean = df_train.loc[outlier_condition]\n",
    "\n",
    "# Display the cleaned DataFrame\n",
    "print(\"the cleaned data number of rows: \",df_train_clean.shape[0])\n",
    "print(\"the amount removed: \",df_train.shape[0]-df_train_clean.shape[0])\n",
    "##doing the same to the test:\n",
    "Q1 = df_test['milage'].quantile(0.25)\n",
    "Q3 = df_test['milage'].quantile(0.75)\n",
    "IQR = Q3 - Q1\n",
    "\n",
    "# Define the condition for outliers\n",
    "outlier_condition = (df_test['milage'] >= (Q1 - 1.5 * IQR)) & (df_test['milage'] <= (Q3 + 1.5 * IQR))\n",
    "\n",
    "# Select rows that are not outliers\n",
    "df_test_copy = df_test.loc[outlier_condition]"
   ]
  },
  {
   "cell_type": "code",
   "execution_count": 11,
   "id": "14c1ba7a",
   "metadata": {
    "execution": {
     "iopub.execute_input": "2024-11-16T16:14:34.969896Z",
     "iopub.status.busy": "2024-11-16T16:14:34.969387Z",
     "iopub.status.idle": "2024-11-16T16:14:36.196883Z",
     "shell.execute_reply": "2024-11-16T16:14:36.195440Z"
    },
    "papermill": {
     "duration": 1.253344,
     "end_time": "2024-11-16T16:14:36.200090",
     "exception": false,
     "start_time": "2024-11-16T16:14:34.946746",
     "status": "completed"
    },
    "tags": []
   },
   "outputs": [
    {
     "data": {
      "image/png": "[encoded data removed]",
      "text/plain": [
       "<Figure size 1400x800 with 1 Axes>"
      ]
     },
     "metadata": {},
     "output_type": "display_data"
    }
   ],
   "source": [
    "plt.figure(figsize=(14, 8))\n",
    "sns.boxplot(y='brand', x='price', data=df_train[:10000])\n",
    "plt.title('Box Plot of Price by Car Brand')\n",
    "plt.ylabel('Brand')\n",
    "plt.xlabel('Price')\n",
    "plt.xticks(rotation=90)\n",
    "plt.show()\n"
   ]
  },
  {
   "cell_type": "code",
   "execution_count": 12,
   "id": "dc6d2ff8",
   "metadata": {
    "execution": {
     "iopub.execute_input": "2024-11-16T16:14:36.245701Z",
     "iopub.status.busy": "2024-11-16T16:14:36.245215Z",
     "iopub.status.idle": "2024-11-16T16:14:36.296097Z",
     "shell.execute_reply": "2024-11-16T16:14:36.294899Z"
    },
    "papermill": {
     "duration": 0.076973,
     "end_time": "2024-11-16T16:14:36.298955",
     "exception": false,
     "start_time": "2024-11-16T16:14:36.221982",
     "status": "completed"
    },
    "tags": []
   },
   "outputs": [
    {
     "name": "stdout",
     "output_type": "stream",
     "text": [
      "original data number of rows:  186767\n",
      "the cleaned data number of rows:  175900\n",
      "the amount removed:  10867\n"
     ]
    }
   ],
   "source": [
    "print(\"original data number of rows: \",df_train_clean.shape[0])\n",
    "Q1 = df_train_clean['price'].quantile(0.25)\n",
    "Q3 = df_train_clean['price'].quantile(0.75)\n",
    "IQR = Q3 - Q1\n",
    "\n",
    "# Define the condition for outliers\n",
    "outlier_condition = (df_train_clean['price'] >= (Q1 - 1.5 * IQR)) & (df_train_clean['price'] <= (Q3 + 1.5 * IQR))\n",
    "\n",
    "# Select rows that are not outliers\n",
    "df_train_clean2 = df_train_clean.loc[outlier_condition]\n",
    "\n",
    "# Display the cleaned DataFrame\n",
    "print(\"the cleaned data number of rows: \",df_train_clean2.shape[0])\n",
    "print(\"the amount removed: \",df_train_clean.shape[0]-df_train_clean2.shape[0])\n"
   ]
  },
  {
   "cell_type": "markdown",
   "id": "144e63d8",
   "metadata": {
    "papermill": {
     "duration": 0.021934,
     "end_time": "2024-11-16T16:14:36.343060",
     "exception": false,
     "start_time": "2024-11-16T16:14:36.321126",
     "status": "completed"
    },
    "tags": []
   },
   "source": [
    "### we drop useless col like ID which serve no pourpres in ML accurcy : "
   ]
  },
  {
   "cell_type": "code",
   "execution_count": 13,
   "id": "8f8d3db1",
   "metadata": {
    "execution": {
     "iopub.execute_input": "2024-11-16T16:14:36.389216Z",
     "iopub.status.busy": "2024-11-16T16:14:36.388734Z",
     "iopub.status.idle": "2024-11-16T16:14:36.440437Z",
     "shell.execute_reply": "2024-11-16T16:14:36.439258Z"
    },
    "papermill": {
     "duration": 0.078417,
     "end_time": "2024-11-16T16:14:36.443545",
     "exception": false,
     "start_time": "2024-11-16T16:14:36.365128",
     "status": "completed"
    },
    "tags": []
   },
   "outputs": [],
   "source": [
    "df_train_clean2=df_train_clean2.drop(columns =[\"id\"])\n",
    "df_test_copy = df_test_copy.drop(columns=['id'])\n",
    "\n"
   ]
  },
  {
   "cell_type": "markdown",
   "id": "ccce26d7",
   "metadata": {
    "papermill": {
     "duration": 0.021271,
     "end_time": "2024-11-16T16:14:36.530058",
     "exception": false,
     "start_time": "2024-11-16T16:14:36.508787",
     "status": "completed"
    },
    "tags": []
   },
   "source": [
    "### usualy cars that gone throgh an a accidents  have lower prices. so we will se what to do about it "
   ]
  },
  {
   "cell_type": "code",
   "execution_count": 14,
   "id": "0d325eff",
   "metadata": {
    "execution": {
     "iopub.execute_input": "2024-11-16T16:14:36.575417Z",
     "iopub.status.busy": "2024-11-16T16:14:36.574967Z",
     "iopub.status.idle": "2024-11-16T16:14:36.968250Z",
     "shell.execute_reply": "2024-11-16T16:14:36.967097Z"
    },
    "papermill": {
     "duration": 0.419087,
     "end_time": "2024-11-16T16:14:36.970897",
     "exception": false,
     "start_time": "2024-11-16T16:14:36.551810",
     "status": "completed"
    },
    "tags": []
   },
   "outputs": [
    {
     "data": {
      "image/png": "[encoded data removed]",
      "text/plain": [
       "<Figure size 1000x600 with 1 Axes>"
      ]
     },
     "metadata": {},
     "output_type": "display_data"
    }
   ],
   "source": [
    "plt.figure(figsize=(10, 6))\n",
    "sns.barplot(x='accident', y='price', data=df_train_clean2, errorbar=None)\n",
    "plt.title('Average Price by Accident History')\n",
    "plt.xlabel('Accident History')\n",
    "plt.ylabel('Average Price')\n",
    "plt.xticks(rotation=45)\n",
    "plt.show()"
   ]
  },
  {
   "cell_type": "code",
   "execution_count": 15,
   "id": "3a462c26",
   "metadata": {
    "execution": {
     "iopub.execute_input": "2024-11-16T16:14:37.018602Z",
     "iopub.status.busy": "2024-11-16T16:14:37.017595Z",
     "iopub.status.idle": "2024-11-16T16:14:37.194668Z",
     "shell.execute_reply": "2024-11-16T16:14:37.193352Z"
    },
    "papermill": {
     "duration": 0.20394,
     "end_time": "2024-11-16T16:14:37.197248",
     "exception": false,
     "start_time": "2024-11-16T16:14:36.993308",
     "status": "completed"
    },
    "tags": []
   },
   "outputs": [
    {
     "data": {
      "text/plain": [
       "brand            0.000000\n",
       "model            0.000000\n",
       "model_year       0.000000\n",
       "milage           0.000000\n",
       "fuel_type        2.656623\n",
       "engine           0.000000\n",
       "transmission     0.000000\n",
       "ext_col          0.000000\n",
       "int_col          0.000000\n",
       "accident         1.260375\n",
       "clean_title     10.718590\n",
       "price            0.000000\n",
       "dtype: float64"
      ]
     },
     "execution_count": 15,
     "metadata": {},
     "output_type": "execute_result"
    }
   ],
   "source": [
    "df_train_clean2.isnull().mean()*100"
   ]
  },
  {
   "cell_type": "markdown",
   "id": "16eac958",
   "metadata": {
    "papermill": {
     "duration": 0.022355,
     "end_time": "2024-11-16T16:14:37.287990",
     "exception": false,
     "start_time": "2024-11-16T16:14:37.265635",
     "status": "completed"
    },
    "tags": []
   },
   "source": [
    "### dealing up with missing data :"
   ]
  },
  {
   "cell_type": "markdown",
   "id": "1bc879bd",
   "metadata": {
    "papermill": {
     "duration": 0.022293,
     "end_time": "2024-11-16T16:14:37.333377",
     "exception": false,
     "start_time": "2024-11-16T16:14:37.311084",
     "status": "completed"
    },
    "tags": []
   },
   "source": [
    "### fuel_type       2.656623\n",
    "### accident        1.260375\n",
    "### clean_title    10.718590"
   ]
  },
  {
   "cell_type": "code",
   "execution_count": 16,
   "id": "5b08f94d",
   "metadata": {
    "execution": {
     "iopub.execute_input": "2024-11-16T16:14:37.380951Z",
     "iopub.status.busy": "2024-11-16T16:14:37.380508Z",
     "iopub.status.idle": "2024-11-16T16:14:37.398038Z",
     "shell.execute_reply": "2024-11-16T16:14:37.396707Z"
    },
    "papermill": {
     "duration": 0.044132,
     "end_time": "2024-11-16T16:14:37.400443",
     "exception": false,
     "start_time": "2024-11-16T16:14:37.356311",
     "status": "completed"
    },
    "tags": []
   },
   "outputs": [
    {
     "data": {
      "text/plain": [
       "array(['Yes', nan], dtype=object)"
      ]
     },
     "execution_count": 16,
     "metadata": {},
     "output_type": "execute_result"
    }
   ],
   "source": [
    "df_test[\"clean_title\"].unique()# so we will use binary to fix it "
   ]
  },
  {
   "cell_type": "code",
   "execution_count": 17,
   "id": "70ffbb75",
   "metadata": {
    "execution": {
     "iopub.execute_input": "2024-11-16T16:14:37.449089Z",
     "iopub.status.busy": "2024-11-16T16:14:37.447838Z",
     "iopub.status.idle": "2024-11-16T16:14:37.730451Z",
     "shell.execute_reply": "2024-11-16T16:14:37.729229Z"
    },
    "papermill": {
     "duration": 0.31006,
     "end_time": "2024-11-16T16:14:37.733561",
     "exception": false,
     "start_time": "2024-11-16T16:14:37.423501",
     "status": "completed"
    },
    "tags": []
   },
   "outputs": [
    {
     "name": "stderr",
     "output_type": "stream",
     "text": [
      "C:\\Users\\GANESH\\AppData\\Local\\Temp\\ipykernel_18464\\3153132317.py:1: FutureWarning: A value is trying to be set on a copy of a DataFrame or Series through chained assignment using an inplace method.\n",
      "The behavior will change in pandas 3.0. This inplace method will never work because the intermediate object on which we are setting values always behaves as a copy.\n",
      "\n",
      "For example, when doing 'df[col].method(value, inplace=True)', try using 'df.method({col: value}, inplace=True)' or df[col] = df[col].method(value) instead, to perform the operation inplace on the original object.\n",
      "\n",
      "\n",
      "  df_train_clean2['clean_title'].fillna('No', inplace=True)# this will replace nan with no\n",
      "C:\\Users\\GANESH\\AppData\\Local\\Temp\\ipykernel_18464\\3153132317.py:9: FutureWarning: A value is trying to be set on a copy of a DataFrame or Series through chained assignment using an inplace method.\n",
      "The behavior will change in pandas 3.0. This inplace method will never work because the intermediate object on which we are setting values always behaves as a copy.\n",
      "\n",
      "For example, when doing 'df[col].method(value, inplace=True)', try using 'df.method({col: value}, inplace=True)' or df[col] = df[col].method(value) instead, to perform the operation inplace on the original object.\n",
      "\n",
      "\n",
      "  df_test_copy['clean_title'].fillna('No', inplace=True)# this will replace nan with no\n"
     ]
    }
   ],
   "source": [
    "\n",
    "df_train_clean2['clean_title'].fillna('No', inplace=True)# this will replace nan with no \n",
    "# Encode 'Yes' as 1 and 'No' as 0\n",
    "df_train_clean2['clean_title'] = df_train_clean2['clean_title'].apply(lambda x: 1 if x == 'Yes' else 0)\n",
    "\n",
    "# we will mix it with milage because the more the car is driven the higher the chance it have major issues like accidents or severe damage \n",
    "df_train_clean2['clean_title_milage'] = df_train_clean2['clean_title'] * df_train_clean2['milage']\n",
    "\n",
    "#####\n",
    "df_test_copy['clean_title'].fillna('No', inplace=True)# this will replace nan with no \n",
    "# Encode 'Yes' as 1 and 'No' as 0\n",
    "df_test_copy['clean_title'] = df_test_copy['clean_title'].apply(lambda x: 1 if x == 'Yes' else 0)\n",
    "\n",
    "# we will mix it with milage because the more the car is driven the higher the chance it have major issues like accidents or severe damage \n",
    "df_test_copy['clean_title_milage'] = df_test_copy['clean_title'] * df_test_copy['milage']\n",
    "\n"
   ]
  },
  {
   "cell_type": "code",
   "execution_count": 18,
   "id": "b1a93819",
   "metadata": {
    "execution": {
     "iopub.execute_input": "2024-11-16T16:14:37.783841Z",
     "iopub.status.busy": "2024-11-16T16:14:37.783389Z",
     "iopub.status.idle": "2024-11-16T16:14:37.802335Z",
     "shell.execute_reply": "2024-11-16T16:14:37.801003Z"
    },
    "papermill": {
     "duration": 0.046651,
     "end_time": "2024-11-16T16:14:37.804976",
     "exception": false,
     "start_time": "2024-11-16T16:14:37.758325",
     "status": "completed"
    },
    "tags": []
   },
   "outputs": [
    {
     "data": {
      "text/html": [
       "<div>\n",
       "<style scoped>\n",
       "    .dataframe tbody tr th:only-of-type {\n",
       "        vertical-align: middle;\n",
       "    }\n",
       "\n",
       "    .dataframe tbody tr th {\n",
       "        vertical-align: top;\n",
       "    }\n",
       "\n",
       "    .dataframe thead th {\n",
       "        text-align: right;\n",
       "    }\n",
       "</style>\n",
       "<table border=\"1\" class=\"dataframe\">\n",
       "  <thead>\n",
       "    <tr style=\"text-align: right;\">\n",
       "      <th></th>\n",
       "      <th>brand</th>\n",
       "      <th>model</th>\n",
       "      <th>model_year</th>\n",
       "      <th>milage</th>\n",
       "      <th>fuel_type</th>\n",
       "      <th>engine</th>\n",
       "      <th>transmission</th>\n",
       "      <th>ext_col</th>\n",
       "      <th>int_col</th>\n",
       "      <th>accident</th>\n",
       "      <th>clean_title</th>\n",
       "      <th>price</th>\n",
       "      <th>clean_title_milage</th>\n",
       "    </tr>\n",
       "  </thead>\n",
       "  <tbody>\n",
       "    <tr>\n",
       "      <th>1</th>\n",
       "      <td>Lincoln</td>\n",
       "      <td>LS V8</td>\n",
       "      <td>2002</td>\n",
       "      <td>143250</td>\n",
       "      <td>Gasoline</td>\n",
       "      <td>252.0HP 3.9L 8 Cylinder Engine Gasoline Fuel</td>\n",
       "      <td>A/T</td>\n",
       "      <td>Silver</td>\n",
       "      <td>Beige</td>\n",
       "      <td>At least 1 accident or damage reported</td>\n",
       "      <td>1</td>\n",
       "      <td>4999</td>\n",
       "      <td>143250</td>\n",
       "    </tr>\n",
       "    <tr>\n",
       "      <th>2</th>\n",
       "      <td>Chevrolet</td>\n",
       "      <td>Silverado 2500 LT</td>\n",
       "      <td>2002</td>\n",
       "      <td>136731</td>\n",
       "      <td>E85 Flex Fuel</td>\n",
       "      <td>320.0HP 5.3L 8 Cylinder Engine Flex Fuel Capab...</td>\n",
       "      <td>A/T</td>\n",
       "      <td>Blue</td>\n",
       "      <td>Gray</td>\n",
       "      <td>None reported</td>\n",
       "      <td>1</td>\n",
       "      <td>13900</td>\n",
       "      <td>136731</td>\n",
       "    </tr>\n",
       "    <tr>\n",
       "      <th>3</th>\n",
       "      <td>Genesis</td>\n",
       "      <td>G90 5.0 Ultimate</td>\n",
       "      <td>2017</td>\n",
       "      <td>19500</td>\n",
       "      <td>Gasoline</td>\n",
       "      <td>420.0HP 5.0L 8 Cylinder Engine Gasoline Fuel</td>\n",
       "      <td>Transmission w/Dual Shift Mode</td>\n",
       "      <td>Black</td>\n",
       "      <td>Black</td>\n",
       "      <td>None reported</td>\n",
       "      <td>1</td>\n",
       "      <td>45000</td>\n",
       "      <td>19500</td>\n",
       "    </tr>\n",
       "    <tr>\n",
       "      <th>4</th>\n",
       "      <td>Mercedes-Benz</td>\n",
       "      <td>Metris Base</td>\n",
       "      <td>2021</td>\n",
       "      <td>7388</td>\n",
       "      <td>Gasoline</td>\n",
       "      <td>208.0HP 2.0L 4 Cylinder Engine Gasoline Fuel</td>\n",
       "      <td>7-Speed A/T</td>\n",
       "      <td>Black</td>\n",
       "      <td>Beige</td>\n",
       "      <td>None reported</td>\n",
       "      <td>1</td>\n",
       "      <td>97500</td>\n",
       "      <td>7388</td>\n",
       "    </tr>\n",
       "    <tr>\n",
       "      <th>5</th>\n",
       "      <td>Audi</td>\n",
       "      <td>A6 2.0T Sport</td>\n",
       "      <td>2018</td>\n",
       "      <td>40950</td>\n",
       "      <td>Gasoline</td>\n",
       "      <td>252.0HP 2.0L 4 Cylinder Engine Gasoline Fuel</td>\n",
       "      <td>A/T</td>\n",
       "      <td>White</td>\n",
       "      <td>–</td>\n",
       "      <td>None reported</td>\n",
       "      <td>1</td>\n",
       "      <td>29950</td>\n",
       "      <td>40950</td>\n",
       "    </tr>\n",
       "  </tbody>\n",
       "</table>\n",
       "</div>"
      ],
      "text/plain": [
       "           brand              model  model_year  milage      fuel_type  \\\n",
       "1        Lincoln              LS V8        2002  143250       Gasoline   \n",
       "2      Chevrolet  Silverado 2500 LT        2002  136731  E85 Flex Fuel   \n",
       "3        Genesis   G90 5.0 Ultimate        2017   19500       Gasoline   \n",
       "4  Mercedes-Benz        Metris Base        2021    7388       Gasoline   \n",
       "5           Audi      A6 2.0T Sport        2018   40950       Gasoline   \n",
       "\n",
       "                                              engine  \\\n",
       "1       252.0HP 3.9L 8 Cylinder Engine Gasoline Fuel   \n",
       "2  320.0HP 5.3L 8 Cylinder Engine Flex Fuel Capab...   \n",
       "3       420.0HP 5.0L 8 Cylinder Engine Gasoline Fuel   \n",
       "4       208.0HP 2.0L 4 Cylinder Engine Gasoline Fuel   \n",
       "5       252.0HP 2.0L 4 Cylinder Engine Gasoline Fuel   \n",
       "\n",
       "                     transmission ext_col int_col  \\\n",
       "1                             A/T  Silver   Beige   \n",
       "2                             A/T    Blue    Gray   \n",
       "3  Transmission w/Dual Shift Mode   Black   Black   \n",
       "4                     7-Speed A/T   Black   Beige   \n",
       "5                             A/T   White       –   \n",
       "\n",
       "                                 accident  clean_title  price  \\\n",
       "1  At least 1 accident or damage reported            1   4999   \n",
       "2                           None reported            1  13900   \n",
       "3                           None reported            1  45000   \n",
       "4                           None reported            1  97500   \n",
       "5                           None reported            1  29950   \n",
       "\n",
       "   clean_title_milage  \n",
       "1              143250  \n",
       "2              136731  \n",
       "3               19500  \n",
       "4                7388  \n",
       "5               40950  "
      ]
     },
     "execution_count": 18,
     "metadata": {},
     "output_type": "execute_result"
    }
   ],
   "source": [
    "df_train_clean2.head()\n"
   ]
  },
  {
   "cell_type": "markdown",
   "id": "14deab57",
   "metadata": {
    "papermill": {
     "duration": 0.023083,
     "end_time": "2024-11-16T16:14:37.851534",
     "exception": false,
     "start_time": "2024-11-16T16:14:37.828451",
     "status": "completed"
    },
    "tags": []
   },
   "source": [
    "###  we fixed the clean title  which will help us with the ML part  using feture engineering "
   ]
  },
  {
   "cell_type": "code",
   "execution_count": 19,
   "id": "67829b9e",
   "metadata": {
    "execution": {
     "iopub.execute_input": "2024-11-16T16:14:37.900333Z",
     "iopub.status.busy": "2024-11-16T16:14:37.899903Z",
     "iopub.status.idle": "2024-11-16T16:14:37.917285Z",
     "shell.execute_reply": "2024-11-16T16:14:37.915939Z"
    },
    "papermill": {
     "duration": 0.045605,
     "end_time": "2024-11-16T16:14:37.920500",
     "exception": false,
     "start_time": "2024-11-16T16:14:37.874895",
     "status": "completed"
    },
    "tags": []
   },
   "outputs": [
    {
     "data": {
      "text/plain": [
       "array(['None reported', 'At least 1 accident or damage reported', nan],\n",
       "      dtype=object)"
      ]
     },
     "execution_count": 19,
     "metadata": {},
     "output_type": "execute_result"
    }
   ],
   "source": [
    "df_test[\"accident\"].unique() "
   ]
  },
  {
   "cell_type": "markdown",
   "id": "4943651c",
   "metadata": {
    "papermill": {
     "duration": 0.024107,
     "end_time": "2024-11-16T16:14:37.969079",
     "exception": false,
     "start_time": "2024-11-16T16:14:37.944972",
     "status": "completed"
    },
    "tags": []
   },
   "source": [
    "### we will do similer thing but we will change nan to None reported and then change them into a binary "
   ]
  },
  {
   "cell_type": "code",
   "execution_count": 20,
   "id": "e813dbad",
   "metadata": {
    "execution": {
     "iopub.execute_input": "2024-11-16T16:14:38.019531Z",
     "iopub.status.busy": "2024-11-16T16:14:38.018623Z",
     "iopub.status.idle": "2024-11-16T16:14:38.298261Z",
     "shell.execute_reply": "2024-11-16T16:14:38.297143Z"
    },
    "papermill": {
     "duration": 0.308292,
     "end_time": "2024-11-16T16:14:38.301319",
     "exception": false,
     "start_time": "2024-11-16T16:14:37.993027",
     "status": "completed"
    },
    "tags": []
   },
   "outputs": [
    {
     "name": "stderr",
     "output_type": "stream",
     "text": [
      "C:\\Users\\GANESH\\AppData\\Local\\Temp\\ipykernel_18464\\808956409.py:1: FutureWarning: A value is trying to be set on a copy of a DataFrame or Series through chained assignment using an inplace method.\n",
      "The behavior will change in pandas 3.0. This inplace method will never work because the intermediate object on which we are setting values always behaves as a copy.\n",
      "\n",
      "For example, when doing 'df[col].method(value, inplace=True)', try using 'df.method({col: value}, inplace=True)' or df[col] = df[col].method(value) instead, to perform the operation inplace on the original object.\n",
      "\n",
      "\n",
      "  df_train_clean2['accident'].fillna('None reported', inplace=True)# this will replace nan with no\n",
      "C:\\Users\\GANESH\\AppData\\Local\\Temp\\ipykernel_18464\\808956409.py:11: FutureWarning: A value is trying to be set on a copy of a DataFrame or Series through chained assignment using an inplace method.\n",
      "The behavior will change in pandas 3.0. This inplace method will never work because the intermediate object on which we are setting values always behaves as a copy.\n",
      "\n",
      "For example, when doing 'df[col].method(value, inplace=True)', try using 'df.method({col: value}, inplace=True)' or df[col] = df[col].method(value) instead, to perform the operation inplace on the original object.\n",
      "\n",
      "\n",
      "  df_test_copy['accident'].fillna('None reported', inplace=True)# this will replace nan with no\n"
     ]
    }
   ],
   "source": [
    "df_train_clean2['accident'].fillna('None reported', inplace=True)# this will replace nan with no \n",
    "# Encode 'Yes' as 1 and 'No' as 0\n",
    "df_train_clean2['accident'] = df_train_clean2['accident'].apply(lambda x: 1 if x == 'At least 1 accident or damage reported' else 0)\n",
    "\n",
    "# we will mix it with milage because the more the car is driven the higher the chance it have major issues like accidents or severe damage \n",
    "df_train_clean2['accident_milage'] = df_train_clean2['accident'] * df_train_clean2['milage']\n",
    " \n",
    "df_train_clean2.head()\n",
    "############\n",
    "\n",
    "df_test_copy['accident'].fillna('None reported', inplace=True)# this will replace nan with no \n",
    "# Encode 'Yes' as 1 and 'No' as 0\n",
    "df_test_copy['accident'] = df_test_copy['accident'].apply(lambda x: 1 if x == 'At least 1 accident or damage reported' else 0)\n",
    "\n",
    "# we will mix it with milage because the more the car is driven the higher the chance it have major issues like accidents or severe damage \n",
    "df_test_copy['accident_milage'] = df_test_copy['accident'] * df_test_copy['milage']\n"
   ]
  },
  {
   "cell_type": "markdown",
   "id": "f924a478",
   "metadata": {
    "papermill": {
     "duration": 0.023457,
     "end_time": "2024-11-16T16:14:38.349497",
     "exception": false,
     "start_time": "2024-11-16T16:14:38.326040",
     "status": "completed"
    },
    "tags": []
   },
   "source": [
    "### now with that out of the way one last thing  fuel type"
   ]
  },
  {
   "cell_type": "code",
   "execution_count": 21,
   "id": "0ebb1b57",
   "metadata": {
    "execution": {
     "iopub.execute_input": "2024-11-16T16:14:38.399003Z",
     "iopub.status.busy": "2024-11-16T16:14:38.398540Z",
     "iopub.status.idle": "2024-11-16T16:14:38.416257Z",
     "shell.execute_reply": "2024-11-16T16:14:38.414931Z"
    },
    "papermill": {
     "duration": 0.045572,
     "end_time": "2024-11-16T16:14:38.418810",
     "exception": false,
     "start_time": "2024-11-16T16:14:38.373238",
     "status": "completed"
    },
    "tags": []
   },
   "outputs": [
    {
     "data": {
      "text/plain": [
       "Index(['brand', 'model', 'model_year', 'milage', 'fuel_type', 'engine',\n",
       "       'transmission', 'ext_col', 'int_col', 'accident', 'clean_title',\n",
       "       'price', 'clean_title_milage', 'accident_milage'],\n",
       "      dtype='object')"
      ]
     },
     "execution_count": 21,
     "metadata": {},
     "output_type": "execute_result"
    }
   ],
   "source": [
    "df_test[\"fuel_type\"].unique()\n",
    "df_train_clean2.columns\n"
   ]
  },
  {
   "cell_type": "code",
   "execution_count": 22,
   "id": "ea12e576",
   "metadata": {
    "execution": {
     "iopub.execute_input": "2024-11-16T16:14:38.470723Z",
     "iopub.status.busy": "2024-11-16T16:14:38.469559Z",
     "iopub.status.idle": "2024-11-16T16:14:38.673698Z",
     "shell.execute_reply": "2024-11-16T16:14:38.672061Z"
    },
    "papermill": {
     "duration": 0.232898,
     "end_time": "2024-11-16T16:14:38.676451",
     "exception": false,
     "start_time": "2024-11-16T16:14:38.443553",
     "status": "completed"
    },
    "tags": []
   },
   "outputs": [
    {
     "name": "stderr",
     "output_type": "stream",
     "text": [
      "C:\\Users\\GANESH\\AppData\\Local\\Temp\\ipykernel_18464\\6647586.py:7: FutureWarning: A value is trying to be set on a copy of a DataFrame or Series through chained assignment using an inplace method.\n",
      "The behavior will change in pandas 3.0. This inplace method will never work because the intermediate object on which we are setting values always behaves as a copy.\n",
      "\n",
      "For example, when doing 'df[col].method(value, inplace=True)', try using 'df.method({col: value}, inplace=True)' or df[col] = df[col].method(value) instead, to perform the operation inplace on the original object.\n",
      "\n",
      "\n",
      "  df_train_clean2['fuel_type'].fillna(df_train_clean2['fuel_type'].mode()[0], inplace=True)\n",
      "C:\\Users\\GANESH\\AppData\\Local\\Temp\\ipykernel_18464\\6647586.py:17: FutureWarning: A value is trying to be set on a copy of a DataFrame or Series through chained assignment using an inplace method.\n",
      "The behavior will change in pandas 3.0. This inplace method will never work because the intermediate object on which we are setting values always behaves as a copy.\n",
      "\n",
      "For example, when doing 'df[col].method(value, inplace=True)', try using 'df.method({col: value}, inplace=True)' or df[col] = df[col].method(value) instead, to perform the operation inplace on the original object.\n",
      "\n",
      "\n",
      "  df_test_copy['fuel_type'].fillna(df_test_copy['fuel_type'].mode()[0], inplace=True)\n"
     ]
    },
    {
     "data": {
      "text/plain": [
       "array(['Gasoline', 'Hybrid', 'Diesel', 'E85 Flex Fuel', 'Plug-In Hybrid',\n",
       "       'Unknown'], dtype=object)"
      ]
     },
     "execution_count": 22,
     "metadata": {},
     "output_type": "execute_result"
    }
   ],
   "source": [
    "#first what is - not supp.. this is stupid \n",
    "\n",
    "df_train_clean2['fuel_type'] = df_train_clean2['fuel_type'].replace(['–', 'not supported'], 'Unknown')\n",
    "\n",
    "#replacing nan with the  mode \n",
    "\n",
    "df_train_clean2['fuel_type'].fillna(df_train_clean2['fuel_type'].mode()[0], inplace=True)\n",
    "\n",
    "df_train_clean2[\"fuel_type\"].unique()\n",
    "####\n",
    "#first what is - not supp.. this is stupid \n",
    "\n",
    "df_test_copy['fuel_type'] = df_test_copy['fuel_type'].replace(['–', 'not supported'], 'Unknown')\n",
    "\n",
    "#replacing nan with the  mode \n",
    "\n",
    "df_test_copy['fuel_type'].fillna(df_test_copy['fuel_type'].mode()[0], inplace=True)\n",
    "\n",
    "df_test_copy[\"fuel_type\"].unique()\n"
   ]
  },
  {
   "cell_type": "code",
   "execution_count": 23,
   "id": "35eef59f",
   "metadata": {
    "execution": {
     "iopub.execute_input": "2024-11-16T16:14:38.727117Z",
     "iopub.status.busy": "2024-11-16T16:14:38.726066Z",
     "iopub.status.idle": "2024-11-16T16:14:38.871796Z",
     "shell.execute_reply": "2024-11-16T16:14:38.870486Z"
    },
    "papermill": {
     "duration": 0.174489,
     "end_time": "2024-11-16T16:14:38.874747",
     "exception": false,
     "start_time": "2024-11-16T16:14:38.700258",
     "status": "completed"
    },
    "tags": []
   },
   "outputs": [
    {
     "data": {
      "text/plain": [
       "brand                 0\n",
       "model                 0\n",
       "model_year            0\n",
       "milage                0\n",
       "fuel_type             0\n",
       "engine                0\n",
       "transmission          0\n",
       "ext_col               0\n",
       "int_col               0\n",
       "accident              0\n",
       "clean_title           0\n",
       "price                 0\n",
       "clean_title_milage    0\n",
       "accident_milage       0\n",
       "dtype: int64"
      ]
     },
     "execution_count": 23,
     "metadata": {},
     "output_type": "execute_result"
    }
   ],
   "source": [
    "#df_cleaned = df_train_clean2.dropna()\n",
    "\n",
    "df_train_clean2.isnull().sum()"
   ]
  },
  {
   "cell_type": "code",
   "execution_count": 24,
   "id": "d7f51898",
   "metadata": {
    "execution": {
     "iopub.execute_input": "2024-11-16T16:14:38.930718Z",
     "iopub.status.busy": "2024-11-16T16:14:38.929564Z",
     "iopub.status.idle": "2024-11-16T16:14:38.948331Z",
     "shell.execute_reply": "2024-11-16T16:14:38.947109Z"
    },
    "papermill": {
     "duration": 0.049933,
     "end_time": "2024-11-16T16:14:38.950835",
     "exception": false,
     "start_time": "2024-11-16T16:14:38.900902",
     "status": "completed"
    },
    "tags": []
   },
   "outputs": [
    {
     "data": {
      "text/html": [
       "<div>\n",
       "<style scoped>\n",
       "    .dataframe tbody tr th:only-of-type {\n",
       "        vertical-align: middle;\n",
       "    }\n",
       "\n",
       "    .dataframe tbody tr th {\n",
       "        vertical-align: top;\n",
       "    }\n",
       "\n",
       "    .dataframe thead th {\n",
       "        text-align: right;\n",
       "    }\n",
       "</style>\n",
       "<table border=\"1\" class=\"dataframe\">\n",
       "  <thead>\n",
       "    <tr style=\"text-align: right;\">\n",
       "      <th></th>\n",
       "      <th>brand</th>\n",
       "      <th>model</th>\n",
       "      <th>model_year</th>\n",
       "      <th>milage</th>\n",
       "      <th>fuel_type</th>\n",
       "      <th>engine</th>\n",
       "      <th>transmission</th>\n",
       "      <th>ext_col</th>\n",
       "      <th>int_col</th>\n",
       "      <th>accident</th>\n",
       "      <th>clean_title</th>\n",
       "      <th>price</th>\n",
       "      <th>clean_title_milage</th>\n",
       "      <th>accident_milage</th>\n",
       "    </tr>\n",
       "  </thead>\n",
       "  <tbody>\n",
       "    <tr>\n",
       "      <th>1</th>\n",
       "      <td>Lincoln</td>\n",
       "      <td>LS V8</td>\n",
       "      <td>2002</td>\n",
       "      <td>143250</td>\n",
       "      <td>Gasoline</td>\n",
       "      <td>252.0HP 3.9L 8 Cylinder Engine Gasoline Fuel</td>\n",
       "      <td>A/T</td>\n",
       "      <td>Silver</td>\n",
       "      <td>Beige</td>\n",
       "      <td>1</td>\n",
       "      <td>1</td>\n",
       "      <td>4999</td>\n",
       "      <td>143250</td>\n",
       "      <td>143250</td>\n",
       "    </tr>\n",
       "    <tr>\n",
       "      <th>2</th>\n",
       "      <td>Chevrolet</td>\n",
       "      <td>Silverado 2500 LT</td>\n",
       "      <td>2002</td>\n",
       "      <td>136731</td>\n",
       "      <td>E85 Flex Fuel</td>\n",
       "      <td>320.0HP 5.3L 8 Cylinder Engine Flex Fuel Capab...</td>\n",
       "      <td>A/T</td>\n",
       "      <td>Blue</td>\n",
       "      <td>Gray</td>\n",
       "      <td>0</td>\n",
       "      <td>1</td>\n",
       "      <td>13900</td>\n",
       "      <td>136731</td>\n",
       "      <td>0</td>\n",
       "    </tr>\n",
       "    <tr>\n",
       "      <th>3</th>\n",
       "      <td>Genesis</td>\n",
       "      <td>G90 5.0 Ultimate</td>\n",
       "      <td>2017</td>\n",
       "      <td>19500</td>\n",
       "      <td>Gasoline</td>\n",
       "      <td>420.0HP 5.0L 8 Cylinder Engine Gasoline Fuel</td>\n",
       "      <td>Transmission w/Dual Shift Mode</td>\n",
       "      <td>Black</td>\n",
       "      <td>Black</td>\n",
       "      <td>0</td>\n",
       "      <td>1</td>\n",
       "      <td>45000</td>\n",
       "      <td>19500</td>\n",
       "      <td>0</td>\n",
       "    </tr>\n",
       "    <tr>\n",
       "      <th>4</th>\n",
       "      <td>Mercedes-Benz</td>\n",
       "      <td>Metris Base</td>\n",
       "      <td>2021</td>\n",
       "      <td>7388</td>\n",
       "      <td>Gasoline</td>\n",
       "      <td>208.0HP 2.0L 4 Cylinder Engine Gasoline Fuel</td>\n",
       "      <td>7-Speed A/T</td>\n",
       "      <td>Black</td>\n",
       "      <td>Beige</td>\n",
       "      <td>0</td>\n",
       "      <td>1</td>\n",
       "      <td>97500</td>\n",
       "      <td>7388</td>\n",
       "      <td>0</td>\n",
       "    </tr>\n",
       "    <tr>\n",
       "      <th>5</th>\n",
       "      <td>Audi</td>\n",
       "      <td>A6 2.0T Sport</td>\n",
       "      <td>2018</td>\n",
       "      <td>40950</td>\n",
       "      <td>Gasoline</td>\n",
       "      <td>252.0HP 2.0L 4 Cylinder Engine Gasoline Fuel</td>\n",
       "      <td>A/T</td>\n",
       "      <td>White</td>\n",
       "      <td>–</td>\n",
       "      <td>0</td>\n",
       "      <td>1</td>\n",
       "      <td>29950</td>\n",
       "      <td>40950</td>\n",
       "      <td>0</td>\n",
       "    </tr>\n",
       "  </tbody>\n",
       "</table>\n",
       "</div>"
      ],
      "text/plain": [
       "           brand              model  model_year  milage      fuel_type  \\\n",
       "1        Lincoln              LS V8        2002  143250       Gasoline   \n",
       "2      Chevrolet  Silverado 2500 LT        2002  136731  E85 Flex Fuel   \n",
       "3        Genesis   G90 5.0 Ultimate        2017   19500       Gasoline   \n",
       "4  Mercedes-Benz        Metris Base        2021    7388       Gasoline   \n",
       "5           Audi      A6 2.0T Sport        2018   40950       Gasoline   \n",
       "\n",
       "                                              engine  \\\n",
       "1       252.0HP 3.9L 8 Cylinder Engine Gasoline Fuel   \n",
       "2  320.0HP 5.3L 8 Cylinder Engine Flex Fuel Capab...   \n",
       "3       420.0HP 5.0L 8 Cylinder Engine Gasoline Fuel   \n",
       "4       208.0HP 2.0L 4 Cylinder Engine Gasoline Fuel   \n",
       "5       252.0HP 2.0L 4 Cylinder Engine Gasoline Fuel   \n",
       "\n",
       "                     transmission ext_col int_col  accident  clean_title  \\\n",
       "1                             A/T  Silver   Beige         1            1   \n",
       "2                             A/T    Blue    Gray         0            1   \n",
       "3  Transmission w/Dual Shift Mode   Black   Black         0            1   \n",
       "4                     7-Speed A/T   Black   Beige         0            1   \n",
       "5                             A/T   White       –         0            1   \n",
       "\n",
       "   price  clean_title_milage  accident_milage  \n",
       "1   4999              143250           143250  \n",
       "2  13900              136731                0  \n",
       "3  45000               19500                0  \n",
       "4  97500                7388                0  \n",
       "5  29950               40950                0  "
      ]
     },
     "execution_count": 24,
     "metadata": {},
     "output_type": "execute_result"
    }
   ],
   "source": [
    "df_train_clean2.head()"
   ]
  },
  {
   "cell_type": "markdown",
   "id": "55f291ae",
   "metadata": {
    "papermill": {
     "duration": 0.024637,
     "end_time": "2024-11-16T16:14:39.000902",
     "exception": false,
     "start_time": "2024-11-16T16:14:38.976265",
     "status": "completed"
    },
    "tags": []
   },
   "source": [
    "### **ML part :**"
   ]
  },
  {
   "cell_type": "code",
   "execution_count": 25,
   "id": "0556d7cb",
   "metadata": {
    "execution": {
     "iopub.execute_input": "2024-11-16T16:14:39.053193Z",
     "iopub.status.busy": "2024-11-16T16:14:39.052787Z",
     "iopub.status.idle": "2024-11-16T16:14:39.072087Z",
     "shell.execute_reply": "2024-11-16T16:14:39.070730Z"
    },
    "papermill": {
     "duration": 0.048415,
     "end_time": "2024-11-16T16:14:39.074801",
     "exception": false,
     "start_time": "2024-11-16T16:14:39.026386",
     "status": "completed"
    },
    "tags": []
   },
   "outputs": [
    {
     "data": {
      "text/html": [
       "<div>\n",
       "<style scoped>\n",
       "    .dataframe tbody tr th:only-of-type {\n",
       "        vertical-align: middle;\n",
       "    }\n",
       "\n",
       "    .dataframe tbody tr th {\n",
       "        vertical-align: top;\n",
       "    }\n",
       "\n",
       "    .dataframe thead th {\n",
       "        text-align: right;\n",
       "    }\n",
       "</style>\n",
       "<table border=\"1\" class=\"dataframe\">\n",
       "  <thead>\n",
       "    <tr style=\"text-align: right;\">\n",
       "      <th></th>\n",
       "      <th>brand</th>\n",
       "      <th>model</th>\n",
       "      <th>model_year</th>\n",
       "      <th>milage</th>\n",
       "      <th>fuel_type</th>\n",
       "      <th>engine</th>\n",
       "      <th>transmission</th>\n",
       "      <th>ext_col</th>\n",
       "      <th>int_col</th>\n",
       "      <th>accident</th>\n",
       "      <th>clean_title</th>\n",
       "      <th>price</th>\n",
       "      <th>clean_title_milage</th>\n",
       "      <th>accident_milage</th>\n",
       "    </tr>\n",
       "  </thead>\n",
       "  <tbody>\n",
       "    <tr>\n",
       "      <th>1</th>\n",
       "      <td>Lincoln</td>\n",
       "      <td>LS V8</td>\n",
       "      <td>2002</td>\n",
       "      <td>143250</td>\n",
       "      <td>Gasoline</td>\n",
       "      <td>252.0HP 3.9L 8 Cylinder Engine Gasoline Fuel</td>\n",
       "      <td>A/T</td>\n",
       "      <td>Silver</td>\n",
       "      <td>Beige</td>\n",
       "      <td>1</td>\n",
       "      <td>1</td>\n",
       "      <td>4999</td>\n",
       "      <td>143250</td>\n",
       "      <td>143250</td>\n",
       "    </tr>\n",
       "    <tr>\n",
       "      <th>2</th>\n",
       "      <td>Chevrolet</td>\n",
       "      <td>Silverado 2500 LT</td>\n",
       "      <td>2002</td>\n",
       "      <td>136731</td>\n",
       "      <td>E85 Flex Fuel</td>\n",
       "      <td>320.0HP 5.3L 8 Cylinder Engine Flex Fuel Capab...</td>\n",
       "      <td>A/T</td>\n",
       "      <td>Blue</td>\n",
       "      <td>Gray</td>\n",
       "      <td>0</td>\n",
       "      <td>1</td>\n",
       "      <td>13900</td>\n",
       "      <td>136731</td>\n",
       "      <td>0</td>\n",
       "    </tr>\n",
       "    <tr>\n",
       "      <th>3</th>\n",
       "      <td>Genesis</td>\n",
       "      <td>G90 5.0 Ultimate</td>\n",
       "      <td>2017</td>\n",
       "      <td>19500</td>\n",
       "      <td>Gasoline</td>\n",
       "      <td>420.0HP 5.0L 8 Cylinder Engine Gasoline Fuel</td>\n",
       "      <td>Transmission w/Dual Shift Mode</td>\n",
       "      <td>Black</td>\n",
       "      <td>Black</td>\n",
       "      <td>0</td>\n",
       "      <td>1</td>\n",
       "      <td>45000</td>\n",
       "      <td>19500</td>\n",
       "      <td>0</td>\n",
       "    </tr>\n",
       "    <tr>\n",
       "      <th>4</th>\n",
       "      <td>Mercedes-Benz</td>\n",
       "      <td>Metris Base</td>\n",
       "      <td>2021</td>\n",
       "      <td>7388</td>\n",
       "      <td>Gasoline</td>\n",
       "      <td>208.0HP 2.0L 4 Cylinder Engine Gasoline Fuel</td>\n",
       "      <td>7-Speed A/T</td>\n",
       "      <td>Black</td>\n",
       "      <td>Beige</td>\n",
       "      <td>0</td>\n",
       "      <td>1</td>\n",
       "      <td>97500</td>\n",
       "      <td>7388</td>\n",
       "      <td>0</td>\n",
       "    </tr>\n",
       "    <tr>\n",
       "      <th>5</th>\n",
       "      <td>Audi</td>\n",
       "      <td>A6 2.0T Sport</td>\n",
       "      <td>2018</td>\n",
       "      <td>40950</td>\n",
       "      <td>Gasoline</td>\n",
       "      <td>252.0HP 2.0L 4 Cylinder Engine Gasoline Fuel</td>\n",
       "      <td>A/T</td>\n",
       "      <td>White</td>\n",
       "      <td>–</td>\n",
       "      <td>0</td>\n",
       "      <td>1</td>\n",
       "      <td>29950</td>\n",
       "      <td>40950</td>\n",
       "      <td>0</td>\n",
       "    </tr>\n",
       "  </tbody>\n",
       "</table>\n",
       "</div>"
      ],
      "text/plain": [
       "           brand              model  model_year  milage      fuel_type  \\\n",
       "1        Lincoln              LS V8        2002  143250       Gasoline   \n",
       "2      Chevrolet  Silverado 2500 LT        2002  136731  E85 Flex Fuel   \n",
       "3        Genesis   G90 5.0 Ultimate        2017   19500       Gasoline   \n",
       "4  Mercedes-Benz        Metris Base        2021    7388       Gasoline   \n",
       "5           Audi      A6 2.0T Sport        2018   40950       Gasoline   \n",
       "\n",
       "                                              engine  \\\n",
       "1       252.0HP 3.9L 8 Cylinder Engine Gasoline Fuel   \n",
       "2  320.0HP 5.3L 8 Cylinder Engine Flex Fuel Capab...   \n",
       "3       420.0HP 5.0L 8 Cylinder Engine Gasoline Fuel   \n",
       "4       208.0HP 2.0L 4 Cylinder Engine Gasoline Fuel   \n",
       "5       252.0HP 2.0L 4 Cylinder Engine Gasoline Fuel   \n",
       "\n",
       "                     transmission ext_col int_col  accident  clean_title  \\\n",
       "1                             A/T  Silver   Beige         1            1   \n",
       "2                             A/T    Blue    Gray         0            1   \n",
       "3  Transmission w/Dual Shift Mode   Black   Black         0            1   \n",
       "4                     7-Speed A/T   Black   Beige         0            1   \n",
       "5                             A/T   White       –         0            1   \n",
       "\n",
       "   price  clean_title_milage  accident_milage  \n",
       "1   4999              143250           143250  \n",
       "2  13900              136731                0  \n",
       "3  45000               19500                0  \n",
       "4  97500                7388                0  \n",
       "5  29950               40950                0  "
      ]
     },
     "execution_count": 25,
     "metadata": {},
     "output_type": "execute_result"
    }
   ],
   "source": [
    "df_train_clean2.columns\n",
    "df_copy=df_train_clean2\n",
    "\n",
    "df_copy.head()"
   ]
  },
  {
   "cell_type": "code",
   "execution_count": 26,
   "id": "40e7c1e3",
   "metadata": {
    "execution": {
     "iopub.execute_input": "2024-11-16T16:14:39.127380Z",
     "iopub.status.busy": "2024-11-16T16:14:39.126124Z",
     "iopub.status.idle": "2024-11-16T16:14:39.231166Z",
     "shell.execute_reply": "2024-11-16T16:14:39.229885Z"
    },
    "papermill": {
     "duration": 0.133753,
     "end_time": "2024-11-16T16:14:39.233662",
     "exception": false,
     "start_time": "2024-11-16T16:14:39.099909",
     "status": "completed"
    },
    "tags": []
   },
   "outputs": [
    {
     "data": {
      "text/plain": [
       "brand                 0\n",
       "model                 0\n",
       "model_year            0\n",
       "milage                0\n",
       "fuel_type             0\n",
       "engine                0\n",
       "transmission          0\n",
       "ext_col               0\n",
       "int_col               0\n",
       "accident              0\n",
       "clean_title           0\n",
       "clean_title_milage    0\n",
       "accident_milage       0\n",
       "dtype: int64"
      ]
     },
     "execution_count": 26,
     "metadata": {},
     "output_type": "execute_result"
    }
   ],
   "source": [
    "df_test_copy.isnull().sum()\n"
   ]
  },
  {
   "cell_type": "code",
   "execution_count": 27,
   "id": "5d5674ca",
   "metadata": {
    "execution": {
     "iopub.execute_input": "2024-11-16T16:14:39.286981Z",
     "iopub.status.busy": "2024-11-16T16:14:39.286477Z",
     "iopub.status.idle": "2024-11-16T16:14:40.210256Z",
     "shell.execute_reply": "2024-11-16T16:14:40.208671Z"
    },
    "papermill": {
     "duration": 0.95418,
     "end_time": "2024-11-16T16:14:40.213327",
     "exception": false,
     "start_time": "2024-11-16T16:14:39.259147",
     "status": "completed"
    },
    "tags": []
   },
   "outputs": [],
   "source": [
    "from sklearn.model_selection import train_test_split\n",
    "from sklearn.preprocessing import LabelEncoder,OrdinalEncoder\n",
    "import category_encoders as ce\n"
   ]
  },
  {
   "cell_type": "code",
   "execution_count": 28,
   "id": "9527fadc",
   "metadata": {
    "execution": {
     "iopub.execute_input": "2024-11-16T16:14:40.266095Z",
     "iopub.status.busy": "2024-11-16T16:14:40.265238Z",
     "iopub.status.idle": "2024-11-16T16:14:40.426850Z",
     "shell.execute_reply": "2024-11-16T16:14:40.425596Z"
    },
    "papermill": {
     "duration": 0.191501,
     "end_time": "2024-11-16T16:14:40.430051",
     "exception": false,
     "start_time": "2024-11-16T16:14:40.238550",
     "status": "completed"
    },
    "tags": []
   },
   "outputs": [],
   "source": [
    "from sklearn.impute import KNNImputer\n",
    "\n",
    "def knn_impute(df, n_neighbors=5):   \n",
    "    df_encoded = df.copy()\n",
    "    for col in df_encoded.select_dtypes(include='object').columns:\n",
    "        df_encoded[col] = df_encoded[col].astype('category').cat.codes\n",
    "    knn_imputer = KNNImputer(n_neighbors=n_neighbors)\n",
    "    df_imputed = pd.DataFrame(knn_imputer.fit_transform(df_encoded), columns=df_encoded.columns)\n",
    "    for col in df.select_dtypes(include='object').columns:\n",
    "        df_imputed[col] = df_imputed[col].round().astype(int).map(\n",
    "            dict(enumerate(df[col].astype('category').cat.categories)))\n",
    "    return df_imputed"
   ]
  },
  {
   "cell_type": "code",
   "execution_count": 29,
   "id": "89d3d961",
   "metadata": {
    "execution": {
     "iopub.execute_input": "2024-11-16T16:14:40.483850Z",
     "iopub.status.busy": "2024-11-16T16:14:40.483388Z",
     "iopub.status.idle": "2024-11-16T16:14:41.579327Z",
     "shell.execute_reply": "2024-11-16T16:14:41.578036Z"
    },
    "papermill": {
     "duration": 1.126138,
     "end_time": "2024-11-16T16:14:41.582306",
     "exception": false,
     "start_time": "2024-11-16T16:14:40.456168",
     "status": "completed"
    },
    "tags": []
   },
   "outputs": [],
   "source": [
    "df_train_imputed = knn_impute(df_train, n_neighbors=25)\n",
    "df_test_imputed = knn_impute(df_test, n_neighbors=25)"
   ]
  },
  {
   "cell_type": "code",
   "execution_count": 30,
   "id": "1f84b477",
   "metadata": {
    "execution": {
     "iopub.execute_input": "2024-11-16T16:14:41.634313Z",
     "iopub.status.busy": "2024-11-16T16:14:41.633850Z",
     "iopub.status.idle": "2024-11-16T16:14:42.894376Z",
     "shell.execute_reply": "2024-11-16T16:14:42.892847Z"
    },
    "papermill": {
     "duration": 1.29007,
     "end_time": "2024-11-16T16:14:42.897499",
     "exception": false,
     "start_time": "2024-11-16T16:14:41.607429",
     "status": "completed"
    },
    "tags": []
   },
   "outputs": [],
   "source": [
    "from sklearn.preprocessing import OrdinalEncoder\n",
    "cat_cols_train = df_train_imputed.select_dtypes(include=['object']).columns\n",
    "cat_cols_train = cat_cols_train[cat_cols_train != 'class']\n",
    "ordinal_encoder = OrdinalEncoder(handle_unknown='use_encoded_value', unknown_value=-1)\n",
    "\n",
    "df_train_imputed[cat_cols_train] = ordinal_encoder.fit_transform(df_train_imputed[cat_cols_train].astype(str))\n",
    "df_test_imputed[cat_cols_train] = ordinal_encoder.transform(df_test_imputed[cat_cols_train].astype(str))"
   ]
  },
  {
   "cell_type": "code",
   "execution_count": 31,
   "id": "3b8022a7",
   "metadata": {
    "execution": {
     "iopub.execute_input": "2024-11-16T16:14:42.949368Z",
     "iopub.status.busy": "2024-11-16T16:14:42.948892Z",
     "iopub.status.idle": "2024-11-16T16:14:42.986613Z",
     "shell.execute_reply": "2024-11-16T16:14:42.984723Z"
    },
    "papermill": {
     "duration": 0.067175,
     "end_time": "2024-11-16T16:14:42.989445",
     "exception": false,
     "start_time": "2024-11-16T16:14:42.922270",
     "status": "completed"
    },
    "tags": []
   },
   "outputs": [
    {
     "data": {
      "text/html": [
       "<div>\n",
       "<style scoped>\n",
       "    .dataframe tbody tr th:only-of-type {\n",
       "        vertical-align: middle;\n",
       "    }\n",
       "\n",
       "    .dataframe tbody tr th {\n",
       "        vertical-align: top;\n",
       "    }\n",
       "\n",
       "    .dataframe thead th {\n",
       "        text-align: right;\n",
       "    }\n",
       "</style>\n",
       "<table border=\"1\" class=\"dataframe\">\n",
       "  <thead>\n",
       "    <tr style=\"text-align: right;\">\n",
       "      <th></th>\n",
       "      <th>id</th>\n",
       "      <th>brand</th>\n",
       "      <th>model</th>\n",
       "      <th>model_year</th>\n",
       "      <th>milage</th>\n",
       "      <th>fuel_type</th>\n",
       "      <th>engine</th>\n",
       "      <th>transmission</th>\n",
       "      <th>ext_col</th>\n",
       "      <th>int_col</th>\n",
       "      <th>accident</th>\n",
       "      <th>clean_title</th>\n",
       "      <th>price</th>\n",
       "    </tr>\n",
       "  </thead>\n",
       "  <tbody>\n",
       "    <tr>\n",
       "      <th>0</th>\n",
       "      <td>0.0</td>\n",
       "      <td>31.0</td>\n",
       "      <td>495.0</td>\n",
       "      <td>2007.0</td>\n",
       "      <td>213000.0</td>\n",
       "      <td>2.0</td>\n",
       "      <td>116.0</td>\n",
       "      <td>38.0</td>\n",
       "      <td>312.0</td>\n",
       "      <td>71.0</td>\n",
       "      <td>1.0</td>\n",
       "      <td>0.0</td>\n",
       "      <td>4200.0</td>\n",
       "    </tr>\n",
       "    <tr>\n",
       "      <th>1</th>\n",
       "      <td>1.0</td>\n",
       "      <td>28.0</td>\n",
       "      <td>930.0</td>\n",
       "      <td>2002.0</td>\n",
       "      <td>143250.0</td>\n",
       "      <td>2.0</td>\n",
       "      <td>366.0</td>\n",
       "      <td>38.0</td>\n",
       "      <td>263.0</td>\n",
       "      <td>10.0</td>\n",
       "      <td>0.0</td>\n",
       "      <td>0.0</td>\n",
       "      <td>4999.0</td>\n",
       "    </tr>\n",
       "    <tr>\n",
       "      <th>2</th>\n",
       "      <td>2.0</td>\n",
       "      <td>9.0</td>\n",
       "      <td>1575.0</td>\n",
       "      <td>2002.0</td>\n",
       "      <td>136731.0</td>\n",
       "      <td>1.0</td>\n",
       "      <td>640.0</td>\n",
       "      <td>38.0</td>\n",
       "      <td>38.0</td>\n",
       "      <td>71.0</td>\n",
       "      <td>1.0</td>\n",
       "      <td>0.0</td>\n",
       "      <td>13900.0</td>\n",
       "    </tr>\n",
       "    <tr>\n",
       "      <th>3</th>\n",
       "      <td>3.0</td>\n",
       "      <td>16.0</td>\n",
       "      <td>758.0</td>\n",
       "      <td>2017.0</td>\n",
       "      <td>19500.0</td>\n",
       "      <td>2.0</td>\n",
       "      <td>863.0</td>\n",
       "      <td>49.0</td>\n",
       "      <td>29.0</td>\n",
       "      <td>14.0</td>\n",
       "      <td>1.0</td>\n",
       "      <td>0.0</td>\n",
       "      <td>45000.0</td>\n",
       "    </tr>\n",
       "    <tr>\n",
       "      <th>4</th>\n",
       "      <td>4.0</td>\n",
       "      <td>36.0</td>\n",
       "      <td>1077.0</td>\n",
       "      <td>2021.0</td>\n",
       "      <td>7388.0</td>\n",
       "      <td>2.0</td>\n",
       "      <td>259.0</td>\n",
       "      <td>23.0</td>\n",
       "      <td>29.0</td>\n",
       "      <td>10.0</td>\n",
       "      <td>1.0</td>\n",
       "      <td>0.0</td>\n",
       "      <td>97500.0</td>\n",
       "    </tr>\n",
       "    <tr>\n",
       "      <th>...</th>\n",
       "      <td>...</td>\n",
       "      <td>...</td>\n",
       "      <td>...</td>\n",
       "      <td>...</td>\n",
       "      <td>...</td>\n",
       "      <td>...</td>\n",
       "      <td>...</td>\n",
       "      <td>...</td>\n",
       "      <td>...</td>\n",
       "      <td>...</td>\n",
       "      <td>...</td>\n",
       "      <td>...</td>\n",
       "      <td>...</td>\n",
       "    </tr>\n",
       "    <tr>\n",
       "      <th>188528</th>\n",
       "      <td>188528.0</td>\n",
       "      <td>8.0</td>\n",
       "      <td>604.0</td>\n",
       "      <td>2017.0</td>\n",
       "      <td>49000.0</td>\n",
       "      <td>2.0</td>\n",
       "      <td>866.0</td>\n",
       "      <td>49.0</td>\n",
       "      <td>304.0</td>\n",
       "      <td>10.0</td>\n",
       "      <td>1.0</td>\n",
       "      <td>0.0</td>\n",
       "      <td>27500.0</td>\n",
       "    </tr>\n",
       "    <tr>\n",
       "      <th>188529</th>\n",
       "      <td>188529.0</td>\n",
       "      <td>36.0</td>\n",
       "      <td>206.0</td>\n",
       "      <td>2018.0</td>\n",
       "      <td>28600.0</td>\n",
       "      <td>2.0</td>\n",
       "      <td>770.0</td>\n",
       "      <td>31.0</td>\n",
       "      <td>304.0</td>\n",
       "      <td>14.0</td>\n",
       "      <td>0.0</td>\n",
       "      <td>0.0</td>\n",
       "      <td>30000.0</td>\n",
       "    </tr>\n",
       "    <tr>\n",
       "      <th>188530</th>\n",
       "      <td>188530.0</td>\n",
       "      <td>36.0</td>\n",
       "      <td>223.0</td>\n",
       "      <td>2021.0</td>\n",
       "      <td>13650.0</td>\n",
       "      <td>2.0</td>\n",
       "      <td>921.0</td>\n",
       "      <td>23.0</td>\n",
       "      <td>304.0</td>\n",
       "      <td>14.0</td>\n",
       "      <td>1.0</td>\n",
       "      <td>0.0</td>\n",
       "      <td>86900.0</td>\n",
       "    </tr>\n",
       "    <tr>\n",
       "      <th>188531</th>\n",
       "      <td>188531.0</td>\n",
       "      <td>3.0</td>\n",
       "      <td>1471.0</td>\n",
       "      <td>2022.0</td>\n",
       "      <td>13895.0</td>\n",
       "      <td>2.0</td>\n",
       "      <td>512.0</td>\n",
       "      <td>1.0</td>\n",
       "      <td>82.0</td>\n",
       "      <td>14.0</td>\n",
       "      <td>1.0</td>\n",
       "      <td>1.0</td>\n",
       "      <td>84900.0</td>\n",
       "    </tr>\n",
       "    <tr>\n",
       "      <th>188532</th>\n",
       "      <td>188532.0</td>\n",
       "      <td>43.0</td>\n",
       "      <td>1028.0</td>\n",
       "      <td>2016.0</td>\n",
       "      <td>59500.0</td>\n",
       "      <td>2.0</td>\n",
       "      <td>364.0</td>\n",
       "      <td>49.0</td>\n",
       "      <td>304.0</td>\n",
       "      <td>14.0</td>\n",
       "      <td>1.0</td>\n",
       "      <td>0.0</td>\n",
       "      <td>28995.0</td>\n",
       "    </tr>\n",
       "  </tbody>\n",
       "</table>\n",
       "<p>188533 rows × 13 columns</p>\n",
       "</div>"
      ],
      "text/plain": [
       "              id  brand   model  model_year    milage  fuel_type  engine  \\\n",
       "0            0.0   31.0   495.0      2007.0  213000.0        2.0   116.0   \n",
       "1            1.0   28.0   930.0      2002.0  143250.0        2.0   366.0   \n",
       "2            2.0    9.0  1575.0      2002.0  136731.0        1.0   640.0   \n",
       "3            3.0   16.0   758.0      2017.0   19500.0        2.0   863.0   \n",
       "4            4.0   36.0  1077.0      2021.0    7388.0        2.0   259.0   \n",
       "...          ...    ...     ...         ...       ...        ...     ...   \n",
       "188528  188528.0    8.0   604.0      2017.0   49000.0        2.0   866.0   \n",
       "188529  188529.0   36.0   206.0      2018.0   28600.0        2.0   770.0   \n",
       "188530  188530.0   36.0   223.0      2021.0   13650.0        2.0   921.0   \n",
       "188531  188531.0    3.0  1471.0      2022.0   13895.0        2.0   512.0   \n",
       "188532  188532.0   43.0  1028.0      2016.0   59500.0        2.0   364.0   \n",
       "\n",
       "        transmission  ext_col  int_col  accident  clean_title    price  \n",
       "0               38.0    312.0     71.0       1.0          0.0   4200.0  \n",
       "1               38.0    263.0     10.0       0.0          0.0   4999.0  \n",
       "2               38.0     38.0     71.0       1.0          0.0  13900.0  \n",
       "3               49.0     29.0     14.0       1.0          0.0  45000.0  \n",
       "4               23.0     29.0     10.0       1.0          0.0  97500.0  \n",
       "...              ...      ...      ...       ...          ...      ...  \n",
       "188528          49.0    304.0     10.0       1.0          0.0  27500.0  \n",
       "188529          31.0    304.0     14.0       0.0          0.0  30000.0  \n",
       "188530          23.0    304.0     14.0       1.0          0.0  86900.0  \n",
       "188531           1.0     82.0     14.0       1.0          1.0  84900.0  \n",
       "188532          49.0    304.0     14.0       1.0          0.0  28995.0  \n",
       "\n",
       "[188533 rows x 13 columns]"
      ]
     },
     "execution_count": 31,
     "metadata": {},
     "output_type": "execute_result"
    }
   ],
   "source": [
    "df_train_imputed"
   ]
  },
  {
   "cell_type": "code",
   "execution_count": 32,
   "id": "b16efd9c",
   "metadata": {
    "execution": {
     "iopub.execute_input": "2024-11-16T16:14:43.041958Z",
     "iopub.status.busy": "2024-11-16T16:14:43.041463Z",
     "iopub.status.idle": "2024-11-16T16:14:43.061467Z",
     "shell.execute_reply": "2024-11-16T16:14:43.060157Z"
    },
    "papermill": {
     "duration": 0.049431,
     "end_time": "2024-11-16T16:14:43.063993",
     "exception": false,
     "start_time": "2024-11-16T16:14:43.014562",
     "status": "completed"
    },
    "tags": []
   },
   "outputs": [
    {
     "data": {
      "text/plain": [
       "id                     0\n",
       "brand                  0\n",
       "model                  0\n",
       "model_year             0\n",
       "milage                 0\n",
       "fuel_type              0\n",
       "engine                 0\n",
       "transmission           0\n",
       "ext_col                0\n",
       "int_col                0\n",
       "accident               0\n",
       "clean_title            0\n",
       "price                  0\n",
       "engine_transmission    0\n",
       "dtype: int64"
      ]
     },
     "execution_count": 32,
     "metadata": {},
     "output_type": "execute_result"
    }
   ],
   "source": [
    "df_train_imputed['engine_transmission'] = df_train_imputed['engine'] * df_train_imputed['transmission']\n",
    "df_test_imputed['engine_transmission'] = df_test_imputed['engine'] * df_test_imputed['transmission']\n",
    "df_train_imputed.isnull().sum()"
   ]
  },
  {
   "cell_type": "code",
   "execution_count": 33,
   "id": "079e8a8b",
   "metadata": {
    "execution": {
     "iopub.execute_input": "2024-11-16T16:14:43.117880Z",
     "iopub.status.busy": "2024-11-16T16:14:43.117304Z",
     "iopub.status.idle": "2024-11-16T16:14:43.127858Z",
     "shell.execute_reply": "2024-11-16T16:14:43.126419Z"
    },
    "papermill": {
     "duration": 0.040836,
     "end_time": "2024-11-16T16:14:43.130613",
     "exception": false,
     "start_time": "2024-11-16T16:14:43.089777",
     "status": "completed"
    },
    "tags": []
   },
   "outputs": [],
   "source": [
    "current_year = 2024\n",
    "luxury_brands = ['Mercedes-Benz', 'BMW', 'Audi', 'Lexus', 'Tesla']\n",
    "\n",
    "\n",
    "def create_features(df):\n",
    "    #df['vehicle_age'] = current_year - df['model_year']  \n",
    "    #df['vehicle_age_int'] = df['vehicle_age'].astype(int)\n",
    "    #df['mileage_per_year'] = df['milage'] / df['vehicle_age']\n",
    "    #df['mileage_per_year'].replace([np.inf, -np.inf], 0, inplace=True)   \n",
    "    df['rare_fuel_type'] = df['fuel_type'].apply(lambda x: 0 if x in ['Petrol', 'Diesel'] else 1)\n",
    "    df['is_automatic'] = df['transmission'].apply(lambda x: 1 if x == 'Automatic' else 0)\n",
    "    df['has_accident_history'] = df['accident'].apply(lambda x: 1 if x != 'Unknown' and x != 'None' else 0)\n",
    "    #df['engine_power_category'] = pd.qcut(df['engine'], q=3, labels=['Low', 'Medium', 'High'])\n",
    "    df['color_match'] = df.apply(lambda row: 1 if row['ext_col'] == row['int_col'] else 0, axis=1)\n",
    "    df['is_luxury_brand'] = df['brand'].apply(lambda x: 1 if x in luxury_brands else 0)\n",
    "    return df\n",
    "#df_train = create_features(df_train)\n",
    "#df_test = create_features(df_test)"
   ]
  },
  {
   "cell_type": "code",
   "execution_count": 35,
   "id": "6cb689d1",
   "metadata": {
    "execution": {
     "iopub.execute_input": "2024-11-16T16:14:43.185358Z",
     "iopub.status.busy": "2024-11-16T16:14:43.184907Z",
     "iopub.status.idle": "2024-11-16T16:14:44.594323Z",
     "shell.execute_reply": "2024-11-16T16:14:44.592809Z"
    },
    "papermill": {
     "duration": 1.439999,
     "end_time": "2024-11-16T16:14:44.597201",
     "exception": false,
     "start_time": "2024-11-16T16:14:43.157202",
     "status": "completed"
    },
    "tags": []
   },
   "outputs": [],
   "source": [
    "import numpy as np\n",
    "import pandas as pd\n",
    "import matplotlib.pyplot as plt\n",
    "from sklearn.model_selection import train_test_split\n",
    "from sklearn.metrics import mean_squared_error\n",
    "import seaborn as sns\n",
    "from sklearn.metrics import mean_squared_error\n",
    "from sklearn.model_selection import KFold\n",
    "import gc"
   ]
  },
  {
   "cell_type": "code",
   "execution_count": 36,
   "id": "d675fdd5",
   "metadata": {},
   "outputs": [],
   "source": [
    "y = df_train_imputed['price'] \n",
    "X = df_train_imputed.drop(['price'],axis=1)"
   ]
  },
  {
   "cell_type": "code",
   "execution_count": 37,
   "id": "8ca4bc10",
   "metadata": {},
   "outputs": [
    {
     "data": {
      "text/plain": [
       "((188533, 13), (188533,))"
      ]
     },
     "execution_count": 37,
     "metadata": {},
     "output_type": "execute_result"
    }
   ],
   "source": [
    "X.shape, y.shape"
   ]
  },
  {
   "cell_type": "code",
   "execution_count": 38,
   "id": "1282f158",
   "metadata": {},
   "outputs": [],
   "source": [
    "from sklearn.model_selection import train_test_split\n",
    "\n",
    "# using the train test split function \n",
    "X_train, X_test, y_train, y_test = train_test_split(X, y , random_state=73, test_size=0.25, shuffle=True)"
   ]
  },
  {
   "cell_type": "code",
   "execution_count": 39,
   "id": "4a22e9a4",
   "metadata": {},
   "outputs": [
    {
     "data": {
      "text/plain": [
       "((141399, 13), (47134, 13), (141399,), (47134,))"
      ]
     },
     "execution_count": 39,
     "metadata": {},
     "output_type": "execute_result"
    }
   ],
   "source": [
    "X_train.shape, X_test.shape, y_train.shape, y_test.shape"
   ]
  },
  {
   "cell_type": "code",
   "execution_count": 40,
   "id": "e5f9f0dc",
   "metadata": {
    "execution": {
     "iopub.execute_input": "2024-11-16T16:14:44.651066Z",
     "iopub.status.busy": "2024-11-16T16:14:44.650228Z",
     "iopub.status.idle": "2024-11-16T16:17:36.847945Z",
     "shell.execute_reply": "2024-11-16T16:17:36.846693Z"
    },
    "papermill": {
     "duration": 172.253287,
     "end_time": "2024-11-16T16:17:36.876333",
     "exception": false,
     "start_time": "2024-11-16T16:14:44.623046",
     "status": "completed"
    },
    "tags": []
   },
   "outputs": [],
   "source": [
    "\n",
    "from sklearn.preprocessing import StandardScaler\n",
    "scaler = StandardScaler()\n",
    "scaled_train_data = scaler.fit_transform(X)\n",
    "scaled_test_data = scaler.transform(df_test_imputed)"
   ]
  },
  {
   "cell_type": "code",
   "execution_count": 41,
   "id": "2273625a",
   "metadata": {},
   "outputs": [],
   "source": [
    "from sklearn.svm import SVR\n",
    "from sklearn.metrics import mean_squared_error, r2_score\n",
    "\n",
    "svm = SVR()"
   ]
  },
  {
   "cell_type": "code",
   "execution_count": 42,
   "id": "cf086034",
   "metadata": {},
   "outputs": [],
   "source": [
    "param_grid = { \n",
    "    'kernel': ['linear', 'poly', 'rbf', 'sigmoid'],\n",
    "    'C': [0.1, 1, 10, 100], \n",
    "    'gamma': ['scale', 'auto']\n",
    "    }"
   ]
  },
  {
   "cell_type": "code",
   "execution_count": 43,
   "id": "3a6a5066",
   "metadata": {},
   "outputs": [],
   "source": [
    "from sklearn.model_selection import GridSearchCV\n",
    "\n",
    "grid_search = GridSearchCV(svm, param_grid, cv=5, scoring='neg_mean_squared_error', verbose=1, n_jobs=-1)"
   ]
  },
  {
   "cell_type": "code",
   "execution_count": null,
   "id": "64969840",
   "metadata": {},
   "outputs": [
    {
     "name": "stdout",
     "output_type": "stream",
     "text": [
      "Fitting 5 folds for each of 32 candidates, totalling 160 fits\n"
     ]
    }
   ],
   "source": [
    "# Train the model using the best found hyperparameters \n",
    "grid_search.fit(X_train, y_train)"
   ]
  },
  {
   "cell_type": "code",
   "execution_count": null,
   "id": "90328ad4",
   "metadata": {},
   "outputs": [],
   "source": [
    "best_model = grid_search.best_estimator_"
   ]
  },
  {
   "cell_type": "code",
   "execution_count": null,
   "id": "724ce7bf",
   "metadata": {},
   "outputs": [],
   "source": [
    "# Evaluate the model"
   ]
  }
 ],
 "metadata": {
  "kaggle": {
   "accelerator": "none",
   "dataSources": [
    {
     "databundleVersionId": 9057646,
     "sourceId": 76728,
     "sourceType": "competition"
    }
   ],
   "dockerImageVersionId": 30786,
   "isGpuEnabled": false,
   "isInternetEnabled": false,
   "language": "python",
   "sourceType": "notebook"
  },
  "kernelspec": {
   "display_name": "Python 3",
   "language": "python",
   "name": "python3"
  },
  "language_info": {
   "codemirror_mode": {
    "name": "ipython",
    "version": 3
   },
   "file_extension": ".py",
   "mimetype": "text/x-python",
   "name": "python",
   "nbconvert_exporter": "python",
   "pygments_lexer": "ipython3",
   "version": "3.9.11"
  },
  "papermill": {
   "default_parameters": {},
   "duration": 345.841741,
   "end_time": "2024-11-16T16:20:11.222861",
   "environment_variables": {},
   "exception": null,
   "input_path": "__notebook__.ipynb",
   "output_path": "__notebook__.ipynb",
   "parameters": {},
   "start_time": "2024-11-16T16:14:25.381120",
   "version": "2.6.0"
  }
 },
 "nbformat": 4,
 "nbformat_minor": 5
}
